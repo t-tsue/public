{
  "nbformat": 4,
  "nbformat_minor": 0,
  "metadata": {
    "colab": {
      "provenance": [],
      "gpuType": "T4",
      "include_colab_link": true
    },
    "kernelspec": {
      "name": "python3",
      "display_name": "Python 3"
    },
    "language_info": {
      "name": "python"
    },
    "accelerator": "GPU"
  },
  "cells": [
    {
      "cell_type": "markdown",
      "metadata": {
        "id": "view-in-github",
        "colab_type": "text"
      },
      "source": [
        "<a href=\"https://colab.research.google.com/github/t-tsue/public/blob/main/PBL02_sample_swin_v2_b_bin2_ep50_special.ipynb\" target=\"_parent\"><img src=\"https://colab.research.google.com/assets/colab-badge.svg\" alt=\"Open In Colab\"/></a>"
      ]
    },
    {
      "cell_type": "code",
      "execution_count": 1,
      "metadata": {
        "colab": {
          "base_uri": "https://localhost:8080/"
        },
        "id": "6mq5yjPE4YwK",
        "outputId": "243783a1-dda9-4445-b5ed-8519efbedd4b"
      },
      "outputs": [
        {
          "output_type": "stream",
          "name": "stdout",
          "text": [
            "Mounted at /content/drive\n"
          ]
        }
      ],
      "source": [
        "from google.colab import drive\n",
        "drive.mount('/content/drive')\n",
        "DIR='/content/drive/My Drive/DXQuest_PBL02/'"
      ]
    },
    {
      "cell_type": "code",
      "source": [
        "from PIL import Image\n",
        "import matplotlib.pyplot as plt\n",
        "import numpy as np\n",
        "import os\n",
        "import glob\n",
        "import pandas as pd\n",
        "\n",
        "train_files = glob.glob(os.path.join(DIR,'train', '*/*.jpeg'))\n",
        "test_files = sorted(glob.glob(os.path.join(DIR,'test', '*.jpeg')))\n",
        "\n",
        "train_df = pd.DataFrame(train_files, columns=['file_name'])\n",
        "test_df = pd.DataFrame(test_files, columns=['file_name'])"
      ],
      "metadata": {
        "id": "9IvJX4A74kbA"
      },
      "execution_count": 2,
      "outputs": []
    },
    {
      "cell_type": "code",
      "source": [
        "def get_label(x):\n",
        "  # (regular → horn)\n",
        "  # regular_008.jpeg\n",
        "  #if 'regular_008' in x:\n",
        "  #  return 1\n",
        "\n",
        "  # (horn → regular)\n",
        "  # horn_016.jpeg\n",
        "  #if 'horn_016' in x:\n",
        "  #  return 0\n",
        "\n",
        "  #(potato → regular)\n",
        "  # potato_037.jpeg\n",
        "  #if 'potato_037' in x:\n",
        "  #  return 0\n",
        "\n",
        "  if 'bridge' in x:\n",
        "    return 1\n",
        "  elif 'horn' in x:\n",
        "    return 1\n",
        "  elif 'potato' in x:\n",
        "    return 1\n",
        "  else:\n",
        "    return 0\n",
        "\n",
        "train_df['label'] = train_df['file_name'].apply(get_label)"
      ],
      "metadata": {
        "id": "-H1k16py5S95"
      },
      "execution_count": 3,
      "outputs": []
    },
    {
      "cell_type": "code",
      "source": [
        "import matplotlib.pyplot as plt\n",
        "import torch\n",
        "import torch.nn as nn\n",
        "import torch.nn.functional as F\n",
        "import torchvision\n",
        "import torchvision.transforms as transforms\n",
        "from torchvision import models\n",
        "import torch.optim as optim\n",
        "import random\n",
        "import torch.utils.data as data\n",
        "from tqdm import tqdm\n",
        "from torch.utils.data import Dataset, DataLoader\n",
        "from sklearn.metrics import accuracy_score,f1_score,recall_score,precision_score\n",
        "from sklearn.model_selection import StratifiedKFold"
      ],
      "metadata": {
        "id": "AAu7XoE37Y08"
      },
      "execution_count": 4,
      "outputs": []
    },
    {
      "cell_type": "code",
      "source": [
        "device = \"cuda\" if torch.cuda.is_available() else \"cpu\"\n",
        "#torch.set_default_device(device)"
      ],
      "metadata": {
        "id": "GE3HQnj1QdvH"
      },
      "execution_count": 5,
      "outputs": []
    },
    {
      "cell_type": "code",
      "source": [
        "SIZE = 272\n",
        "CSIZE = 256\n",
        "MEAN = (0.485, 0.456, 0.406)\n",
        "STD = (0.229, 0.224, 0.225)\n",
        "\n",
        "class ImageTransform():\n",
        "  def __init__(self, phase, resize = SIZE, csize=CSIZE, mean = MEAN, std = STD):\n",
        "    self.phase = phase\n",
        "    if phase == 'train':\n",
        "      self.data_transform = transforms.Compose([\n",
        "          transforms.RandomResizedCrop(csize,scale=(0.9,1)),\n",
        "          transforms.RandomHorizontalFlip(),\n",
        "          transforms.RandomVerticalFlip(),\n",
        "          transforms.RandomRotation(degrees=(-10,10)),\n",
        "          transforms.ToTensor(),\n",
        "          transforms.Normalize(mean, std)\n",
        "      ])\n",
        "    else:\n",
        "      self.data_transform = transforms.Compose([\n",
        "          transforms.Resize(resize),\n",
        "          transforms.CenterCrop(csize),\n",
        "          transforms.ToTensor(),\n",
        "          transforms.Normalize(mean, std)\n",
        "      ])\n",
        "\n",
        "  def __call__(self, img):\n",
        "    return self.data_transform(img)"
      ],
      "metadata": {
        "id": "XwFLxcPpFwKM"
      },
      "execution_count": 6,
      "outputs": []
    },
    {
      "cell_type": "code",
      "source": [
        "class CustomDataset(Dataset):\n",
        "  def __init__(self, df, phase='train'):\n",
        "    self.df = df\n",
        "    self.transform = ImageTransform(phase)\n",
        "    self.phase = phase\n",
        "\n",
        "  def __len__(self):\n",
        "    return len(self.df)\n",
        "\n",
        "  def __getitem__(self, index):\n",
        "    if self.phase != 'test':\n",
        "      img_path = self.df.iloc[index]['file_name']\n",
        "      img = Image.open(img_path)\n",
        "      img_transformed = self.transform(img)\n",
        "      label = self.df.iloc[index]['label']\n",
        "      return img_transformed, label\n",
        "    else:\n",
        "      img_path = self.df.iloc[index]['file_name']\n",
        "      img = Image.open(img_path)\n",
        "      img_transformed = self.transform(img)\n",
        "      return img_transformed\n"
      ],
      "metadata": {
        "id": "mlW6s3LQHICs"
      },
      "execution_count": 7,
      "outputs": []
    },
    {
      "cell_type": "code",
      "source": [
        "def train_model(net, dataloader_dict, criterion, optimizer, num_epochs, iter):\n",
        "  best_loss = 99\n",
        "  best_acc = 0\n",
        "  scores=[]\n",
        "  net.to(device)\n",
        "  # epochのループ\n",
        "  for epoch in range(num_epochs):\n",
        "    print('Epoch {}/{}'.format(epoch+1, num_epochs))\n",
        "    print('-------------')\n",
        "    for phase in ['train', 'val']:\n",
        "      if phase == 'train':\n",
        "        net.train()  # モデルを訓練モードに\n",
        "      else:\n",
        "        net.eval()   # モデルを検証モードに\n",
        "\n",
        "      # epochごとの学習と検証のループ\n",
        "\n",
        "      epoch_loss = 0.0  # epochの損失和\n",
        "      epoch_corrects = 0  # epochの正解数\n",
        "\n",
        "\n",
        "      # データローダーからミニバッチを取り出すループ\n",
        "      dataloader = dataloader_dict[phase]\n",
        "      for inputs, labels in tqdm(dataloader):\n",
        "\n",
        "        # optimizerを初期化\n",
        "        optimizer.zero_grad()\n",
        "        inputs = inputs.to(device)\n",
        "        labels = labels.to(device)\n",
        "\n",
        "        # 順伝搬（forward）計算\n",
        "        with torch.set_grad_enabled(phase=='train'):\n",
        "          outputs = net(inputs)\n",
        "          loss = criterion(outputs, labels)  # 損失を計算\n",
        "          _, preds = torch.max(outputs, 1)  # ラベルを予測\n",
        "\n",
        "\n",
        "          # 訓練時はバックプロパゲーション\n",
        "          if phase == 'train':\n",
        "            loss.backward()\n",
        "            optimizer.step()\n",
        "\n",
        "          # イタレーション結果の計算\n",
        "          # lossの合計を更新\n",
        "          epoch_loss += loss.item() * inputs.size(0)\n",
        "          # 正解数の合計を更新\n",
        "          epoch_corrects += torch.sum(preds == labels.data)\n",
        "\n",
        "      # epochごとのlossと正解率を表示\n",
        "      epoch_loss = epoch_loss / len(dataloader.dataset)\n",
        "      epoch_acc = epoch_corrects.double(\n",
        "      ) / len(dataloader.dataset)\n",
        "\n",
        "      print('{} Loss: {:.4f} Acc: {:.4f}'.format(\n",
        "          phase, epoch_loss, epoch_acc))\n",
        "      if phase == 'val':\n",
        "        if epoch_loss <= best_loss:\n",
        "          best_loss = epoch_loss\n",
        "          torch.save(net.to('cpu').state_dict(), os.path.join(MODEL_DIR, f'swin_v2_b_seed{seed}_ep{EPOCHS}_{iter}_best_loss_bin2.pth'))\n",
        "          net.to(device)\n",
        "        if epoch_acc >= best_acc:\n",
        "          best_acc = epoch_acc\n",
        "          torch.save(net.to('cpu').state_dict(), os.path.join(MODEL_DIR, f'swin_v2_b_seed{seed}_ep{EPOCHS}_{iter}_best_acc_bin2.pth'))\n",
        "          net.to(device)\n",
        "      scores.append([iter, epoch, phase, epoch_loss, epoch_acc])\n",
        "  return net, pd.DataFrame(scores, columns=['iter', 'epoch', 'phase', 'loss', 'acc'])"
      ],
      "metadata": {
        "id": "Y-2Bk44NH5NJ"
      },
      "execution_count": 8,
      "outputs": []
    },
    {
      "cell_type": "code",
      "source": [
        "BATCH_SIZE = 60\n",
        "EPOCHS = 50\n",
        "LEARNING_RATE = 0.001\n",
        "#MOMENTUM = 0.9\n",
        "\n",
        "def get_model():\n",
        "  weights = models.Swin_V2_B_Weights.IMAGENET1K_V1  # 学習済みのパラメータを使用\n",
        "  net = models.swin_v2_b(weights=weights)\n",
        "  net.head = nn.Linear(in_features=1024, out_features=2, bias=True)\n",
        "  return net\n",
        "\n",
        "def get_criterion():\n",
        "  criterion = nn.CrossEntropyLoss()\n",
        "  return criterion\n",
        "\n",
        "def get_optimizer(net):\n",
        "  params_to_update = []\n",
        "\n",
        "  update_param_names = [\"head.weight\",\n",
        "                        \"head.bias\",\n",
        "                        \"norm.weight\",\n",
        "                        \"norm.bias\",\n",
        "                        \"features.7.1.mlp.3.weight\",\n",
        "                        \"features.7.1.mlp.3.bias\",\n",
        "                        ]\n",
        "  for name, param in net.named_parameters():\n",
        "    if name in update_param_names:\n",
        "      param.requires_grad = True\n",
        "      params_to_update.append(param)\n",
        "    else:\n",
        "      param.requires_grad = False\n",
        "\n",
        "  optimizer = optim.Adam(params_to_update, lr=LEARNING_RATE, )\n",
        "  return optimizer"
      ],
      "metadata": {
        "id": "b13o03aMKR5u"
      },
      "execution_count": 9,
      "outputs": []
    },
    {
      "cell_type": "code",
      "source": [
        "def predict(net, dataloader):\n",
        "  net = net.to(device)\n",
        "  net.eval()\n",
        "  result=[]\n",
        "  for inputs in dataloader:\n",
        "    outputs = net(inputs.to(device))\n",
        "    outputs = list(outputs.detach().cpu().numpy())\n",
        "    result.extend(outputs)\n",
        "  return np.argmax(np.array(result),axis=1)\n",
        "\n",
        "def predict_proba(net, dataloader):\n",
        "  net = net.to(device)\n",
        "  net.eval()\n",
        "  result=[]\n",
        "  for inputs in dataloader:\n",
        "    outputs = net(inputs.to(device))\n",
        "    outputs = list(outputs.detach().cpu().numpy())\n",
        "    result.extend(outputs)\n",
        "  result = np.array(result)\n",
        "  pred_0 = result[:,0]\n",
        "  pred_1 = result[:,1]\n",
        "  return np.exp(pred_1)/(np.exp(pred_0)+np.exp(pred_1))\n",
        "\n",
        "def get_score(y_true, y_pred):\n",
        "  y_true = (y_true > 0).astype(int)\n",
        "  y_pred = (y_pred > 0).astype(int)\n",
        "  acc = accuracy_score(y_true, y_pred)\n",
        "  recall = recall_score(y_true, y_pred)\n",
        "  precision = precision_score(y_true, y_pred)\n",
        "  f1 = f1_score(y_true, y_pred)\n",
        "  return [acc, recall, precision, f1]\n",
        "\n",
        "SEED=42\n",
        "\n",
        "def init_seed(seed):\n",
        "    torch.manual_seed(seed)\n",
        "    torch.cuda.manual_seed(seed)\n",
        "    torch.cuda.manual_seed_all(seed)\n",
        "    np.random.seed(seed)\n",
        "    random.seed(seed)\n",
        "    torch.backends.cudnn.deterministic = True\n",
        "    torch.backends.cudnn.benchmark = False\n",
        "\n",
        "def seed_worker(worker_id):\n",
        "    worker_seed = torch.initial_seed() % 2**32\n",
        "    np.random.seed(worker_seed)\n",
        "    random.seed(worker_seed)\n",
        "scores = pd.DataFrame()\n",
        "for seed in range(1):\n",
        "  seed = SEED + seed\n",
        "  init_seed(seed)\n",
        "  g = torch.Generator()\n",
        "  g.manual_seed(seed)\n",
        "  skf = StratifiedKFold(n_splits=8, shuffle=True, random_state=seed)\n",
        "  X = train_df\n",
        "  y = train_df['label']\n",
        "  MODEL_DIR=os.path.join(DIR,'model')\n",
        "  os.makedirs(MODEL_DIR, exist_ok=True)\n",
        "  for iter, (train_index, test_index) in enumerate(skf.split(X, y)):\n",
        "    if iter == 0:\n",
        "      continue\n",
        "    X_train, X_val = X.iloc[train_index], X.iloc[test_index]\n",
        "    y_train, y_val = y.iloc[train_index], y.iloc[test_index]\n",
        "\n",
        "    train_dataset = CustomDataset(X_train, phase='train')\n",
        "    train_dataloader = torch.utils.data.DataLoader(train_dataset, batch_size=BATCH_SIZE, shuffle=True,\n",
        "                                                    worker_init_fn=seed_worker,generator=g)\n",
        "    val_dataset = CustomDataset(X_val, phase='val')\n",
        "    val_dataloader = torch.utils.data.DataLoader(val_dataset, batch_size=BATCH_SIZE, shuffle=False)\n",
        "\n",
        "    net = get_model()\n",
        "    criterion = get_criterion()\n",
        "    optimizer = get_optimizer(net)\n",
        "    dataloader_dict = {'train': train_dataloader, 'val': val_dataloader}\n",
        "    net,score = train_model(net, dataloader_dict, criterion, optimizer, EPOCHS, iter)\n",
        "    torch.save(net.to('cpu').state_dict(), os.path.join(MODEL_DIR, f'swin_v2_b_seed{seed}_ep{EPOCHS}_{iter}_bin2.pth'))\n",
        "    scores = pd.concat([scores, score])\n",
        "    break"
      ],
      "metadata": {
        "colab": {
          "base_uri": "https://localhost:8080/"
        },
        "id": "loVy37R8LrFy",
        "outputId": "89cd928b-e1d5-4603-99c2-691ffada981f",
        "collapsed": true
      },
      "execution_count": 10,
      "outputs": [
        {
          "output_type": "stream",
          "name": "stderr",
          "text": [
            "Downloading: \"https://download.pytorch.org/models/swin_v2_b-781e5279.pth\" to /root/.cache/torch/hub/checkpoints/swin_v2_b-781e5279.pth\n",
            "100%|██████████| 336M/336M [00:03<00:00, 105MB/s]\n"
          ]
        },
        {
          "output_type": "stream",
          "name": "stdout",
          "text": [
            "Epoch 1/50\n",
            "-------------\n"
          ]
        },
        {
          "output_type": "stream",
          "name": "stderr",
          "text": [
            "100%|██████████| 5/5 [03:05<00:00, 37.19s/it]\n"
          ]
        },
        {
          "output_type": "stream",
          "name": "stdout",
          "text": [
            "train Loss: 0.7685 Acc: 0.6522\n"
          ]
        },
        {
          "output_type": "stream",
          "name": "stderr",
          "text": [
            "100%|██████████| 1/1 [00:27<00:00, 27.95s/it]\n"
          ]
        },
        {
          "output_type": "stream",
          "name": "stdout",
          "text": [
            "val Loss: 0.7128 Acc: 0.3784\n",
            "Epoch 2/50\n",
            "-------------\n"
          ]
        },
        {
          "output_type": "stream",
          "name": "stderr",
          "text": [
            "100%|██████████| 5/5 [00:42<00:00,  8.52s/it]\n"
          ]
        },
        {
          "output_type": "stream",
          "name": "stdout",
          "text": [
            "train Loss: 0.6792 Acc: 0.6047\n"
          ]
        },
        {
          "output_type": "stream",
          "name": "stderr",
          "text": [
            "100%|██████████| 1/1 [00:04<00:00,  4.46s/it]\n"
          ]
        },
        {
          "output_type": "stream",
          "name": "stdout",
          "text": [
            "val Loss: 0.6484 Acc: 0.6486\n",
            "Epoch 3/50\n",
            "-------------\n"
          ]
        },
        {
          "output_type": "stream",
          "name": "stderr",
          "text": [
            "100%|██████████| 5/5 [00:40<00:00,  8.10s/it]\n"
          ]
        },
        {
          "output_type": "stream",
          "name": "stdout",
          "text": [
            "train Loss: 0.6717 Acc: 0.6561\n"
          ]
        },
        {
          "output_type": "stream",
          "name": "stderr",
          "text": [
            "100%|██████████| 1/1 [00:04<00:00,  4.51s/it]\n"
          ]
        },
        {
          "output_type": "stream",
          "name": "stdout",
          "text": [
            "val Loss: 0.6490 Acc: 0.6486\n",
            "Epoch 4/50\n",
            "-------------\n"
          ]
        },
        {
          "output_type": "stream",
          "name": "stderr",
          "text": [
            "100%|██████████| 5/5 [00:37<00:00,  7.58s/it]\n"
          ]
        },
        {
          "output_type": "stream",
          "name": "stdout",
          "text": [
            "train Loss: 0.6126 Acc: 0.6680\n"
          ]
        },
        {
          "output_type": "stream",
          "name": "stderr",
          "text": [
            "100%|██████████| 1/1 [00:05<00:00,  5.16s/it]\n"
          ]
        },
        {
          "output_type": "stream",
          "name": "stdout",
          "text": [
            "val Loss: 0.6033 Acc: 0.8108\n",
            "Epoch 5/50\n",
            "-------------\n"
          ]
        },
        {
          "output_type": "stream",
          "name": "stderr",
          "text": [
            "100%|██████████| 5/5 [00:39<00:00,  7.95s/it]\n"
          ]
        },
        {
          "output_type": "stream",
          "name": "stdout",
          "text": [
            "train Loss: 0.6352 Acc: 0.6561\n"
          ]
        },
        {
          "output_type": "stream",
          "name": "stderr",
          "text": [
            "100%|██████████| 1/1 [00:05<00:00,  5.60s/it]\n"
          ]
        },
        {
          "output_type": "stream",
          "name": "stdout",
          "text": [
            "val Loss: 0.5806 Acc: 0.6486\n",
            "Epoch 6/50\n",
            "-------------\n"
          ]
        },
        {
          "output_type": "stream",
          "name": "stderr",
          "text": [
            "100%|██████████| 5/5 [00:38<00:00,  7.60s/it]\n"
          ]
        },
        {
          "output_type": "stream",
          "name": "stdout",
          "text": [
            "train Loss: 0.6200 Acc: 0.6601\n"
          ]
        },
        {
          "output_type": "stream",
          "name": "stderr",
          "text": [
            "100%|██████████| 1/1 [00:04<00:00,  4.92s/it]\n"
          ]
        },
        {
          "output_type": "stream",
          "name": "stdout",
          "text": [
            "val Loss: 0.6427 Acc: 0.6486\n",
            "Epoch 7/50\n",
            "-------------\n"
          ]
        },
        {
          "output_type": "stream",
          "name": "stderr",
          "text": [
            "100%|██████████| 5/5 [00:35<00:00,  7.20s/it]\n"
          ]
        },
        {
          "output_type": "stream",
          "name": "stdout",
          "text": [
            "train Loss: 0.6351 Acc: 0.6601\n"
          ]
        },
        {
          "output_type": "stream",
          "name": "stderr",
          "text": [
            "100%|██████████| 1/1 [00:05<00:00,  5.73s/it]\n"
          ]
        },
        {
          "output_type": "stream",
          "name": "stdout",
          "text": [
            "val Loss: 0.5704 Acc: 0.6486\n",
            "Epoch 8/50\n",
            "-------------\n"
          ]
        },
        {
          "output_type": "stream",
          "name": "stderr",
          "text": [
            "100%|██████████| 5/5 [00:37<00:00,  7.55s/it]\n"
          ]
        },
        {
          "output_type": "stream",
          "name": "stdout",
          "text": [
            "train Loss: 0.5743 Acc: 0.7273\n"
          ]
        },
        {
          "output_type": "stream",
          "name": "stderr",
          "text": [
            "100%|██████████| 1/1 [00:05<00:00,  5.14s/it]\n"
          ]
        },
        {
          "output_type": "stream",
          "name": "stdout",
          "text": [
            "val Loss: 0.5707 Acc: 0.8108\n",
            "Epoch 9/50\n",
            "-------------\n"
          ]
        },
        {
          "output_type": "stream",
          "name": "stderr",
          "text": [
            "100%|██████████| 5/5 [00:37<00:00,  7.53s/it]\n"
          ]
        },
        {
          "output_type": "stream",
          "name": "stdout",
          "text": [
            "train Loss: 0.5927 Acc: 0.7036\n"
          ]
        },
        {
          "output_type": "stream",
          "name": "stderr",
          "text": [
            "100%|██████████| 1/1 [00:04<00:00,  4.67s/it]\n"
          ]
        },
        {
          "output_type": "stream",
          "name": "stdout",
          "text": [
            "val Loss: 0.5525 Acc: 0.8108\n",
            "Epoch 10/50\n",
            "-------------\n"
          ]
        },
        {
          "output_type": "stream",
          "name": "stderr",
          "text": [
            "100%|██████████| 5/5 [00:39<00:00,  7.86s/it]\n"
          ]
        },
        {
          "output_type": "stream",
          "name": "stdout",
          "text": [
            "train Loss: 0.5630 Acc: 0.7075\n"
          ]
        },
        {
          "output_type": "stream",
          "name": "stderr",
          "text": [
            "100%|██████████| 1/1 [00:06<00:00,  6.10s/it]\n"
          ]
        },
        {
          "output_type": "stream",
          "name": "stdout",
          "text": [
            "val Loss: 0.5652 Acc: 0.6486\n",
            "Epoch 11/50\n",
            "-------------\n"
          ]
        },
        {
          "output_type": "stream",
          "name": "stderr",
          "text": [
            "100%|██████████| 5/5 [00:36<00:00,  7.21s/it]\n"
          ]
        },
        {
          "output_type": "stream",
          "name": "stdout",
          "text": [
            "train Loss: 0.5677 Acc: 0.6877\n"
          ]
        },
        {
          "output_type": "stream",
          "name": "stderr",
          "text": [
            "100%|██████████| 1/1 [00:05<00:00,  5.63s/it]\n"
          ]
        },
        {
          "output_type": "stream",
          "name": "stdout",
          "text": [
            "val Loss: 0.5536 Acc: 0.6757\n",
            "Epoch 12/50\n",
            "-------------\n"
          ]
        },
        {
          "output_type": "stream",
          "name": "stderr",
          "text": [
            "100%|██████████| 5/5 [00:36<00:00,  7.36s/it]\n"
          ]
        },
        {
          "output_type": "stream",
          "name": "stdout",
          "text": [
            "train Loss: 0.5579 Acc: 0.7273\n"
          ]
        },
        {
          "output_type": "stream",
          "name": "stderr",
          "text": [
            "100%|██████████| 1/1 [00:05<00:00,  5.14s/it]\n"
          ]
        },
        {
          "output_type": "stream",
          "name": "stdout",
          "text": [
            "val Loss: 0.5351 Acc: 0.8108\n",
            "Epoch 13/50\n",
            "-------------\n"
          ]
        },
        {
          "output_type": "stream",
          "name": "stderr",
          "text": [
            "100%|██████████| 5/5 [00:39<00:00,  7.96s/it]\n"
          ]
        },
        {
          "output_type": "stream",
          "name": "stdout",
          "text": [
            "train Loss: 0.5396 Acc: 0.7194\n"
          ]
        },
        {
          "output_type": "stream",
          "name": "stderr",
          "text": [
            "100%|██████████| 1/1 [00:04<00:00,  4.52s/it]\n"
          ]
        },
        {
          "output_type": "stream",
          "name": "stdout",
          "text": [
            "val Loss: 0.5226 Acc: 0.8108\n",
            "Epoch 14/50\n",
            "-------------\n"
          ]
        },
        {
          "output_type": "stream",
          "name": "stderr",
          "text": [
            "100%|██████████| 5/5 [00:39<00:00,  8.00s/it]\n"
          ]
        },
        {
          "output_type": "stream",
          "name": "stdout",
          "text": [
            "train Loss: 0.5377 Acc: 0.7273\n"
          ]
        },
        {
          "output_type": "stream",
          "name": "stderr",
          "text": [
            "100%|██████████| 1/1 [00:05<00:00,  5.24s/it]\n"
          ]
        },
        {
          "output_type": "stream",
          "name": "stdout",
          "text": [
            "val Loss: 0.5340 Acc: 0.7838\n",
            "Epoch 15/50\n",
            "-------------\n"
          ]
        },
        {
          "output_type": "stream",
          "name": "stderr",
          "text": [
            "100%|██████████| 5/5 [00:37<00:00,  7.40s/it]\n"
          ]
        },
        {
          "output_type": "stream",
          "name": "stdout",
          "text": [
            "train Loss: 0.5339 Acc: 0.7510\n"
          ]
        },
        {
          "output_type": "stream",
          "name": "stderr",
          "text": [
            "100%|██████████| 1/1 [00:04<00:00,  4.76s/it]\n"
          ]
        },
        {
          "output_type": "stream",
          "name": "stdout",
          "text": [
            "val Loss: 0.5199 Acc: 0.7838\n",
            "Epoch 16/50\n",
            "-------------\n"
          ]
        },
        {
          "output_type": "stream",
          "name": "stderr",
          "text": [
            "100%|██████████| 5/5 [00:37<00:00,  7.53s/it]\n"
          ]
        },
        {
          "output_type": "stream",
          "name": "stdout",
          "text": [
            "train Loss: 0.5345 Acc: 0.7510\n"
          ]
        },
        {
          "output_type": "stream",
          "name": "stderr",
          "text": [
            "100%|██████████| 1/1 [00:05<00:00,  5.47s/it]\n"
          ]
        },
        {
          "output_type": "stream",
          "name": "stdout",
          "text": [
            "val Loss: 0.4962 Acc: 0.8108\n",
            "Epoch 17/50\n",
            "-------------\n"
          ]
        },
        {
          "output_type": "stream",
          "name": "stderr",
          "text": [
            "100%|██████████| 5/5 [00:40<00:00,  8.04s/it]\n"
          ]
        },
        {
          "output_type": "stream",
          "name": "stdout",
          "text": [
            "train Loss: 0.5440 Acc: 0.7470\n"
          ]
        },
        {
          "output_type": "stream",
          "name": "stderr",
          "text": [
            "100%|██████████| 1/1 [00:04<00:00,  4.57s/it]\n"
          ]
        },
        {
          "output_type": "stream",
          "name": "stdout",
          "text": [
            "val Loss: 0.4770 Acc: 0.8108\n",
            "Epoch 18/50\n",
            "-------------\n"
          ]
        },
        {
          "output_type": "stream",
          "name": "stderr",
          "text": [
            "100%|██████████| 5/5 [00:39<00:00,  7.83s/it]\n"
          ]
        },
        {
          "output_type": "stream",
          "name": "stdout",
          "text": [
            "train Loss: 0.5396 Acc: 0.7470\n"
          ]
        },
        {
          "output_type": "stream",
          "name": "stderr",
          "text": [
            "100%|██████████| 1/1 [00:05<00:00,  5.79s/it]\n"
          ]
        },
        {
          "output_type": "stream",
          "name": "stdout",
          "text": [
            "val Loss: 0.4821 Acc: 0.8108\n",
            "Epoch 19/50\n",
            "-------------\n"
          ]
        },
        {
          "output_type": "stream",
          "name": "stderr",
          "text": [
            "100%|██████████| 5/5 [00:37<00:00,  7.54s/it]\n"
          ]
        },
        {
          "output_type": "stream",
          "name": "stdout",
          "text": [
            "train Loss: 0.5255 Acc: 0.7312\n"
          ]
        },
        {
          "output_type": "stream",
          "name": "stderr",
          "text": [
            "100%|██████████| 1/1 [00:06<00:00,  6.20s/it]\n"
          ]
        },
        {
          "output_type": "stream",
          "name": "stdout",
          "text": [
            "val Loss: 0.4627 Acc: 0.8108\n",
            "Epoch 20/50\n",
            "-------------\n"
          ]
        },
        {
          "output_type": "stream",
          "name": "stderr",
          "text": [
            "100%|██████████| 5/5 [00:39<00:00,  7.95s/it]\n"
          ]
        },
        {
          "output_type": "stream",
          "name": "stdout",
          "text": [
            "train Loss: 0.4874 Acc: 0.7826\n"
          ]
        },
        {
          "output_type": "stream",
          "name": "stderr",
          "text": [
            "100%|██████████| 1/1 [00:05<00:00,  5.50s/it]\n"
          ]
        },
        {
          "output_type": "stream",
          "name": "stdout",
          "text": [
            "val Loss: 0.4924 Acc: 0.8108\n",
            "Epoch 21/50\n",
            "-------------\n"
          ]
        },
        {
          "output_type": "stream",
          "name": "stderr",
          "text": [
            "100%|██████████| 5/5 [00:37<00:00,  7.51s/it]\n"
          ]
        },
        {
          "output_type": "stream",
          "name": "stdout",
          "text": [
            "train Loss: 0.5374 Acc: 0.7154\n"
          ]
        },
        {
          "output_type": "stream",
          "name": "stderr",
          "text": [
            "100%|██████████| 1/1 [00:05<00:00,  5.96s/it]\n"
          ]
        },
        {
          "output_type": "stream",
          "name": "stdout",
          "text": [
            "val Loss: 0.4873 Acc: 0.8108\n",
            "Epoch 22/50\n",
            "-------------\n"
          ]
        },
        {
          "output_type": "stream",
          "name": "stderr",
          "text": [
            "100%|██████████| 5/5 [00:38<00:00,  7.68s/it]\n"
          ]
        },
        {
          "output_type": "stream",
          "name": "stdout",
          "text": [
            "train Loss: 0.5215 Acc: 0.7352\n"
          ]
        },
        {
          "output_type": "stream",
          "name": "stderr",
          "text": [
            "100%|██████████| 1/1 [00:05<00:00,  5.75s/it]\n"
          ]
        },
        {
          "output_type": "stream",
          "name": "stdout",
          "text": [
            "val Loss: 0.4489 Acc: 0.8378\n",
            "Epoch 23/50\n",
            "-------------\n"
          ]
        },
        {
          "output_type": "stream",
          "name": "stderr",
          "text": [
            "100%|██████████| 5/5 [00:40<00:00,  8.06s/it]\n"
          ]
        },
        {
          "output_type": "stream",
          "name": "stdout",
          "text": [
            "train Loss: 0.5047 Acc: 0.7708\n"
          ]
        },
        {
          "output_type": "stream",
          "name": "stderr",
          "text": [
            "100%|██████████| 1/1 [00:04<00:00,  4.63s/it]\n"
          ]
        },
        {
          "output_type": "stream",
          "name": "stdout",
          "text": [
            "val Loss: 0.4518 Acc: 0.8108\n",
            "Epoch 24/50\n",
            "-------------\n"
          ]
        },
        {
          "output_type": "stream",
          "name": "stderr",
          "text": [
            "100%|██████████| 5/5 [00:37<00:00,  7.57s/it]\n"
          ]
        },
        {
          "output_type": "stream",
          "name": "stdout",
          "text": [
            "train Loss: 0.4802 Acc: 0.7866\n"
          ]
        },
        {
          "output_type": "stream",
          "name": "stderr",
          "text": [
            "100%|██████████| 1/1 [00:04<00:00,  4.56s/it]\n"
          ]
        },
        {
          "output_type": "stream",
          "name": "stdout",
          "text": [
            "val Loss: 0.4229 Acc: 0.8378\n",
            "Epoch 25/50\n",
            "-------------\n"
          ]
        },
        {
          "output_type": "stream",
          "name": "stderr",
          "text": [
            "100%|██████████| 5/5 [00:40<00:00,  8.00s/it]\n"
          ]
        },
        {
          "output_type": "stream",
          "name": "stdout",
          "text": [
            "train Loss: 0.4688 Acc: 0.8063\n"
          ]
        },
        {
          "output_type": "stream",
          "name": "stderr",
          "text": [
            "100%|██████████| 1/1 [00:04<00:00,  4.58s/it]\n"
          ]
        },
        {
          "output_type": "stream",
          "name": "stdout",
          "text": [
            "val Loss: 0.4141 Acc: 0.8108\n",
            "Epoch 26/50\n",
            "-------------\n"
          ]
        },
        {
          "output_type": "stream",
          "name": "stderr",
          "text": [
            "100%|██████████| 5/5 [00:38<00:00,  7.69s/it]\n"
          ]
        },
        {
          "output_type": "stream",
          "name": "stdout",
          "text": [
            "train Loss: 0.4794 Acc: 0.7708\n"
          ]
        },
        {
          "output_type": "stream",
          "name": "stderr",
          "text": [
            "100%|██████████| 1/1 [00:04<00:00,  4.93s/it]\n"
          ]
        },
        {
          "output_type": "stream",
          "name": "stdout",
          "text": [
            "val Loss: 0.4033 Acc: 0.8108\n",
            "Epoch 27/50\n",
            "-------------\n"
          ]
        },
        {
          "output_type": "stream",
          "name": "stderr",
          "text": [
            "100%|██████████| 5/5 [00:37<00:00,  7.53s/it]\n"
          ]
        },
        {
          "output_type": "stream",
          "name": "stdout",
          "text": [
            "train Loss: 0.5041 Acc: 0.7549\n"
          ]
        },
        {
          "output_type": "stream",
          "name": "stderr",
          "text": [
            "100%|██████████| 1/1 [00:05<00:00,  5.49s/it]\n"
          ]
        },
        {
          "output_type": "stream",
          "name": "stdout",
          "text": [
            "val Loss: 0.4079 Acc: 0.8108\n",
            "Epoch 28/50\n",
            "-------------\n"
          ]
        },
        {
          "output_type": "stream",
          "name": "stderr",
          "text": [
            "100%|██████████| 5/5 [00:36<00:00,  7.20s/it]\n"
          ]
        },
        {
          "output_type": "stream",
          "name": "stdout",
          "text": [
            "train Loss: 0.4542 Acc: 0.7905\n"
          ]
        },
        {
          "output_type": "stream",
          "name": "stderr",
          "text": [
            "100%|██████████| 1/1 [00:05<00:00,  5.32s/it]\n"
          ]
        },
        {
          "output_type": "stream",
          "name": "stdout",
          "text": [
            "val Loss: 0.3846 Acc: 0.8649\n",
            "Epoch 29/50\n",
            "-------------\n"
          ]
        },
        {
          "output_type": "stream",
          "name": "stderr",
          "text": [
            "100%|██████████| 5/5 [00:39<00:00,  7.98s/it]\n"
          ]
        },
        {
          "output_type": "stream",
          "name": "stdout",
          "text": [
            "train Loss: 0.5068 Acc: 0.7510\n"
          ]
        },
        {
          "output_type": "stream",
          "name": "stderr",
          "text": [
            "100%|██████████| 1/1 [00:05<00:00,  5.33s/it]\n"
          ]
        },
        {
          "output_type": "stream",
          "name": "stdout",
          "text": [
            "val Loss: 0.3786 Acc: 0.8649\n",
            "Epoch 30/50\n",
            "-------------\n"
          ]
        },
        {
          "output_type": "stream",
          "name": "stderr",
          "text": [
            "100%|██████████| 5/5 [00:40<00:00,  8.11s/it]\n"
          ]
        },
        {
          "output_type": "stream",
          "name": "stdout",
          "text": [
            "train Loss: 0.4325 Acc: 0.7708\n"
          ]
        },
        {
          "output_type": "stream",
          "name": "stderr",
          "text": [
            "100%|██████████| 1/1 [00:04<00:00,  4.70s/it]\n"
          ]
        },
        {
          "output_type": "stream",
          "name": "stdout",
          "text": [
            "val Loss: 0.3722 Acc: 0.8649\n",
            "Epoch 31/50\n",
            "-------------\n"
          ]
        },
        {
          "output_type": "stream",
          "name": "stderr",
          "text": [
            "100%|██████████| 5/5 [00:40<00:00,  8.08s/it]\n"
          ]
        },
        {
          "output_type": "stream",
          "name": "stdout",
          "text": [
            "train Loss: 0.4822 Acc: 0.7747\n"
          ]
        },
        {
          "output_type": "stream",
          "name": "stderr",
          "text": [
            "100%|██████████| 1/1 [00:04<00:00,  4.62s/it]\n"
          ]
        },
        {
          "output_type": "stream",
          "name": "stdout",
          "text": [
            "val Loss: 0.3581 Acc: 0.8919\n",
            "Epoch 32/50\n",
            "-------------\n"
          ]
        },
        {
          "output_type": "stream",
          "name": "stderr",
          "text": [
            "100%|██████████| 5/5 [00:39<00:00,  7.96s/it]\n"
          ]
        },
        {
          "output_type": "stream",
          "name": "stdout",
          "text": [
            "train Loss: 0.4766 Acc: 0.7668\n"
          ]
        },
        {
          "output_type": "stream",
          "name": "stderr",
          "text": [
            "100%|██████████| 1/1 [00:04<00:00,  4.56s/it]\n"
          ]
        },
        {
          "output_type": "stream",
          "name": "stdout",
          "text": [
            "val Loss: 0.3517 Acc: 0.8919\n",
            "Epoch 33/50\n",
            "-------------\n"
          ]
        },
        {
          "output_type": "stream",
          "name": "stderr",
          "text": [
            "100%|██████████| 5/5 [00:39<00:00,  7.96s/it]\n"
          ]
        },
        {
          "output_type": "stream",
          "name": "stdout",
          "text": [
            "train Loss: 0.5060 Acc: 0.7668\n"
          ]
        },
        {
          "output_type": "stream",
          "name": "stderr",
          "text": [
            "100%|██████████| 1/1 [00:04<00:00,  4.57s/it]\n"
          ]
        },
        {
          "output_type": "stream",
          "name": "stdout",
          "text": [
            "val Loss: 0.3565 Acc: 0.8919\n",
            "Epoch 34/50\n",
            "-------------\n"
          ]
        },
        {
          "output_type": "stream",
          "name": "stderr",
          "text": [
            "100%|██████████| 5/5 [00:38<00:00,  7.73s/it]\n"
          ]
        },
        {
          "output_type": "stream",
          "name": "stdout",
          "text": [
            "train Loss: 0.4617 Acc: 0.7984\n"
          ]
        },
        {
          "output_type": "stream",
          "name": "stderr",
          "text": [
            "100%|██████████| 1/1 [00:04<00:00,  4.56s/it]\n"
          ]
        },
        {
          "output_type": "stream",
          "name": "stdout",
          "text": [
            "val Loss: 0.3991 Acc: 0.8919\n",
            "Epoch 35/50\n",
            "-------------\n"
          ]
        },
        {
          "output_type": "stream",
          "name": "stderr",
          "text": [
            "100%|██████████| 5/5 [00:39<00:00,  7.86s/it]\n"
          ]
        },
        {
          "output_type": "stream",
          "name": "stdout",
          "text": [
            "train Loss: 0.4408 Acc: 0.8142\n"
          ]
        },
        {
          "output_type": "stream",
          "name": "stderr",
          "text": [
            "100%|██████████| 1/1 [00:04<00:00,  4.58s/it]\n"
          ]
        },
        {
          "output_type": "stream",
          "name": "stdout",
          "text": [
            "val Loss: 0.3847 Acc: 0.8378\n",
            "Epoch 36/50\n",
            "-------------\n"
          ]
        },
        {
          "output_type": "stream",
          "name": "stderr",
          "text": [
            "100%|██████████| 5/5 [00:37<00:00,  7.43s/it]\n"
          ]
        },
        {
          "output_type": "stream",
          "name": "stdout",
          "text": [
            "train Loss: 0.4376 Acc: 0.7945\n"
          ]
        },
        {
          "output_type": "stream",
          "name": "stderr",
          "text": [
            "100%|██████████| 1/1 [00:04<00:00,  4.55s/it]\n"
          ]
        },
        {
          "output_type": "stream",
          "name": "stdout",
          "text": [
            "val Loss: 0.3856 Acc: 0.8919\n",
            "Epoch 37/50\n",
            "-------------\n"
          ]
        },
        {
          "output_type": "stream",
          "name": "stderr",
          "text": [
            "100%|██████████| 5/5 [00:38<00:00,  7.75s/it]\n"
          ]
        },
        {
          "output_type": "stream",
          "name": "stdout",
          "text": [
            "train Loss: 0.4725 Acc: 0.7510\n"
          ]
        },
        {
          "output_type": "stream",
          "name": "stderr",
          "text": [
            "100%|██████████| 1/1 [00:04<00:00,  4.99s/it]\n"
          ]
        },
        {
          "output_type": "stream",
          "name": "stdout",
          "text": [
            "val Loss: 0.3912 Acc: 0.9189\n",
            "Epoch 38/50\n",
            "-------------\n"
          ]
        },
        {
          "output_type": "stream",
          "name": "stderr",
          "text": [
            "100%|██████████| 5/5 [00:37<00:00,  7.55s/it]\n"
          ]
        },
        {
          "output_type": "stream",
          "name": "stdout",
          "text": [
            "train Loss: 0.5105 Acc: 0.7589\n"
          ]
        },
        {
          "output_type": "stream",
          "name": "stderr",
          "text": [
            "100%|██████████| 1/1 [00:05<00:00,  5.41s/it]\n"
          ]
        },
        {
          "output_type": "stream",
          "name": "stdout",
          "text": [
            "val Loss: 0.4142 Acc: 0.8378\n",
            "Epoch 39/50\n",
            "-------------\n"
          ]
        },
        {
          "output_type": "stream",
          "name": "stderr",
          "text": [
            "100%|██████████| 5/5 [00:36<00:00,  7.37s/it]\n"
          ]
        },
        {
          "output_type": "stream",
          "name": "stdout",
          "text": [
            "train Loss: 0.4865 Acc: 0.7470\n"
          ]
        },
        {
          "output_type": "stream",
          "name": "stderr",
          "text": [
            "100%|██████████| 1/1 [00:04<00:00,  4.88s/it]\n"
          ]
        },
        {
          "output_type": "stream",
          "name": "stdout",
          "text": [
            "val Loss: 0.3638 Acc: 0.8919\n",
            "Epoch 40/50\n",
            "-------------\n"
          ]
        },
        {
          "output_type": "stream",
          "name": "stderr",
          "text": [
            "100%|██████████| 5/5 [00:37<00:00,  7.46s/it]\n"
          ]
        },
        {
          "output_type": "stream",
          "name": "stdout",
          "text": [
            "train Loss: 0.4869 Acc: 0.7747\n"
          ]
        },
        {
          "output_type": "stream",
          "name": "stderr",
          "text": [
            "100%|██████████| 1/1 [00:04<00:00,  4.64s/it]\n"
          ]
        },
        {
          "output_type": "stream",
          "name": "stdout",
          "text": [
            "val Loss: 0.3482 Acc: 0.8919\n",
            "Epoch 41/50\n",
            "-------------\n"
          ]
        },
        {
          "output_type": "stream",
          "name": "stderr",
          "text": [
            "100%|██████████| 5/5 [00:38<00:00,  7.74s/it]\n"
          ]
        },
        {
          "output_type": "stream",
          "name": "stdout",
          "text": [
            "train Loss: 0.4628 Acc: 0.7945\n"
          ]
        },
        {
          "output_type": "stream",
          "name": "stderr",
          "text": [
            "100%|██████████| 1/1 [00:05<00:00,  5.07s/it]\n"
          ]
        },
        {
          "output_type": "stream",
          "name": "stdout",
          "text": [
            "val Loss: 0.3780 Acc: 0.8378\n",
            "Epoch 42/50\n",
            "-------------\n"
          ]
        },
        {
          "output_type": "stream",
          "name": "stderr",
          "text": [
            "100%|██████████| 5/5 [00:37<00:00,  7.48s/it]\n"
          ]
        },
        {
          "output_type": "stream",
          "name": "stdout",
          "text": [
            "train Loss: 0.4989 Acc: 0.7708\n"
          ]
        },
        {
          "output_type": "stream",
          "name": "stderr",
          "text": [
            "100%|██████████| 1/1 [00:04<00:00,  4.66s/it]\n"
          ]
        },
        {
          "output_type": "stream",
          "name": "stdout",
          "text": [
            "val Loss: 0.3610 Acc: 0.8649\n",
            "Epoch 43/50\n",
            "-------------\n"
          ]
        },
        {
          "output_type": "stream",
          "name": "stderr",
          "text": [
            "100%|██████████| 5/5 [00:37<00:00,  7.44s/it]\n"
          ]
        },
        {
          "output_type": "stream",
          "name": "stdout",
          "text": [
            "train Loss: 0.4266 Acc: 0.8142\n"
          ]
        },
        {
          "output_type": "stream",
          "name": "stderr",
          "text": [
            "100%|██████████| 1/1 [00:04<00:00,  4.58s/it]\n"
          ]
        },
        {
          "output_type": "stream",
          "name": "stdout",
          "text": [
            "val Loss: 0.3443 Acc: 0.8649\n",
            "Epoch 44/50\n",
            "-------------\n"
          ]
        },
        {
          "output_type": "stream",
          "name": "stderr",
          "text": [
            "100%|██████████| 5/5 [00:39<00:00,  7.83s/it]\n"
          ]
        },
        {
          "output_type": "stream",
          "name": "stdout",
          "text": [
            "train Loss: 0.4635 Acc: 0.7945\n"
          ]
        },
        {
          "output_type": "stream",
          "name": "stderr",
          "text": [
            "100%|██████████| 1/1 [00:05<00:00,  5.09s/it]\n"
          ]
        },
        {
          "output_type": "stream",
          "name": "stdout",
          "text": [
            "val Loss: 0.3697 Acc: 0.8378\n",
            "Epoch 45/50\n",
            "-------------\n"
          ]
        },
        {
          "output_type": "stream",
          "name": "stderr",
          "text": [
            "100%|██████████| 5/5 [00:37<00:00,  7.49s/it]\n"
          ]
        },
        {
          "output_type": "stream",
          "name": "stdout",
          "text": [
            "train Loss: 0.4628 Acc: 0.7431\n"
          ]
        },
        {
          "output_type": "stream",
          "name": "stderr",
          "text": [
            "100%|██████████| 1/1 [00:04<00:00,  4.68s/it]\n"
          ]
        },
        {
          "output_type": "stream",
          "name": "stdout",
          "text": [
            "val Loss: 0.3609 Acc: 0.8378\n",
            "Epoch 46/50\n",
            "-------------\n"
          ]
        },
        {
          "output_type": "stream",
          "name": "stderr",
          "text": [
            "100%|██████████| 5/5 [00:37<00:00,  7.51s/it]\n"
          ]
        },
        {
          "output_type": "stream",
          "name": "stdout",
          "text": [
            "train Loss: 0.4351 Acc: 0.8063\n"
          ]
        },
        {
          "output_type": "stream",
          "name": "stderr",
          "text": [
            "100%|██████████| 1/1 [00:04<00:00,  4.60s/it]\n"
          ]
        },
        {
          "output_type": "stream",
          "name": "stdout",
          "text": [
            "val Loss: 0.3355 Acc: 0.8919\n",
            "Epoch 47/50\n",
            "-------------\n"
          ]
        },
        {
          "output_type": "stream",
          "name": "stderr",
          "text": [
            "100%|██████████| 5/5 [00:38<00:00,  7.75s/it]\n"
          ]
        },
        {
          "output_type": "stream",
          "name": "stdout",
          "text": [
            "train Loss: 0.4380 Acc: 0.7945\n"
          ]
        },
        {
          "output_type": "stream",
          "name": "stderr",
          "text": [
            "100%|██████████| 1/1 [00:04<00:00,  4.96s/it]\n"
          ]
        },
        {
          "output_type": "stream",
          "name": "stdout",
          "text": [
            "val Loss: 0.3391 Acc: 0.8919\n",
            "Epoch 48/50\n",
            "-------------\n"
          ]
        },
        {
          "output_type": "stream",
          "name": "stderr",
          "text": [
            "100%|██████████| 5/5 [00:37<00:00,  7.48s/it]\n"
          ]
        },
        {
          "output_type": "stream",
          "name": "stdout",
          "text": [
            "train Loss: 0.4493 Acc: 0.7945\n"
          ]
        },
        {
          "output_type": "stream",
          "name": "stderr",
          "text": [
            "100%|██████████| 1/1 [00:04<00:00,  4.67s/it]\n"
          ]
        },
        {
          "output_type": "stream",
          "name": "stdout",
          "text": [
            "val Loss: 0.3858 Acc: 0.8378\n",
            "Epoch 49/50\n",
            "-------------\n"
          ]
        },
        {
          "output_type": "stream",
          "name": "stderr",
          "text": [
            "100%|██████████| 5/5 [00:37<00:00,  7.53s/it]\n"
          ]
        },
        {
          "output_type": "stream",
          "name": "stdout",
          "text": [
            "train Loss: 0.4786 Acc: 0.7787\n"
          ]
        },
        {
          "output_type": "stream",
          "name": "stderr",
          "text": [
            "100%|██████████| 1/1 [00:04<00:00,  4.56s/it]\n"
          ]
        },
        {
          "output_type": "stream",
          "name": "stdout",
          "text": [
            "val Loss: 0.3425 Acc: 0.8919\n",
            "Epoch 50/50\n",
            "-------------\n"
          ]
        },
        {
          "output_type": "stream",
          "name": "stderr",
          "text": [
            "100%|██████████| 5/5 [00:37<00:00,  7.46s/it]\n"
          ]
        },
        {
          "output_type": "stream",
          "name": "stdout",
          "text": [
            "train Loss: 0.5678 Acc: 0.6877\n"
          ]
        },
        {
          "output_type": "stream",
          "name": "stderr",
          "text": [
            "100%|██████████| 1/1 [00:04<00:00,  4.56s/it]\n"
          ]
        },
        {
          "output_type": "stream",
          "name": "stdout",
          "text": [
            "val Loss: 0.3657 Acc: 0.8649\n"
          ]
        }
      ]
    },
    {
      "cell_type": "code",
      "source": [
        "fig,ax = plt.subplots(1,1,figsize=(10,5))\n",
        "\n",
        "score = scores[scores['iter']==iter]\n",
        "score_train = score[score['phase']=='train']\n",
        "score_test = score[score['phase']=='val']\n",
        "ax.plot(score_train['epoch'], score_train['acc'], label='train')\n",
        "ax.plot(score_test['epoch'], score_test['acc'], label='val')\n",
        "ax.set_title(f'iter:{iter}')\n",
        "ax.legend()\n",
        "plt.show(fig)"
      ],
      "metadata": {
        "colab": {
          "base_uri": "https://localhost:8080/",
          "height": 468
        },
        "id": "yv63-tOOdR1-",
        "outputId": "a9fa3e97-6a28-429d-f491-f1acd6b409f9"
      },
      "execution_count": 11,
      "outputs": [
        {
          "output_type": "display_data",
          "data": {
            "text/plain": [
              "<Figure size 1000x500 with 1 Axes>"
            ],
            "image/png": "[encoded data removed]"
          },
          "metadata": {}
        }
      ]
    },
    {
      "cell_type": "code",
      "source": [
        "fig,ax = plt.subplots(1,1,figsize=(10,5))\n",
        "score = scores[scores['iter']==iter]\n",
        "score_train = score[score['phase']=='train']\n",
        "score_test = score[score['phase']=='val']\n",
        "ax.plot(score_train['epoch'], score_train['loss'], label='train')\n",
        "ax.plot(score_test['epoch'], score_test['loss'], label='val')\n",
        "ax.set_title(f'iter:{iter}')\n",
        "ax.legend()\n",
        "plt.show(fig)"
      ],
      "metadata": {
        "colab": {
          "base_uri": "https://localhost:8080/",
          "height": 468
        },
        "outputId": "a4e8ea45-0aa5-4b9f-83f6-e06c7f9143c0",
        "id": "7Qv1anqCaV4u"
      },
      "execution_count": 12,
      "outputs": [
        {
          "output_type": "display_data",
          "data": {
            "text/plain": [
              "<Figure size 1000x500 with 1 Axes>"
            ],
            "image/png": "[encoded data removed]"
          },
          "metadata": {}
        }
      ]
    },
    {
      "cell_type": "code",
      "source": [
        "net.to('cpu').load_state_dict(torch.load(os.path.join(MODEL_DIR, f'swin_v2_b_seed{seed}_ep{EPOCHS}_{iter}_best_loss_bin2.pth')))\n",
        "net.to(device)\n",
        "test_dataset = CustomDataset(test_df, phase='test')\n",
        "test_dataloader = torch.utils.data.DataLoader(test_dataset, batch_size=BATCH_SIZE, shuffle=False)\n",
        "pred_test = predict(net, test_dataloader)\n",
        "df_pred = pd.DataFrame(pred_test, columns=['predicted_label'])\n",
        "df_pred.to_csv(os.path.join(DIR,f'pred_test_swin_v2_b_best_loss_bin2_ep{EPOCHS}_{iter}.csv'), index=False)\n",
        "test_df[f'pred_{iter}'] = pred_test"
      ],
      "metadata": {
        "colab": {
          "base_uri": "https://localhost:8080/"
        },
        "outputId": "bd1d82db-4768-4499-932e-deff89d8d338",
        "id": "nD5Z931XGHlS"
      },
      "execution_count": 13,
      "outputs": [
        {
          "output_type": "stream",
          "name": "stderr",
          "text": [
            "<ipython-input-13-603d07e8a629>:1: FutureWarning: You are using `torch.load` with `weights_only=False` (the current default value), which uses the default pickle module implicitly. It is possible to construct malicious pickle data which will execute arbitrary code during unpickling (See https://github.com/pytorch/pytorch/blob/main/SECURITY.md#untrusted-models for more details). In a future release, the default value for `weights_only` will be flipped to `True`. This limits the functions that could be executed during unpickling. Arbitrary objects will no longer be allowed to be loaded via this mode unless they are explicitly allowlisted by the user via `torch.serialization.add_safe_globals`. We recommend you start setting `weights_only=True` for any use case where you don't have full control of the loaded file. Please open an issue on GitHub for any issues related to this experimental feature.\n",
            "  net.to('cpu').load_state_dict(torch.load(os.path.join(MODEL_DIR, f'swin_v2_b_seed{seed}_ep{EPOCHS}_{iter}_best_loss_bin2.pth')))\n"
          ]
        }
      ]
    },
    {
      "cell_type": "code",
      "source": [
        "from datetime import datetime\n",
        "\n",
        "test_df['key'] = test_df['file_name'].apply(lambda x: os.path.basename(x))\n",
        "test_df['predicted_label'] = pred_test\n",
        "now = datetime.now()\n",
        "\n",
        "# ファイル名と予測結果をDataFrameに変換\n",
        "#判別結果をDataFrameに変換し、tsvファイルに出力\n",
        "submit_file = f'/content/drive/MyDrive/DXQuest_PBL02/ID100822_PBL02_ver{now:%Y%m%d%H%M%S}.tsv'\n",
        "print(submit_file)\n",
        "test_df[['key','predicted_label']].to_csv(submit_file,\n",
        "         index=False,\n",
        "         header=False,\n",
        "         sep='\\t')"
      ],
      "metadata": {
        "colab": {
          "base_uri": "https://localhost:8080/"
        },
        "id": "PBOtKWHFC5DO",
        "outputId": "6f34476b-6c6f-4a00-94ac-fdf6d231a5c2"
      },
      "execution_count": 14,
      "outputs": [
        {
          "output_type": "stream",
          "name": "stdout",
          "text": [
            "/content/drive/MyDrive/DXQuest_PBL02/ID100822_PBL02_ver20241002072028.tsv\n"
          ]
        }
      ]
    },
    {
      "cell_type": "code",
      "source": [
        "net.to('cpu').load_state_dict(torch.load(os.path.join(MODEL_DIR, f'swin_v2_b_seed{seed}_ep{EPOCHS}_{iter}_bin2.pth')))\n",
        "net.to(device)\n",
        "test_dataset = CustomDataset(test_df, phase='test')\n",
        "test_dataloader = torch.utils.data.DataLoader(test_dataset, batch_size=BATCH_SIZE, shuffle=False)\n",
        "pred_test = predict(net, test_dataloader)\n",
        "df_pred = pd.DataFrame(pred_test, columns=['predicted_label'])\n",
        "df_pred.to_csv(os.path.join(DIR,f'pred_test_swin_v2_b_bin2_ep{EPOCHS}_{iter}.csv'), index=False)\n",
        "test_df[f'pred_{iter}'] = pred_test"
      ],
      "metadata": {
        "colab": {
          "base_uri": "https://localhost:8080/"
        },
        "outputId": "ad57c340-5b6a-4d08-b6fa-f636e1dc7956",
        "id": "gLfziioxse0y"
      },
      "execution_count": 15,
      "outputs": [
        {
          "output_type": "stream",
          "name": "stderr",
          "text": [
            "<ipython-input-15-124b36e757c2>:1: FutureWarning: You are using `torch.load` with `weights_only=False` (the current default value), which uses the default pickle module implicitly. It is possible to construct malicious pickle data which will execute arbitrary code during unpickling (See https://github.com/pytorch/pytorch/blob/main/SECURITY.md#untrusted-models for more details). In a future release, the default value for `weights_only` will be flipped to `True`. This limits the functions that could be executed during unpickling. Arbitrary objects will no longer be allowed to be loaded via this mode unless they are explicitly allowlisted by the user via `torch.serialization.add_safe_globals`. We recommend you start setting `weights_only=True` for any use case where you don't have full control of the loaded file. Please open an issue on GitHub for any issues related to this experimental feature.\n",
            "  net.to('cpu').load_state_dict(torch.load(os.path.join(MODEL_DIR, f'swin_v2_b_seed{seed}_ep{EPOCHS}_{iter}_bin2.pth')))\n"
          ]
        }
      ]
    },
    {
      "cell_type": "code",
      "source": [
        "from datetime import datetime\n",
        "\n",
        "test_df['key'] = test_df['file_name'].apply(lambda x: os.path.basename(x))\n",
        "test_df['predicted_label'] = pred_test\n",
        "\n",
        "now = datetime.now()\n",
        "\n",
        "# ファイル名と予測結果をDataFrameに変換\n",
        "#判別結果をDataFrameに変換し、tsvファイルに出力\n",
        "submit_file = f'/content/drive/MyDrive/DXQuest_PBL02/ID100822_PBL02_ver{now:%Y%m%d%H%M%S}.tsv'\n",
        "print(submit_file)\n",
        "test_df[['key','predicted_label']].to_csv(submit_file,\n",
        "         index=False,\n",
        "         header=False,\n",
        "         sep='\\t')"
      ],
      "metadata": {
        "colab": {
          "base_uri": "https://localhost:8080/"
        },
        "id": "xz1hTmRkEaNw",
        "outputId": "2fb2ee6b-e573-420d-f39c-a38006716a56"
      },
      "execution_count": 16,
      "outputs": [
        {
          "output_type": "stream",
          "name": "stdout",
          "text": [
            "/content/drive/MyDrive/DXQuest_PBL02/ID100822_PBL02_ver20241002072057.tsv\n"
          ]
        }
      ]
    }
  ]
}