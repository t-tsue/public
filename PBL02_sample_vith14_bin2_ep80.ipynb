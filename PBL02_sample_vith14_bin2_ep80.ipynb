{
  "nbformat": 4,
  "nbformat_minor": 0,
  "metadata": {
    "colab": {
      "provenance": [],
      "gpuType": "T4",
      "include_colab_link": true
    },
    "kernelspec": {
      "name": "python3",
      "display_name": "Python 3"
    },
    "language_info": {
      "name": "python"
    },
    "accelerator": "GPU"
  },
  "cells": [
    {
      "cell_type": "markdown",
      "metadata": {
        "id": "view-in-github",
        "colab_type": "text"
      },
      "source": [
        "<a href=\"https://colab.research.google.com/github/t-tsue/public/blob/main/PBL02_sample_vith14_bin2_ep80.ipynb\" target=\"_parent\"><img src=\"https://colab.research.google.com/assets/colab-badge.svg\" alt=\"Open In Colab\"/></a>"
      ]
    },
    {
      "cell_type": "code",
      "execution_count": 1,
      "metadata": {
        "colab": {
          "base_uri": "https://localhost:8080/"
        },
        "id": "6mq5yjPE4YwK",
        "outputId": "894d9ca6-a9eb-4ad7-88f1-35a097789e1a"
      },
      "outputs": [
        {
          "output_type": "stream",
          "name": "stdout",
          "text": [
            "Mounted at /content/drive\n"
          ]
        }
      ],
      "source": [
        "from google.colab import drive\n",
        "drive.mount('/content/drive')\n",
        "DIR='/content/drive/My Drive/DXQuest_PBL02/'"
      ]
    },
    {
      "cell_type": "code",
      "source": [
        "from PIL import Image\n",
        "import matplotlib.pyplot as plt\n",
        "import numpy as np\n",
        "import os\n",
        "import glob\n",
        "import pandas as pd\n",
        "\n",
        "train_files = glob.glob(os.path.join(DIR,'train', '*/*.jpeg'))\n",
        "test_files = sorted(glob.glob(os.path.join(DIR,'test', '*.jpeg')))\n",
        "\n",
        "train_df = pd.DataFrame(train_files, columns=['file_name'])\n",
        "test_df = pd.DataFrame(test_files, columns=['file_name'])"
      ],
      "metadata": {
        "id": "9IvJX4A74kbA"
      },
      "execution_count": 2,
      "outputs": []
    },
    {
      "cell_type": "code",
      "source": [
        "def get_label(x):\n",
        "  # (regular → horn)\n",
        "  # regular_008.jpeg\n",
        "  #if 'regular_008' in x:\n",
        "  #  return 1\n",
        "\n",
        "  # (horn → regular)\n",
        "  # horn_016.jpeg\n",
        "  #if 'horn_016' in x:\n",
        "  #  return 0\n",
        "\n",
        "  #(potato → regular)\n",
        "  # potato_037.jpeg\n",
        "  #if 'potato_037' in x:\n",
        "  #  return 0\n",
        "\n",
        "  if 'bridge' in x:\n",
        "    return 1\n",
        "  elif 'horn' in x:\n",
        "    return 1\n",
        "  elif 'potato' in x:\n",
        "    return 1\n",
        "  else:\n",
        "    return 0\n",
        "\n",
        "train_df['label'] = train_df['file_name'].apply(get_label)"
      ],
      "metadata": {
        "id": "-H1k16py5S95"
      },
      "execution_count": 3,
      "outputs": []
    },
    {
      "cell_type": "code",
      "source": [
        "import matplotlib.pyplot as plt\n",
        "import torch\n",
        "import torch.nn as nn\n",
        "import torch.nn.functional as F\n",
        "import torchvision\n",
        "import torchvision.transforms as transforms\n",
        "from torchvision import models\n",
        "import torch.optim as optim\n",
        "import random\n",
        "import torch.utils.data as data\n",
        "from tqdm import tqdm\n",
        "from torch.utils.data import Dataset, DataLoader\n",
        "from sklearn.metrics import accuracy_score,f1_score,recall_score,precision_score\n",
        "from sklearn.model_selection import StratifiedKFold"
      ],
      "metadata": {
        "id": "AAu7XoE37Y08"
      },
      "execution_count": 4,
      "outputs": []
    },
    {
      "cell_type": "code",
      "source": [
        "device = \"cuda\" if torch.cuda.is_available() else \"cpu\"\n",
        "#torch.set_default_device(device)"
      ],
      "metadata": {
        "id": "GE3HQnj1QdvH"
      },
      "execution_count": 5,
      "outputs": []
    },
    {
      "cell_type": "code",
      "source": [
        "SIZE = 518\n",
        "CSIZE = 518\n",
        "MEAN = (0.485, 0.456, 0.406)\n",
        "STD = (0.229, 0.224, 0.225)\n",
        "\n",
        "class ImageTransform():\n",
        "  def __init__(self, phase, resize = SIZE, csize=CSIZE, mean = MEAN, std = STD):\n",
        "    self.phase = phase\n",
        "    if phase == 'train':\n",
        "      self.data_transform = transforms.Compose([\n",
        "          transforms.RandomResizedCrop(resize,scale=(0.9,1)),\n",
        "          transforms.RandomHorizontalFlip(),\n",
        "          transforms.RandomVerticalFlip(),\n",
        "          transforms.RandomRotation(degrees=(-10,10)),\n",
        "          transforms.ToTensor(),\n",
        "          transforms.Normalize(mean, std)\n",
        "      ])\n",
        "    else:\n",
        "      self.data_transform = transforms.Compose([\n",
        "          transforms.Resize(resize),\n",
        "          transforms.CenterCrop(csize),\n",
        "          transforms.ToTensor(),\n",
        "          transforms.Normalize(mean, std)\n",
        "      ])\n",
        "\n",
        "  def __call__(self, img):\n",
        "    return self.data_transform(img)"
      ],
      "metadata": {
        "id": "XwFLxcPpFwKM"
      },
      "execution_count": 6,
      "outputs": []
    },
    {
      "cell_type": "code",
      "source": [
        "class CustomDataset(Dataset):\n",
        "  def __init__(self, df, phase='train'):\n",
        "    self.df = df\n",
        "    self.transform = ImageTransform(phase)\n",
        "    self.phase = phase\n",
        "\n",
        "  def __len__(self):\n",
        "    return len(self.df)\n",
        "\n",
        "  def __getitem__(self, index):\n",
        "    if self.phase != 'test':\n",
        "      img_path = self.df.iloc[index]['file_name']\n",
        "      img = Image.open(img_path)\n",
        "      img_transformed = self.transform(img)\n",
        "      label = self.df.iloc[index]['label']\n",
        "      return img_transformed, label\n",
        "    else:\n",
        "      img_path = self.df.iloc[index]['file_name']\n",
        "      img = Image.open(img_path)\n",
        "      img_transformed = self.transform(img)\n",
        "      return img_transformed\n"
      ],
      "metadata": {
        "id": "mlW6s3LQHICs"
      },
      "execution_count": 7,
      "outputs": []
    },
    {
      "cell_type": "code",
      "source": [
        "def train_model(net, dataloader_dict, criterion, optimizer, num_epochs):\n",
        "  best_loss = 99\n",
        "  best_acc = 0\n",
        "  scores=[]\n",
        "  net.to(device)\n",
        "  # epochのループ\n",
        "  for epoch in range(num_epochs):\n",
        "    print('Epoch {}/{}'.format(epoch+1, num_epochs))\n",
        "    print('-------------')\n",
        "    for phase in ['train', 'val']:\n",
        "      if phase == 'train':\n",
        "        net.train()  # モデルを訓練モードに\n",
        "      else:\n",
        "        net.eval()   # モデルを検証モードに\n",
        "\n",
        "      # epochごとの学習と検証のループ\n",
        "\n",
        "      epoch_loss = 0.0  # epochの損失和\n",
        "      epoch_corrects = 0  # epochの正解数\n",
        "\n",
        "\n",
        "      # データローダーからミニバッチを取り出すループ\n",
        "      dataloader = dataloader_dict[phase]\n",
        "      for inputs, labels in tqdm(dataloader):\n",
        "\n",
        "        # optimizerを初期化\n",
        "        optimizer.zero_grad()\n",
        "        inputs = inputs.to(device)\n",
        "        labels = labels.to(device)\n",
        "\n",
        "        # 順伝搬（forward）計算\n",
        "        with torch.set_grad_enabled(phase=='train'):\n",
        "          outputs = net(inputs)\n",
        "          loss = criterion(outputs, labels)  # 損失を計算\n",
        "          _, preds = torch.max(outputs, 1)  # ラベルを予測\n",
        "\n",
        "\n",
        "          # 訓練時はバックプロパゲーション\n",
        "          if phase == 'train':\n",
        "            loss.backward()\n",
        "            optimizer.step()\n",
        "\n",
        "          # イタレーション結果の計算\n",
        "          # lossの合計を更新\n",
        "          epoch_loss += loss.item() * inputs.size(0)\n",
        "          # 正解数の合計を更新\n",
        "          epoch_corrects += torch.sum(preds == labels.data)\n",
        "\n",
        "      # epochごとのlossと正解率を表示\n",
        "      epoch_loss = epoch_loss / len(dataloader.dataset)\n",
        "      epoch_acc = epoch_corrects.double(\n",
        "      ) / len(dataloader.dataset)\n",
        "\n",
        "      print('{} Loss: {:.4f} Acc: {:.4f}'.format(\n",
        "          phase, epoch_loss, epoch_acc))\n",
        "      if phase == 'val':\n",
        "        if epoch_loss < best_loss:\n",
        "          best_loss = epoch_loss\n",
        "          torch.save(net.to('cpu').state_dict(), os.path.join(MODEL_DIR, f'vith14_seed{seed}_ep{EPOCHS}_best_loss_bin2.pth'))\n",
        "          net.to(device)\n",
        "        if epoch_acc > best_acc:\n",
        "          best_acc = epoch_acc\n",
        "          torch.save(net.to('cpu').state_dict(), os.path.join(MODEL_DIR, f'vith14_seed{seed}_ep{EPOCHS}_best_acc_bin2.pth'))\n",
        "          net.to(device)\n",
        "      scores.append([epoch, phase, epoch_loss, epoch_acc])\n",
        "  return net, pd.DataFrame(scores, columns=['epoch', 'phase', 'loss', 'acc'])"
      ],
      "metadata": {
        "id": "Y-2Bk44NH5NJ"
      },
      "execution_count": 8,
      "outputs": []
    },
    {
      "cell_type": "code",
      "source": [
        "BATCH_SIZE = 60\n",
        "EPOCHS = 80\n",
        "LEARNING_RATE = 0.001\n",
        "#MOMENTUM = 0.9\n",
        "\n",
        "def get_model():\n",
        "  weights = models.ViT_H_14_Weights.IMAGENET1K_SWAG_E2E_V1  # 学習済みのパラメータを使用\n",
        "  net = models.vit_h_14(weights=weights)\n",
        "  net.heads.head = nn.Linear(in_features=1280, out_features=2, bias=True)\n",
        "  return net\n",
        "\n",
        "def get_criterion():\n",
        "  criterion = nn.CrossEntropyLoss()\n",
        "  return criterion\n",
        "\n",
        "def get_optimizer(net):\n",
        "  params_to_update = []\n",
        "\n",
        "  update_param_names = [\"encoder.ln.weight\", \"encoder.ln.bias\", \"heads.head.weight\", \"heads.head.bias\"]\n",
        "\n",
        "  for name, param in net.named_parameters():\n",
        "    if name in update_param_names:\n",
        "      param.requires_grad = True\n",
        "      params_to_update.append(param)\n",
        "    else:\n",
        "      param.requires_grad = False\n",
        "\n",
        "  optimizer = optim.Adam(params_to_update, lr=LEARNING_RATE, )\n",
        "  return optimizer"
      ],
      "metadata": {
        "id": "b13o03aMKR5u"
      },
      "execution_count": 9,
      "outputs": []
    },
    {
      "cell_type": "code",
      "source": [
        "def predict(net, dataloader):\n",
        "  net = net.to(device)\n",
        "  net.eval()\n",
        "  result=[]\n",
        "  for inputs in dataloader:\n",
        "    outputs = net(inputs.to(device))\n",
        "    outputs = list(outputs.detach().cpu().numpy())\n",
        "    result.extend(outputs)\n",
        "  return np.argmax(np.array(result),axis=1)\n",
        "\n",
        "def predict_proba(net, dataloader):\n",
        "  net = net.to(device)\n",
        "  net.eval()\n",
        "  result=[]\n",
        "  for inputs in dataloader:\n",
        "    outputs = net(inputs.to(device))\n",
        "    outputs = list(outputs.detach().cpu().numpy())\n",
        "    result.extend(outputs)\n",
        "  result = np.array(result)\n",
        "  pred_0 = result[:,0]\n",
        "  pred_1 = result[:,1]\n",
        "  return np.exp(pred_1)/(np.exp(pred_0)+np.exp(pred_1))\n",
        "\n",
        "def get_score(y_true, y_pred):\n",
        "  y_true = (y_true > 0).astype(int)\n",
        "  y_pred = (y_pred > 0).astype(int)\n",
        "  acc = accuracy_score(y_true, y_pred)\n",
        "  recall = recall_score(y_true, y_pred)\n",
        "  precision = precision_score(y_true, y_pred)\n",
        "  f1 = f1_score(y_true, y_pred)\n",
        "  return [acc, recall, precision, f1]\n",
        "\n",
        "SEED=42\n",
        "\n",
        "def init_seed(seed):\n",
        "    torch.manual_seed(seed)\n",
        "    torch.cuda.manual_seed(seed)\n",
        "    torch.cuda.manual_seed_all(seed)\n",
        "    np.random.seed(seed)\n",
        "    random.seed(seed)\n",
        "    torch.backends.cudnn.deterministic = True\n",
        "    torch.backends.cudnn.benchmark = False\n",
        "\n",
        "def seed_worker(worker_id):\n",
        "    worker_seed = torch.initial_seed() % 2**32\n",
        "    np.random.seed(worker_seed)\n",
        "    random.seed(worker_seed)\n",
        "\n",
        "for seed in range(1):\n",
        "  seed = SEED + seed\n",
        "  init_seed(seed)\n",
        "  g = torch.Generator()\n",
        "  g.manual_seed(seed)\n",
        "  skf = StratifiedKFold(n_splits=8, shuffle=True, random_state=seed)\n",
        "  X = train_df\n",
        "  y = train_df['label']\n",
        "  MODEL_DIR=os.path.join(DIR,'model')\n",
        "  os.makedirs(MODEL_DIR, exist_ok=True)\n",
        "  for iter, (train_index, test_index) in enumerate(skf.split(X, y)):\n",
        "    X_train, X_val = X.iloc[train_index], X.iloc[test_index]\n",
        "    y_train, y_val = y.iloc[train_index], y.iloc[test_index]\n",
        "\n",
        "    train_dataset = CustomDataset(X_train, phase='train')\n",
        "    train_dataloader = torch.utils.data.DataLoader(train_dataset, batch_size=BATCH_SIZE, shuffle=True,\n",
        "                                                    worker_init_fn=seed_worker,generator=g)\n",
        "    val_dataset = CustomDataset(X_val, phase='val')\n",
        "    val_dataloader = torch.utils.data.DataLoader(val_dataset, batch_size=BATCH_SIZE, shuffle=False)\n",
        "\n",
        "    net = get_model()\n",
        "    criterion = get_criterion()\n",
        "    optimizer = get_optimizer(net)\n",
        "    dataloader_dict = {'train': train_dataloader, 'val': val_dataloader}\n",
        "    net,score = train_model(net, dataloader_dict, criterion, optimizer, EPOCHS)\n",
        "    torch.save(net.to('cpu').state_dict(), os.path.join(MODEL_DIR, f'vith14_seed{seed}_ep{EPOCHS}_{iter}_bin2.pth'))\n",
        "    break"
      ],
      "metadata": {
        "colab": {
          "base_uri": "https://localhost:8080/"
        },
        "id": "loVy37R8LrFy",
        "outputId": "9052fdc0-785f-4966-eb29-6085121cc2f6",
        "collapsed": true
      },
      "execution_count": 10,
      "outputs": [
        {
          "output_type": "stream",
          "name": "stderr",
          "text": [
            "Downloading: \"https://download.pytorch.org/models/vit_h_14_swag-80465313.pth\" to /root/.cache/torch/hub/checkpoints/vit_h_14_swag-80465313.pth\n",
            "100%|██████████| 2.36G/2.36G [00:28<00:00, 87.9MB/s]\n"
          ]
        },
        {
          "output_type": "stream",
          "name": "stdout",
          "text": [
            "Epoch 1/80\n",
            "-------------\n"
          ]
        },
        {
          "output_type": "stream",
          "name": "stderr",
          "text": [
            "100%|██████████| 5/5 [06:40<00:00, 80.19s/it]\n"
          ]
        },
        {
          "output_type": "stream",
          "name": "stdout",
          "text": [
            "train Loss: 0.8624 Acc: 0.5613\n"
          ]
        },
        {
          "output_type": "stream",
          "name": "stderr",
          "text": [
            "100%|██████████| 1/1 [00:52<00:00, 52.75s/it]\n"
          ]
        },
        {
          "output_type": "stream",
          "name": "stdout",
          "text": [
            "val Loss: 0.6432 Acc: 0.6486\n",
            "Epoch 2/80\n",
            "-------------\n"
          ]
        },
        {
          "output_type": "stream",
          "name": "stderr",
          "text": [
            "100%|██████████| 5/5 [04:21<00:00, 52.35s/it]\n"
          ]
        },
        {
          "output_type": "stream",
          "name": "stdout",
          "text": [
            "train Loss: 0.7571 Acc: 0.4704\n"
          ]
        },
        {
          "output_type": "stream",
          "name": "stderr",
          "text": [
            "100%|██████████| 1/1 [00:31<00:00, 31.40s/it]\n"
          ]
        },
        {
          "output_type": "stream",
          "name": "stdout",
          "text": [
            "val Loss: 0.6244 Acc: 0.5946\n",
            "Epoch 3/80\n",
            "-------------\n"
          ]
        },
        {
          "output_type": "stream",
          "name": "stderr",
          "text": [
            "100%|██████████| 5/5 [04:12<00:00, 50.53s/it]\n"
          ]
        },
        {
          "output_type": "stream",
          "name": "stdout",
          "text": [
            "train Loss: 0.6286 Acc: 0.6877\n"
          ]
        },
        {
          "output_type": "stream",
          "name": "stderr",
          "text": [
            "100%|██████████| 1/1 [00:30<00:00, 30.61s/it]\n"
          ]
        },
        {
          "output_type": "stream",
          "name": "stdout",
          "text": [
            "val Loss: 0.7794 Acc: 0.6486\n",
            "Epoch 4/80\n",
            "-------------\n"
          ]
        },
        {
          "output_type": "stream",
          "name": "stderr",
          "text": [
            "100%|██████████| 5/5 [04:08<00:00, 49.72s/it]\n"
          ]
        },
        {
          "output_type": "stream",
          "name": "stdout",
          "text": [
            "train Loss: 0.6024 Acc: 0.6877\n"
          ]
        },
        {
          "output_type": "stream",
          "name": "stderr",
          "text": [
            "100%|██████████| 1/1 [00:31<00:00, 31.07s/it]\n"
          ]
        },
        {
          "output_type": "stream",
          "name": "stdout",
          "text": [
            "val Loss: 0.6355 Acc: 0.6486\n",
            "Epoch 5/80\n",
            "-------------\n"
          ]
        },
        {
          "output_type": "stream",
          "name": "stderr",
          "text": [
            "100%|██████████| 5/5 [04:07<00:00, 49.45s/it]\n"
          ]
        },
        {
          "output_type": "stream",
          "name": "stdout",
          "text": [
            "train Loss: 0.6342 Acc: 0.6680\n"
          ]
        },
        {
          "output_type": "stream",
          "name": "stderr",
          "text": [
            "100%|██████████| 1/1 [00:31<00:00, 31.25s/it]\n"
          ]
        },
        {
          "output_type": "stream",
          "name": "stdout",
          "text": [
            "val Loss: 0.6294 Acc: 0.7027\n",
            "Epoch 6/80\n",
            "-------------\n"
          ]
        },
        {
          "output_type": "stream",
          "name": "stderr",
          "text": [
            "100%|██████████| 5/5 [04:08<00:00, 49.65s/it]\n"
          ]
        },
        {
          "output_type": "stream",
          "name": "stdout",
          "text": [
            "train Loss: 0.6266 Acc: 0.6798\n"
          ]
        },
        {
          "output_type": "stream",
          "name": "stderr",
          "text": [
            "100%|██████████| 1/1 [00:30<00:00, 30.65s/it]\n"
          ]
        },
        {
          "output_type": "stream",
          "name": "stdout",
          "text": [
            "val Loss: 0.6532 Acc: 0.6757\n",
            "Epoch 7/80\n",
            "-------------\n"
          ]
        },
        {
          "output_type": "stream",
          "name": "stderr",
          "text": [
            "100%|██████████| 5/5 [04:07<00:00, 49.50s/it]\n"
          ]
        },
        {
          "output_type": "stream",
          "name": "stdout",
          "text": [
            "train Loss: 0.5376 Acc: 0.7154\n"
          ]
        },
        {
          "output_type": "stream",
          "name": "stderr",
          "text": [
            "100%|██████████| 1/1 [00:31<00:00, 31.03s/it]\n"
          ]
        },
        {
          "output_type": "stream",
          "name": "stdout",
          "text": [
            "val Loss: 0.5938 Acc: 0.6486\n",
            "Epoch 8/80\n",
            "-------------\n"
          ]
        },
        {
          "output_type": "stream",
          "name": "stderr",
          "text": [
            "100%|██████████| 5/5 [04:13<00:00, 50.64s/it]\n"
          ]
        },
        {
          "output_type": "stream",
          "name": "stdout",
          "text": [
            "train Loss: 0.5336 Acc: 0.7312\n"
          ]
        },
        {
          "output_type": "stream",
          "name": "stderr",
          "text": [
            "100%|██████████| 1/1 [00:29<00:00, 29.88s/it]\n"
          ]
        },
        {
          "output_type": "stream",
          "name": "stdout",
          "text": [
            "val Loss: 0.5810 Acc: 0.7297\n",
            "Epoch 9/80\n",
            "-------------\n"
          ]
        },
        {
          "output_type": "stream",
          "name": "stderr",
          "text": [
            "100%|██████████| 5/5 [04:21<00:00, 52.37s/it]\n"
          ]
        },
        {
          "output_type": "stream",
          "name": "stdout",
          "text": [
            "train Loss: 0.4989 Acc: 0.7510\n"
          ]
        },
        {
          "output_type": "stream",
          "name": "stderr",
          "text": [
            "100%|██████████| 1/1 [00:29<00:00, 29.80s/it]\n"
          ]
        },
        {
          "output_type": "stream",
          "name": "stdout",
          "text": [
            "val Loss: 0.5294 Acc: 0.7838\n",
            "Epoch 10/80\n",
            "-------------\n"
          ]
        },
        {
          "output_type": "stream",
          "name": "stderr",
          "text": [
            "100%|██████████| 5/5 [04:16<00:00, 51.27s/it]\n"
          ]
        },
        {
          "output_type": "stream",
          "name": "stdout",
          "text": [
            "train Loss: 0.4955 Acc: 0.8063\n"
          ]
        },
        {
          "output_type": "stream",
          "name": "stderr",
          "text": [
            "100%|██████████| 1/1 [00:29<00:00, 29.92s/it]\n"
          ]
        },
        {
          "output_type": "stream",
          "name": "stdout",
          "text": [
            "val Loss: 0.5327 Acc: 0.7838\n",
            "Epoch 11/80\n",
            "-------------\n"
          ]
        },
        {
          "output_type": "stream",
          "name": "stderr",
          "text": [
            "100%|██████████| 5/5 [04:09<00:00, 49.85s/it]\n"
          ]
        },
        {
          "output_type": "stream",
          "name": "stdout",
          "text": [
            "train Loss: 0.4867 Acc: 0.7549\n"
          ]
        },
        {
          "output_type": "stream",
          "name": "stderr",
          "text": [
            "100%|██████████| 1/1 [00:31<00:00, 31.00s/it]\n"
          ]
        },
        {
          "output_type": "stream",
          "name": "stdout",
          "text": [
            "val Loss: 0.5274 Acc: 0.7838\n",
            "Epoch 12/80\n",
            "-------------\n"
          ]
        },
        {
          "output_type": "stream",
          "name": "stderr",
          "text": [
            "100%|██████████| 5/5 [04:06<00:00, 49.38s/it]\n"
          ]
        },
        {
          "output_type": "stream",
          "name": "stdout",
          "text": [
            "train Loss: 0.4747 Acc: 0.7747\n"
          ]
        },
        {
          "output_type": "stream",
          "name": "stderr",
          "text": [
            "100%|██████████| 1/1 [00:30<00:00, 30.97s/it]\n"
          ]
        },
        {
          "output_type": "stream",
          "name": "stdout",
          "text": [
            "val Loss: 0.4923 Acc: 0.7838\n",
            "Epoch 13/80\n",
            "-------------\n"
          ]
        },
        {
          "output_type": "stream",
          "name": "stderr",
          "text": [
            "100%|██████████| 5/5 [04:07<00:00, 49.44s/it]\n"
          ]
        },
        {
          "output_type": "stream",
          "name": "stdout",
          "text": [
            "train Loss: 0.4537 Acc: 0.7905\n"
          ]
        },
        {
          "output_type": "stream",
          "name": "stderr",
          "text": [
            "100%|██████████| 1/1 [00:30<00:00, 30.75s/it]\n"
          ]
        },
        {
          "output_type": "stream",
          "name": "stdout",
          "text": [
            "val Loss: 0.4956 Acc: 0.8108\n",
            "Epoch 14/80\n",
            "-------------\n"
          ]
        },
        {
          "output_type": "stream",
          "name": "stderr",
          "text": [
            "100%|██████████| 5/5 [04:10<00:00, 50.07s/it]\n"
          ]
        },
        {
          "output_type": "stream",
          "name": "stdout",
          "text": [
            "train Loss: 0.4422 Acc: 0.7708\n"
          ]
        },
        {
          "output_type": "stream",
          "name": "stderr",
          "text": [
            "100%|██████████| 1/1 [00:31<00:00, 31.23s/it]\n"
          ]
        },
        {
          "output_type": "stream",
          "name": "stdout",
          "text": [
            "val Loss: 0.4841 Acc: 0.8108\n",
            "Epoch 15/80\n",
            "-------------\n"
          ]
        },
        {
          "output_type": "stream",
          "name": "stderr",
          "text": [
            "100%|██████████| 5/5 [04:10<00:00, 50.11s/it]\n"
          ]
        },
        {
          "output_type": "stream",
          "name": "stdout",
          "text": [
            "train Loss: 0.4342 Acc: 0.7589\n"
          ]
        },
        {
          "output_type": "stream",
          "name": "stderr",
          "text": [
            "100%|██████████| 1/1 [00:30<00:00, 30.01s/it]\n"
          ]
        },
        {
          "output_type": "stream",
          "name": "stdout",
          "text": [
            "val Loss: 0.4723 Acc: 0.8108\n",
            "Epoch 16/80\n",
            "-------------\n"
          ]
        },
        {
          "output_type": "stream",
          "name": "stderr",
          "text": [
            "100%|██████████| 5/5 [04:09<00:00, 49.87s/it]\n"
          ]
        },
        {
          "output_type": "stream",
          "name": "stdout",
          "text": [
            "train Loss: 0.4221 Acc: 0.7945\n"
          ]
        },
        {
          "output_type": "stream",
          "name": "stderr",
          "text": [
            "100%|██████████| 1/1 [00:31<00:00, 31.27s/it]\n"
          ]
        },
        {
          "output_type": "stream",
          "name": "stdout",
          "text": [
            "val Loss: 0.4671 Acc: 0.8108\n",
            "Epoch 17/80\n",
            "-------------\n"
          ]
        },
        {
          "output_type": "stream",
          "name": "stderr",
          "text": [
            "100%|██████████| 5/5 [04:08<00:00, 49.69s/it]\n"
          ]
        },
        {
          "output_type": "stream",
          "name": "stdout",
          "text": [
            "train Loss: 0.4192 Acc: 0.7984\n"
          ]
        },
        {
          "output_type": "stream",
          "name": "stderr",
          "text": [
            "100%|██████████| 1/1 [00:31<00:00, 31.07s/it]\n"
          ]
        },
        {
          "output_type": "stream",
          "name": "stdout",
          "text": [
            "val Loss: 0.4763 Acc: 0.8108\n",
            "Epoch 18/80\n",
            "-------------\n"
          ]
        },
        {
          "output_type": "stream",
          "name": "stderr",
          "text": [
            "100%|██████████| 5/5 [04:07<00:00, 49.50s/it]\n"
          ]
        },
        {
          "output_type": "stream",
          "name": "stdout",
          "text": [
            "train Loss: 0.4364 Acc: 0.7866\n"
          ]
        },
        {
          "output_type": "stream",
          "name": "stderr",
          "text": [
            "100%|██████████| 1/1 [00:31<00:00, 31.31s/it]\n"
          ]
        },
        {
          "output_type": "stream",
          "name": "stdout",
          "text": [
            "val Loss: 0.4588 Acc: 0.8108\n",
            "Epoch 19/80\n",
            "-------------\n"
          ]
        },
        {
          "output_type": "stream",
          "name": "stderr",
          "text": [
            "100%|██████████| 5/5 [04:10<00:00, 50.10s/it]\n"
          ]
        },
        {
          "output_type": "stream",
          "name": "stdout",
          "text": [
            "train Loss: 0.4032 Acc: 0.8261\n"
          ]
        },
        {
          "output_type": "stream",
          "name": "stderr",
          "text": [
            "100%|██████████| 1/1 [00:29<00:00, 29.78s/it]\n"
          ]
        },
        {
          "output_type": "stream",
          "name": "stdout",
          "text": [
            "val Loss: 0.4528 Acc: 0.8108\n",
            "Epoch 20/80\n",
            "-------------\n"
          ]
        },
        {
          "output_type": "stream",
          "name": "stderr",
          "text": [
            "100%|██████████| 5/5 [04:07<00:00, 49.41s/it]\n"
          ]
        },
        {
          "output_type": "stream",
          "name": "stdout",
          "text": [
            "train Loss: 0.3963 Acc: 0.8458\n"
          ]
        },
        {
          "output_type": "stream",
          "name": "stderr",
          "text": [
            "100%|██████████| 1/1 [00:31<00:00, 31.23s/it]\n"
          ]
        },
        {
          "output_type": "stream",
          "name": "stdout",
          "text": [
            "val Loss: 0.4472 Acc: 0.8108\n",
            "Epoch 21/80\n",
            "-------------\n"
          ]
        },
        {
          "output_type": "stream",
          "name": "stderr",
          "text": [
            "100%|██████████| 5/5 [04:07<00:00, 49.47s/it]\n"
          ]
        },
        {
          "output_type": "stream",
          "name": "stdout",
          "text": [
            "train Loss: 0.4134 Acc: 0.7984\n"
          ]
        },
        {
          "output_type": "stream",
          "name": "stderr",
          "text": [
            "100%|██████████| 1/1 [00:31<00:00, 31.28s/it]\n"
          ]
        },
        {
          "output_type": "stream",
          "name": "stdout",
          "text": [
            "val Loss: 0.4282 Acc: 0.7838\n",
            "Epoch 22/80\n",
            "-------------\n"
          ]
        },
        {
          "output_type": "stream",
          "name": "stderr",
          "text": [
            "100%|██████████| 5/5 [04:09<00:00, 49.90s/it]\n"
          ]
        },
        {
          "output_type": "stream",
          "name": "stdout",
          "text": [
            "train Loss: 0.4038 Acc: 0.8340\n"
          ]
        },
        {
          "output_type": "stream",
          "name": "stderr",
          "text": [
            "100%|██████████| 1/1 [00:31<00:00, 31.02s/it]\n"
          ]
        },
        {
          "output_type": "stream",
          "name": "stdout",
          "text": [
            "val Loss: 0.4210 Acc: 0.8108\n",
            "Epoch 23/80\n",
            "-------------\n"
          ]
        },
        {
          "output_type": "stream",
          "name": "stderr",
          "text": [
            "100%|██████████| 5/5 [04:14<00:00, 50.84s/it]\n"
          ]
        },
        {
          "output_type": "stream",
          "name": "stdout",
          "text": [
            "train Loss: 0.3776 Acc: 0.8024\n"
          ]
        },
        {
          "output_type": "stream",
          "name": "stderr",
          "text": [
            "100%|██████████| 1/1 [00:29<00:00, 29.89s/it]\n"
          ]
        },
        {
          "output_type": "stream",
          "name": "stdout",
          "text": [
            "val Loss: 0.4426 Acc: 0.8108\n",
            "Epoch 24/80\n",
            "-------------\n"
          ]
        },
        {
          "output_type": "stream",
          "name": "stderr",
          "text": [
            "100%|██████████| 5/5 [04:11<00:00, 50.20s/it]\n"
          ]
        },
        {
          "output_type": "stream",
          "name": "stdout",
          "text": [
            "train Loss: 0.3867 Acc: 0.8340\n"
          ]
        },
        {
          "output_type": "stream",
          "name": "stderr",
          "text": [
            "100%|██████████| 1/1 [00:29<00:00, 29.82s/it]\n"
          ]
        },
        {
          "output_type": "stream",
          "name": "stdout",
          "text": [
            "val Loss: 0.4083 Acc: 0.8108\n",
            "Epoch 25/80\n",
            "-------------\n"
          ]
        },
        {
          "output_type": "stream",
          "name": "stderr",
          "text": [
            "100%|██████████| 5/5 [04:07<00:00, 49.50s/it]\n"
          ]
        },
        {
          "output_type": "stream",
          "name": "stdout",
          "text": [
            "train Loss: 0.3891 Acc: 0.8103\n"
          ]
        },
        {
          "output_type": "stream",
          "name": "stderr",
          "text": [
            "100%|██████████| 1/1 [00:31<00:00, 31.37s/it]\n"
          ]
        },
        {
          "output_type": "stream",
          "name": "stdout",
          "text": [
            "val Loss: 0.4059 Acc: 0.8108\n",
            "Epoch 26/80\n",
            "-------------\n"
          ]
        },
        {
          "output_type": "stream",
          "name": "stderr",
          "text": [
            "100%|██████████| 5/5 [04:08<00:00, 49.78s/it]\n"
          ]
        },
        {
          "output_type": "stream",
          "name": "stdout",
          "text": [
            "train Loss: 0.3654 Acc: 0.8577\n"
          ]
        },
        {
          "output_type": "stream",
          "name": "stderr",
          "text": [
            "100%|██████████| 1/1 [00:31<00:00, 31.36s/it]\n"
          ]
        },
        {
          "output_type": "stream",
          "name": "stdout",
          "text": [
            "val Loss: 0.4203 Acc: 0.8108\n",
            "Epoch 27/80\n",
            "-------------\n"
          ]
        },
        {
          "output_type": "stream",
          "name": "stderr",
          "text": [
            "100%|██████████| 5/5 [04:06<00:00, 49.27s/it]\n"
          ]
        },
        {
          "output_type": "stream",
          "name": "stdout",
          "text": [
            "train Loss: 0.3782 Acc: 0.8103\n"
          ]
        },
        {
          "output_type": "stream",
          "name": "stderr",
          "text": [
            "100%|██████████| 1/1 [00:31<00:00, 31.39s/it]\n"
          ]
        },
        {
          "output_type": "stream",
          "name": "stdout",
          "text": [
            "val Loss: 0.4081 Acc: 0.8108\n",
            "Epoch 28/80\n",
            "-------------\n"
          ]
        },
        {
          "output_type": "stream",
          "name": "stderr",
          "text": [
            "100%|██████████| 5/5 [04:06<00:00, 49.40s/it]\n"
          ]
        },
        {
          "output_type": "stream",
          "name": "stdout",
          "text": [
            "train Loss: 0.3575 Acc: 0.8775\n"
          ]
        },
        {
          "output_type": "stream",
          "name": "stderr",
          "text": [
            "100%|██████████| 1/1 [00:30<00:00, 30.97s/it]\n"
          ]
        },
        {
          "output_type": "stream",
          "name": "stdout",
          "text": [
            "val Loss: 0.3990 Acc: 0.8108\n",
            "Epoch 29/80\n",
            "-------------\n"
          ]
        },
        {
          "output_type": "stream",
          "name": "stderr",
          "text": [
            "100%|██████████| 5/5 [04:07<00:00, 49.43s/it]\n"
          ]
        },
        {
          "output_type": "stream",
          "name": "stdout",
          "text": [
            "train Loss: 0.3447 Acc: 0.8498\n"
          ]
        },
        {
          "output_type": "stream",
          "name": "stderr",
          "text": [
            "100%|██████████| 1/1 [00:31<00:00, 31.01s/it]\n"
          ]
        },
        {
          "output_type": "stream",
          "name": "stdout",
          "text": [
            "val Loss: 0.3997 Acc: 0.8108\n",
            "Epoch 30/80\n",
            "-------------\n"
          ]
        },
        {
          "output_type": "stream",
          "name": "stderr",
          "text": [
            "100%|██████████| 5/5 [04:07<00:00, 49.41s/it]\n"
          ]
        },
        {
          "output_type": "stream",
          "name": "stdout",
          "text": [
            "train Loss: 0.3488 Acc: 0.8735\n"
          ]
        },
        {
          "output_type": "stream",
          "name": "stderr",
          "text": [
            "100%|██████████| 1/1 [00:31<00:00, 31.20s/it]\n"
          ]
        },
        {
          "output_type": "stream",
          "name": "stdout",
          "text": [
            "val Loss: 0.3950 Acc: 0.8108\n",
            "Epoch 31/80\n",
            "-------------\n"
          ]
        },
        {
          "output_type": "stream",
          "name": "stderr",
          "text": [
            "100%|██████████| 5/5 [04:09<00:00, 49.82s/it]\n"
          ]
        },
        {
          "output_type": "stream",
          "name": "stdout",
          "text": [
            "train Loss: 0.3378 Acc: 0.8735\n"
          ]
        },
        {
          "output_type": "stream",
          "name": "stderr",
          "text": [
            "100%|██████████| 1/1 [00:31<00:00, 31.14s/it]\n"
          ]
        },
        {
          "output_type": "stream",
          "name": "stdout",
          "text": [
            "val Loss: 0.3926 Acc: 0.8108\n",
            "Epoch 32/80\n",
            "-------------\n"
          ]
        },
        {
          "output_type": "stream",
          "name": "stderr",
          "text": [
            "100%|██████████| 5/5 [04:11<00:00, 50.38s/it]\n"
          ]
        },
        {
          "output_type": "stream",
          "name": "stdout",
          "text": [
            "train Loss: 0.3345 Acc: 0.8656\n"
          ]
        },
        {
          "output_type": "stream",
          "name": "stderr",
          "text": [
            "100%|██████████| 1/1 [00:29<00:00, 29.79s/it]\n"
          ]
        },
        {
          "output_type": "stream",
          "name": "stdout",
          "text": [
            "val Loss: 0.3827 Acc: 0.8108\n",
            "Epoch 33/80\n",
            "-------------\n"
          ]
        },
        {
          "output_type": "stream",
          "name": "stderr",
          "text": [
            "100%|██████████| 5/5 [04:10<00:00, 50.15s/it]\n"
          ]
        },
        {
          "output_type": "stream",
          "name": "stdout",
          "text": [
            "train Loss: 0.3410 Acc: 0.8696\n"
          ]
        },
        {
          "output_type": "stream",
          "name": "stderr",
          "text": [
            "100%|██████████| 1/1 [00:30<00:00, 30.02s/it]\n"
          ]
        },
        {
          "output_type": "stream",
          "name": "stdout",
          "text": [
            "val Loss: 0.3763 Acc: 0.8108\n",
            "Epoch 34/80\n",
            "-------------\n"
          ]
        },
        {
          "output_type": "stream",
          "name": "stderr",
          "text": [
            "100%|██████████| 5/5 [04:10<00:00, 50.06s/it]\n"
          ]
        },
        {
          "output_type": "stream",
          "name": "stdout",
          "text": [
            "train Loss: 0.3276 Acc: 0.8854\n"
          ]
        },
        {
          "output_type": "stream",
          "name": "stderr",
          "text": [
            "100%|██████████| 1/1 [00:31<00:00, 31.10s/it]\n"
          ]
        },
        {
          "output_type": "stream",
          "name": "stdout",
          "text": [
            "val Loss: 0.3802 Acc: 0.8108\n",
            "Epoch 35/80\n",
            "-------------\n"
          ]
        },
        {
          "output_type": "stream",
          "name": "stderr",
          "text": [
            "100%|██████████| 5/5 [04:06<00:00, 49.36s/it]\n"
          ]
        },
        {
          "output_type": "stream",
          "name": "stdout",
          "text": [
            "train Loss: 0.3235 Acc: 0.9170\n"
          ]
        },
        {
          "output_type": "stream",
          "name": "stderr",
          "text": [
            "100%|██████████| 1/1 [00:31<00:00, 31.24s/it]\n"
          ]
        },
        {
          "output_type": "stream",
          "name": "stdout",
          "text": [
            "val Loss: 0.3980 Acc: 0.8378\n",
            "Epoch 36/80\n",
            "-------------\n"
          ]
        },
        {
          "output_type": "stream",
          "name": "stderr",
          "text": [
            "100%|██████████| 5/5 [04:12<00:00, 50.54s/it]\n"
          ]
        },
        {
          "output_type": "stream",
          "name": "stdout",
          "text": [
            "train Loss: 0.3883 Acc: 0.7866\n"
          ]
        },
        {
          "output_type": "stream",
          "name": "stderr",
          "text": [
            "100%|██████████| 1/1 [00:29<00:00, 29.85s/it]\n"
          ]
        },
        {
          "output_type": "stream",
          "name": "stdout",
          "text": [
            "val Loss: 0.3897 Acc: 0.8378\n",
            "Epoch 37/80\n",
            "-------------\n"
          ]
        },
        {
          "output_type": "stream",
          "name": "stderr",
          "text": [
            "100%|██████████| 5/5 [04:10<00:00, 50.18s/it]\n"
          ]
        },
        {
          "output_type": "stream",
          "name": "stdout",
          "text": [
            "train Loss: 0.3433 Acc: 0.8893\n"
          ]
        },
        {
          "output_type": "stream",
          "name": "stderr",
          "text": [
            "100%|██████████| 1/1 [00:29<00:00, 29.96s/it]\n"
          ]
        },
        {
          "output_type": "stream",
          "name": "stdout",
          "text": [
            "val Loss: 0.3673 Acc: 0.8108\n",
            "Epoch 38/80\n",
            "-------------\n"
          ]
        },
        {
          "output_type": "stream",
          "name": "stderr",
          "text": [
            "100%|██████████| 5/5 [04:08<00:00, 49.74s/it]\n"
          ]
        },
        {
          "output_type": "stream",
          "name": "stdout",
          "text": [
            "train Loss: 0.3151 Acc: 0.8617\n"
          ]
        },
        {
          "output_type": "stream",
          "name": "stderr",
          "text": [
            "100%|██████████| 1/1 [00:30<00:00, 30.95s/it]\n"
          ]
        },
        {
          "output_type": "stream",
          "name": "stdout",
          "text": [
            "val Loss: 0.4112 Acc: 0.8378\n",
            "Epoch 39/80\n",
            "-------------\n"
          ]
        },
        {
          "output_type": "stream",
          "name": "stderr",
          "text": [
            "100%|██████████| 5/5 [04:07<00:00, 49.40s/it]\n"
          ]
        },
        {
          "output_type": "stream",
          "name": "stdout",
          "text": [
            "train Loss: 0.3069 Acc: 0.8656\n"
          ]
        },
        {
          "output_type": "stream",
          "name": "stderr",
          "text": [
            "100%|██████████| 1/1 [00:30<00:00, 30.66s/it]\n"
          ]
        },
        {
          "output_type": "stream",
          "name": "stdout",
          "text": [
            "val Loss: 0.3477 Acc: 0.8378\n",
            "Epoch 40/80\n",
            "-------------\n"
          ]
        },
        {
          "output_type": "stream",
          "name": "stderr",
          "text": [
            "100%|██████████| 5/5 [04:07<00:00, 49.48s/it]\n"
          ]
        },
        {
          "output_type": "stream",
          "name": "stdout",
          "text": [
            "train Loss: 0.3171 Acc: 0.8972\n"
          ]
        },
        {
          "output_type": "stream",
          "name": "stderr",
          "text": [
            "100%|██████████| 1/1 [00:31<00:00, 31.36s/it]\n"
          ]
        },
        {
          "output_type": "stream",
          "name": "stdout",
          "text": [
            "val Loss: 0.3860 Acc: 0.8378\n",
            "Epoch 41/80\n",
            "-------------\n"
          ]
        },
        {
          "output_type": "stream",
          "name": "stderr",
          "text": [
            "100%|██████████| 5/5 [04:07<00:00, 49.45s/it]\n"
          ]
        },
        {
          "output_type": "stream",
          "name": "stdout",
          "text": [
            "train Loss: 0.3070 Acc: 0.8735\n"
          ]
        },
        {
          "output_type": "stream",
          "name": "stderr",
          "text": [
            "100%|██████████| 1/1 [00:31<00:00, 31.52s/it]\n"
          ]
        },
        {
          "output_type": "stream",
          "name": "stdout",
          "text": [
            "val Loss: 0.3600 Acc: 0.8108\n",
            "Epoch 42/80\n",
            "-------------\n"
          ]
        },
        {
          "output_type": "stream",
          "name": "stderr",
          "text": [
            "100%|██████████| 5/5 [04:06<00:00, 49.33s/it]\n"
          ]
        },
        {
          "output_type": "stream",
          "name": "stdout",
          "text": [
            "train Loss: 0.2977 Acc: 0.9012\n"
          ]
        },
        {
          "output_type": "stream",
          "name": "stderr",
          "text": [
            "100%|██████████| 1/1 [00:31<00:00, 31.48s/it]\n"
          ]
        },
        {
          "output_type": "stream",
          "name": "stdout",
          "text": [
            "val Loss: 0.3735 Acc: 0.8108\n",
            "Epoch 43/80\n",
            "-------------\n"
          ]
        },
        {
          "output_type": "stream",
          "name": "stderr",
          "text": [
            "100%|██████████| 5/5 [04:06<00:00, 49.32s/it]\n"
          ]
        },
        {
          "output_type": "stream",
          "name": "stdout",
          "text": [
            "train Loss: 0.2846 Acc: 0.9209\n"
          ]
        },
        {
          "output_type": "stream",
          "name": "stderr",
          "text": [
            "100%|██████████| 1/1 [00:31<00:00, 31.30s/it]\n"
          ]
        },
        {
          "output_type": "stream",
          "name": "stdout",
          "text": [
            "val Loss: 0.3715 Acc: 0.8108\n",
            "Epoch 44/80\n",
            "-------------\n"
          ]
        },
        {
          "output_type": "stream",
          "name": "stderr",
          "text": [
            "100%|██████████| 5/5 [04:06<00:00, 49.25s/it]\n"
          ]
        },
        {
          "output_type": "stream",
          "name": "stdout",
          "text": [
            "train Loss: 0.2975 Acc: 0.8893\n"
          ]
        },
        {
          "output_type": "stream",
          "name": "stderr",
          "text": [
            "100%|██████████| 1/1 [00:31<00:00, 31.13s/it]\n"
          ]
        },
        {
          "output_type": "stream",
          "name": "stdout",
          "text": [
            "val Loss: 0.3572 Acc: 0.8378\n",
            "Epoch 45/80\n",
            "-------------\n"
          ]
        },
        {
          "output_type": "stream",
          "name": "stderr",
          "text": [
            "100%|██████████| 5/5 [04:07<00:00, 49.59s/it]\n"
          ]
        },
        {
          "output_type": "stream",
          "name": "stdout",
          "text": [
            "train Loss: 0.2936 Acc: 0.8933\n"
          ]
        },
        {
          "output_type": "stream",
          "name": "stderr",
          "text": [
            "100%|██████████| 1/1 [00:30<00:00, 30.08s/it]\n"
          ]
        },
        {
          "output_type": "stream",
          "name": "stdout",
          "text": [
            "val Loss: 0.3824 Acc: 0.8378\n",
            "Epoch 46/80\n",
            "-------------\n"
          ]
        },
        {
          "output_type": "stream",
          "name": "stderr",
          "text": [
            "100%|██████████| 5/5 [04:10<00:00, 50.06s/it]\n"
          ]
        },
        {
          "output_type": "stream",
          "name": "stdout",
          "text": [
            "train Loss: 0.2854 Acc: 0.8696\n"
          ]
        },
        {
          "output_type": "stream",
          "name": "stderr",
          "text": [
            "100%|██████████| 1/1 [00:29<00:00, 29.87s/it]\n"
          ]
        },
        {
          "output_type": "stream",
          "name": "stdout",
          "text": [
            "val Loss: 0.3454 Acc: 0.8378\n",
            "Epoch 47/80\n",
            "-------------\n"
          ]
        },
        {
          "output_type": "stream",
          "name": "stderr",
          "text": [
            "100%|██████████| 5/5 [04:07<00:00, 49.47s/it]\n"
          ]
        },
        {
          "output_type": "stream",
          "name": "stdout",
          "text": [
            "train Loss: 0.2921 Acc: 0.9249\n"
          ]
        },
        {
          "output_type": "stream",
          "name": "stderr",
          "text": [
            "100%|██████████| 1/1 [00:31<00:00, 31.29s/it]\n"
          ]
        },
        {
          "output_type": "stream",
          "name": "stdout",
          "text": [
            "val Loss: 0.3579 Acc: 0.8378\n",
            "Epoch 48/80\n",
            "-------------\n"
          ]
        },
        {
          "output_type": "stream",
          "name": "stderr",
          "text": [
            "100%|██████████| 5/5 [04:06<00:00, 49.39s/it]\n"
          ]
        },
        {
          "output_type": "stream",
          "name": "stdout",
          "text": [
            "train Loss: 0.3040 Acc: 0.8775\n"
          ]
        },
        {
          "output_type": "stream",
          "name": "stderr",
          "text": [
            "100%|██████████| 1/1 [00:31<00:00, 31.28s/it]\n"
          ]
        },
        {
          "output_type": "stream",
          "name": "stdout",
          "text": [
            "val Loss: 0.3492 Acc: 0.8649\n",
            "Epoch 49/80\n",
            "-------------\n"
          ]
        },
        {
          "output_type": "stream",
          "name": "stderr",
          "text": [
            "100%|██████████| 5/5 [04:06<00:00, 49.35s/it]\n"
          ]
        },
        {
          "output_type": "stream",
          "name": "stdout",
          "text": [
            "train Loss: 0.2718 Acc: 0.9170\n"
          ]
        },
        {
          "output_type": "stream",
          "name": "stderr",
          "text": [
            "100%|██████████| 1/1 [00:31<00:00, 31.42s/it]\n"
          ]
        },
        {
          "output_type": "stream",
          "name": "stdout",
          "text": [
            "val Loss: 0.3335 Acc: 0.8378\n",
            "Epoch 50/80\n",
            "-------------\n"
          ]
        },
        {
          "output_type": "stream",
          "name": "stderr",
          "text": [
            "100%|██████████| 5/5 [04:09<00:00, 50.00s/it]\n"
          ]
        },
        {
          "output_type": "stream",
          "name": "stdout",
          "text": [
            "train Loss: 0.2891 Acc: 0.9012\n"
          ]
        },
        {
          "output_type": "stream",
          "name": "stderr",
          "text": [
            "100%|██████████| 1/1 [00:31<00:00, 31.29s/it]\n"
          ]
        },
        {
          "output_type": "stream",
          "name": "stdout",
          "text": [
            "val Loss: 0.3560 Acc: 0.8108\n",
            "Epoch 51/80\n",
            "-------------\n"
          ]
        },
        {
          "output_type": "stream",
          "name": "stderr",
          "text": [
            "100%|██████████| 5/5 [04:06<00:00, 49.35s/it]\n"
          ]
        },
        {
          "output_type": "stream",
          "name": "stdout",
          "text": [
            "train Loss: 0.2560 Acc: 0.9051\n"
          ]
        },
        {
          "output_type": "stream",
          "name": "stderr",
          "text": [
            "100%|██████████| 1/1 [00:31<00:00, 31.02s/it]\n"
          ]
        },
        {
          "output_type": "stream",
          "name": "stdout",
          "text": [
            "val Loss: 0.3337 Acc: 0.8378\n",
            "Epoch 52/80\n",
            "-------------\n"
          ]
        },
        {
          "output_type": "stream",
          "name": "stderr",
          "text": [
            "100%|██████████| 5/5 [04:07<00:00, 49.53s/it]\n"
          ]
        },
        {
          "output_type": "stream",
          "name": "stdout",
          "text": [
            "train Loss: 0.2690 Acc: 0.9328\n"
          ]
        },
        {
          "output_type": "stream",
          "name": "stderr",
          "text": [
            "100%|██████████| 1/1 [00:30<00:00, 30.55s/it]\n"
          ]
        },
        {
          "output_type": "stream",
          "name": "stdout",
          "text": [
            "val Loss: 0.3357 Acc: 0.8378\n",
            "Epoch 53/80\n",
            "-------------\n"
          ]
        },
        {
          "output_type": "stream",
          "name": "stderr",
          "text": [
            "100%|██████████| 5/5 [04:14<00:00, 50.92s/it]\n"
          ]
        },
        {
          "output_type": "stream",
          "name": "stdout",
          "text": [
            "train Loss: 0.2901 Acc: 0.8775\n"
          ]
        },
        {
          "output_type": "stream",
          "name": "stderr",
          "text": [
            "100%|██████████| 1/1 [00:29<00:00, 29.85s/it]\n"
          ]
        },
        {
          "output_type": "stream",
          "name": "stdout",
          "text": [
            "val Loss: 0.3358 Acc: 0.8378\n",
            "Epoch 54/80\n",
            "-------------\n"
          ]
        },
        {
          "output_type": "stream",
          "name": "stderr",
          "text": [
            "100%|██████████| 5/5 [04:09<00:00, 49.95s/it]\n"
          ]
        },
        {
          "output_type": "stream",
          "name": "stdout",
          "text": [
            "train Loss: 0.3072 Acc: 0.9091\n"
          ]
        },
        {
          "output_type": "stream",
          "name": "stderr",
          "text": [
            "100%|██████████| 1/1 [00:30<00:00, 30.35s/it]\n"
          ]
        },
        {
          "output_type": "stream",
          "name": "stdout",
          "text": [
            "val Loss: 0.3420 Acc: 0.8378\n",
            "Epoch 55/80\n",
            "-------------\n"
          ]
        },
        {
          "output_type": "stream",
          "name": "stderr",
          "text": [
            "100%|██████████| 5/5 [04:09<00:00, 49.89s/it]\n"
          ]
        },
        {
          "output_type": "stream",
          "name": "stdout",
          "text": [
            "train Loss: 0.2813 Acc: 0.8854\n"
          ]
        },
        {
          "output_type": "stream",
          "name": "stderr",
          "text": [
            "100%|██████████| 1/1 [00:30<00:00, 30.67s/it]\n"
          ]
        },
        {
          "output_type": "stream",
          "name": "stdout",
          "text": [
            "val Loss: 0.3571 Acc: 0.8108\n",
            "Epoch 56/80\n",
            "-------------\n"
          ]
        },
        {
          "output_type": "stream",
          "name": "stderr",
          "text": [
            "100%|██████████| 5/5 [04:08<00:00, 49.62s/it]\n"
          ]
        },
        {
          "output_type": "stream",
          "name": "stdout",
          "text": [
            "train Loss: 0.2922 Acc: 0.8893\n"
          ]
        },
        {
          "output_type": "stream",
          "name": "stderr",
          "text": [
            "100%|██████████| 1/1 [00:30<00:00, 30.89s/it]\n"
          ]
        },
        {
          "output_type": "stream",
          "name": "stdout",
          "text": [
            "val Loss: 0.3357 Acc: 0.8378\n",
            "Epoch 57/80\n",
            "-------------\n"
          ]
        },
        {
          "output_type": "stream",
          "name": "stderr",
          "text": [
            "100%|██████████| 5/5 [04:08<00:00, 49.61s/it]\n"
          ]
        },
        {
          "output_type": "stream",
          "name": "stdout",
          "text": [
            "train Loss: 0.2957 Acc: 0.8696\n"
          ]
        },
        {
          "output_type": "stream",
          "name": "stderr",
          "text": [
            "100%|██████████| 1/1 [00:30<00:00, 30.69s/it]\n"
          ]
        },
        {
          "output_type": "stream",
          "name": "stdout",
          "text": [
            "val Loss: 0.3786 Acc: 0.8378\n",
            "Epoch 58/80\n",
            "-------------\n"
          ]
        },
        {
          "output_type": "stream",
          "name": "stderr",
          "text": [
            "100%|██████████| 5/5 [04:09<00:00, 49.83s/it]\n"
          ]
        },
        {
          "output_type": "stream",
          "name": "stdout",
          "text": [
            "train Loss: 0.2901 Acc: 0.8893\n"
          ]
        },
        {
          "output_type": "stream",
          "name": "stderr",
          "text": [
            "100%|██████████| 1/1 [00:30<00:00, 30.81s/it]\n"
          ]
        },
        {
          "output_type": "stream",
          "name": "stdout",
          "text": [
            "val Loss: 0.3249 Acc: 0.8649\n",
            "Epoch 59/80\n",
            "-------------\n"
          ]
        },
        {
          "output_type": "stream",
          "name": "stderr",
          "text": [
            "100%|██████████| 5/5 [04:08<00:00, 49.76s/it]\n"
          ]
        },
        {
          "output_type": "stream",
          "name": "stdout",
          "text": [
            "train Loss: 0.2661 Acc: 0.8814\n"
          ]
        },
        {
          "output_type": "stream",
          "name": "stderr",
          "text": [
            "100%|██████████| 1/1 [00:30<00:00, 30.66s/it]\n"
          ]
        },
        {
          "output_type": "stream",
          "name": "stdout",
          "text": [
            "val Loss: 0.4010 Acc: 0.8378\n",
            "Epoch 60/80\n",
            "-------------\n"
          ]
        },
        {
          "output_type": "stream",
          "name": "stderr",
          "text": [
            "100%|██████████| 5/5 [04:08<00:00, 49.73s/it]\n"
          ]
        },
        {
          "output_type": "stream",
          "name": "stdout",
          "text": [
            "train Loss: 0.2563 Acc: 0.9091\n"
          ]
        },
        {
          "output_type": "stream",
          "name": "stderr",
          "text": [
            "100%|██████████| 1/1 [00:30<00:00, 30.40s/it]\n"
          ]
        },
        {
          "output_type": "stream",
          "name": "stdout",
          "text": [
            "val Loss: 0.3245 Acc: 0.8378\n",
            "Epoch 61/80\n",
            "-------------\n"
          ]
        },
        {
          "output_type": "stream",
          "name": "stderr",
          "text": [
            "100%|██████████| 5/5 [04:16<00:00, 51.32s/it]\n"
          ]
        },
        {
          "output_type": "stream",
          "name": "stdout",
          "text": [
            "train Loss: 0.2651 Acc: 0.9209\n"
          ]
        },
        {
          "output_type": "stream",
          "name": "stderr",
          "text": [
            "100%|██████████| 1/1 [00:29<00:00, 29.90s/it]\n"
          ]
        },
        {
          "output_type": "stream",
          "name": "stdout",
          "text": [
            "val Loss: 0.3544 Acc: 0.8378\n",
            "Epoch 62/80\n",
            "-------------\n"
          ]
        },
        {
          "output_type": "stream",
          "name": "stderr",
          "text": [
            "100%|██████████| 5/5 [04:09<00:00, 49.87s/it]\n"
          ]
        },
        {
          "output_type": "stream",
          "name": "stdout",
          "text": [
            "train Loss: 0.2360 Acc: 0.9209\n"
          ]
        },
        {
          "output_type": "stream",
          "name": "stderr",
          "text": [
            "100%|██████████| 1/1 [00:30<00:00, 30.39s/it]\n"
          ]
        },
        {
          "output_type": "stream",
          "name": "stdout",
          "text": [
            "val Loss: 0.3252 Acc: 0.8378\n",
            "Epoch 63/80\n",
            "-------------\n"
          ]
        },
        {
          "output_type": "stream",
          "name": "stderr",
          "text": [
            "100%|██████████| 5/5 [04:08<00:00, 49.61s/it]\n"
          ]
        },
        {
          "output_type": "stream",
          "name": "stdout",
          "text": [
            "train Loss: 0.2499 Acc: 0.9130\n"
          ]
        },
        {
          "output_type": "stream",
          "name": "stderr",
          "text": [
            "100%|██████████| 1/1 [00:31<00:00, 31.05s/it]\n"
          ]
        },
        {
          "output_type": "stream",
          "name": "stdout",
          "text": [
            "val Loss: 0.3338 Acc: 0.8378\n",
            "Epoch 64/80\n",
            "-------------\n"
          ]
        },
        {
          "output_type": "stream",
          "name": "stderr",
          "text": [
            "100%|██████████| 5/5 [04:06<00:00, 49.38s/it]\n"
          ]
        },
        {
          "output_type": "stream",
          "name": "stdout",
          "text": [
            "train Loss: 0.2627 Acc: 0.9130\n"
          ]
        },
        {
          "output_type": "stream",
          "name": "stderr",
          "text": [
            "100%|██████████| 1/1 [00:31<00:00, 31.29s/it]\n"
          ]
        },
        {
          "output_type": "stream",
          "name": "stdout",
          "text": [
            "val Loss: 0.3286 Acc: 0.8378\n",
            "Epoch 65/80\n",
            "-------------\n"
          ]
        },
        {
          "output_type": "stream",
          "name": "stderr",
          "text": [
            "100%|██████████| 5/5 [04:06<00:00, 49.37s/it]\n"
          ]
        },
        {
          "output_type": "stream",
          "name": "stdout",
          "text": [
            "train Loss: 0.2266 Acc: 0.9407\n"
          ]
        },
        {
          "output_type": "stream",
          "name": "stderr",
          "text": [
            "100%|██████████| 1/1 [00:31<00:00, 31.40s/it]\n"
          ]
        },
        {
          "output_type": "stream",
          "name": "stdout",
          "text": [
            "val Loss: 0.3431 Acc: 0.8378\n",
            "Epoch 66/80\n",
            "-------------\n"
          ]
        },
        {
          "output_type": "stream",
          "name": "stderr",
          "text": [
            "100%|██████████| 5/5 [04:06<00:00, 49.27s/it]\n"
          ]
        },
        {
          "output_type": "stream",
          "name": "stdout",
          "text": [
            "train Loss: 0.2518 Acc: 0.9289\n"
          ]
        },
        {
          "output_type": "stream",
          "name": "stderr",
          "text": [
            "100%|██████████| 1/1 [00:30<00:00, 30.96s/it]\n"
          ]
        },
        {
          "output_type": "stream",
          "name": "stdout",
          "text": [
            "val Loss: 0.3218 Acc: 0.8378\n",
            "Epoch 67/80\n",
            "-------------\n"
          ]
        },
        {
          "output_type": "stream",
          "name": "stderr",
          "text": [
            "100%|██████████| 5/5 [04:14<00:00, 50.90s/it]\n"
          ]
        },
        {
          "output_type": "stream",
          "name": "stdout",
          "text": [
            "train Loss: 0.2545 Acc: 0.9170\n"
          ]
        },
        {
          "output_type": "stream",
          "name": "stderr",
          "text": [
            "100%|██████████| 1/1 [00:29<00:00, 29.94s/it]\n"
          ]
        },
        {
          "output_type": "stream",
          "name": "stdout",
          "text": [
            "val Loss: 0.3136 Acc: 0.8378\n",
            "Epoch 68/80\n",
            "-------------\n"
          ]
        },
        {
          "output_type": "stream",
          "name": "stderr",
          "text": [
            "100%|██████████| 5/5 [04:09<00:00, 49.83s/it]\n"
          ]
        },
        {
          "output_type": "stream",
          "name": "stdout",
          "text": [
            "train Loss: 0.2364 Acc: 0.9447\n"
          ]
        },
        {
          "output_type": "stream",
          "name": "stderr",
          "text": [
            "100%|██████████| 1/1 [00:31<00:00, 31.26s/it]\n"
          ]
        },
        {
          "output_type": "stream",
          "name": "stdout",
          "text": [
            "val Loss: 0.3219 Acc: 0.8378\n",
            "Epoch 69/80\n",
            "-------------\n"
          ]
        },
        {
          "output_type": "stream",
          "name": "stderr",
          "text": [
            "100%|██████████| 5/5 [04:06<00:00, 49.26s/it]\n"
          ]
        },
        {
          "output_type": "stream",
          "name": "stdout",
          "text": [
            "train Loss: 0.2405 Acc: 0.9249\n"
          ]
        },
        {
          "output_type": "stream",
          "name": "stderr",
          "text": [
            "100%|██████████| 1/1 [00:31<00:00, 31.26s/it]\n"
          ]
        },
        {
          "output_type": "stream",
          "name": "stdout",
          "text": [
            "val Loss: 0.3067 Acc: 0.8378\n",
            "Epoch 70/80\n",
            "-------------\n"
          ]
        },
        {
          "output_type": "stream",
          "name": "stderr",
          "text": [
            "100%|██████████| 5/5 [04:06<00:00, 49.36s/it]\n"
          ]
        },
        {
          "output_type": "stream",
          "name": "stdout",
          "text": [
            "train Loss: 0.2307 Acc: 0.9328\n"
          ]
        },
        {
          "output_type": "stream",
          "name": "stderr",
          "text": [
            "100%|██████████| 1/1 [00:31<00:00, 31.21s/it]\n"
          ]
        },
        {
          "output_type": "stream",
          "name": "stdout",
          "text": [
            "val Loss: 0.3127 Acc: 0.8378\n",
            "Epoch 71/80\n",
            "-------------\n"
          ]
        },
        {
          "output_type": "stream",
          "name": "stderr",
          "text": [
            "100%|██████████| 5/5 [04:07<00:00, 49.41s/it]\n"
          ]
        },
        {
          "output_type": "stream",
          "name": "stdout",
          "text": [
            "train Loss: 0.2439 Acc: 0.9130\n"
          ]
        },
        {
          "output_type": "stream",
          "name": "stderr",
          "text": [
            "100%|██████████| 1/1 [00:31<00:00, 31.26s/it]\n"
          ]
        },
        {
          "output_type": "stream",
          "name": "stdout",
          "text": [
            "val Loss: 0.3102 Acc: 0.8378\n",
            "Epoch 72/80\n",
            "-------------\n"
          ]
        },
        {
          "output_type": "stream",
          "name": "stderr",
          "text": [
            "100%|██████████| 5/5 [04:06<00:00, 49.34s/it]\n"
          ]
        },
        {
          "output_type": "stream",
          "name": "stdout",
          "text": [
            "train Loss: 0.2423 Acc: 0.8775\n"
          ]
        },
        {
          "output_type": "stream",
          "name": "stderr",
          "text": [
            "100%|██████████| 1/1 [00:31<00:00, 31.14s/it]\n"
          ]
        },
        {
          "output_type": "stream",
          "name": "stdout",
          "text": [
            "val Loss: 0.3004 Acc: 0.8378\n",
            "Epoch 73/80\n",
            "-------------\n"
          ]
        },
        {
          "output_type": "stream",
          "name": "stderr",
          "text": [
            "100%|██████████| 5/5 [04:11<00:00, 50.37s/it]\n"
          ]
        },
        {
          "output_type": "stream",
          "name": "stdout",
          "text": [
            "train Loss: 0.2317 Acc: 0.9526\n"
          ]
        },
        {
          "output_type": "stream",
          "name": "stderr",
          "text": [
            "100%|██████████| 1/1 [00:29<00:00, 29.88s/it]\n"
          ]
        },
        {
          "output_type": "stream",
          "name": "stdout",
          "text": [
            "val Loss: 0.3029 Acc: 0.8649\n",
            "Epoch 74/80\n",
            "-------------\n"
          ]
        },
        {
          "output_type": "stream",
          "name": "stderr",
          "text": [
            "100%|██████████| 5/5 [04:10<00:00, 50.09s/it]\n"
          ]
        },
        {
          "output_type": "stream",
          "name": "stdout",
          "text": [
            "train Loss: 0.2246 Acc: 0.9368\n"
          ]
        },
        {
          "output_type": "stream",
          "name": "stderr",
          "text": [
            "100%|██████████| 1/1 [00:29<00:00, 29.99s/it]\n"
          ]
        },
        {
          "output_type": "stream",
          "name": "stdout",
          "text": [
            "val Loss: 0.3142 Acc: 0.8378\n",
            "Epoch 75/80\n",
            "-------------\n"
          ]
        },
        {
          "output_type": "stream",
          "name": "stderr",
          "text": [
            "100%|██████████| 5/5 [04:09<00:00, 49.80s/it]\n"
          ]
        },
        {
          "output_type": "stream",
          "name": "stdout",
          "text": [
            "train Loss: 0.2317 Acc: 0.9209\n"
          ]
        },
        {
          "output_type": "stream",
          "name": "stderr",
          "text": [
            "100%|██████████| 1/1 [00:30<00:00, 30.97s/it]\n"
          ]
        },
        {
          "output_type": "stream",
          "name": "stdout",
          "text": [
            "val Loss: 0.3050 Acc: 0.8378\n",
            "Epoch 76/80\n",
            "-------------\n"
          ]
        },
        {
          "output_type": "stream",
          "name": "stderr",
          "text": [
            "100%|██████████| 5/5 [04:07<00:00, 49.55s/it]\n"
          ]
        },
        {
          "output_type": "stream",
          "name": "stdout",
          "text": [
            "train Loss: 0.2403 Acc: 0.9209\n"
          ]
        },
        {
          "output_type": "stream",
          "name": "stderr",
          "text": [
            "100%|██████████| 1/1 [00:31<00:00, 31.33s/it]\n"
          ]
        },
        {
          "output_type": "stream",
          "name": "stdout",
          "text": [
            "val Loss: 0.3074 Acc: 0.8378\n",
            "Epoch 77/80\n",
            "-------------\n"
          ]
        },
        {
          "output_type": "stream",
          "name": "stderr",
          "text": [
            "100%|██████████| 5/5 [04:07<00:00, 49.41s/it]\n"
          ]
        },
        {
          "output_type": "stream",
          "name": "stdout",
          "text": [
            "train Loss: 0.2253 Acc: 0.9289\n"
          ]
        },
        {
          "output_type": "stream",
          "name": "stderr",
          "text": [
            "100%|██████████| 1/1 [00:31<00:00, 31.41s/it]\n"
          ]
        },
        {
          "output_type": "stream",
          "name": "stdout",
          "text": [
            "val Loss: 0.3150 Acc: 0.8378\n",
            "Epoch 78/80\n",
            "-------------\n"
          ]
        },
        {
          "output_type": "stream",
          "name": "stderr",
          "text": [
            "100%|██████████| 5/5 [04:07<00:00, 49.51s/it]\n"
          ]
        },
        {
          "output_type": "stream",
          "name": "stdout",
          "text": [
            "train Loss: 0.2219 Acc: 0.9328\n"
          ]
        },
        {
          "output_type": "stream",
          "name": "stderr",
          "text": [
            "100%|██████████| 1/1 [00:31<00:00, 31.43s/it]\n"
          ]
        },
        {
          "output_type": "stream",
          "name": "stdout",
          "text": [
            "val Loss: 0.3073 Acc: 0.8378\n",
            "Epoch 79/80\n",
            "-------------\n"
          ]
        },
        {
          "output_type": "stream",
          "name": "stderr",
          "text": [
            "100%|██████████| 5/5 [04:06<00:00, 49.38s/it]\n"
          ]
        },
        {
          "output_type": "stream",
          "name": "stdout",
          "text": [
            "train Loss: 0.2283 Acc: 0.9368\n"
          ]
        },
        {
          "output_type": "stream",
          "name": "stderr",
          "text": [
            "100%|██████████| 1/1 [00:31<00:00, 31.08s/it]\n"
          ]
        },
        {
          "output_type": "stream",
          "name": "stdout",
          "text": [
            "val Loss: 0.3085 Acc: 0.8378\n",
            "Epoch 80/80\n",
            "-------------\n"
          ]
        },
        {
          "output_type": "stream",
          "name": "stderr",
          "text": [
            "100%|██████████| 5/5 [04:07<00:00, 49.40s/it]\n"
          ]
        },
        {
          "output_type": "stream",
          "name": "stdout",
          "text": [
            "train Loss: 0.2168 Acc: 0.9289\n"
          ]
        },
        {
          "output_type": "stream",
          "name": "stderr",
          "text": [
            "100%|██████████| 1/1 [00:30<00:00, 30.93s/it]\n"
          ]
        },
        {
          "output_type": "stream",
          "name": "stdout",
          "text": [
            "val Loss: 0.3098 Acc: 0.8378\n"
          ]
        }
      ]
    },
    {
      "cell_type": "code",
      "source": [
        "score_train = score[score['phase']=='train']\n",
        "score_test = score[score['phase']=='val']\n",
        "plt.plot(score_train['epoch'], score_train['acc'], label='train')\n",
        "plt.plot(score_test['epoch'], score_test['acc'], label='val')\n",
        "plt.legend()\n",
        "plt.show()"
      ],
      "metadata": {
        "colab": {
          "base_uri": "https://localhost:8080/",
          "height": 430
        },
        "id": "yv63-tOOdR1-",
        "outputId": "3bdc0d39-fa51-4646-f7fc-320abc76e008"
      },
      "execution_count": 11,
      "outputs": [
        {
          "output_type": "display_data",
          "data": {
            "text/plain": [
              "<Figure size 640x480 with 1 Axes>"
            ],
            "image/png": "[encoded data removed]"
          },
          "metadata": {}
        }
      ]
    },
    {
      "cell_type": "code",
      "source": [
        "score_train = score[score['phase']=='train']\n",
        "score_test = score[score['phase']=='val']\n",
        "plt.plot(score_train['epoch'], score_train['loss'], label='train')\n",
        "plt.plot(score_test['epoch'], score_test['loss'], label='val')\n",
        "plt.legend()\n",
        "plt.show()"
      ],
      "metadata": {
        "colab": {
          "base_uri": "https://localhost:8080/",
          "height": 430
        },
        "outputId": "4c1ae951-52ce-4683-e7af-fe1070ddb7ff",
        "id": "Cpz6A6btDGPk"
      },
      "execution_count": 12,
      "outputs": [
        {
          "output_type": "display_data",
          "data": {
            "text/plain": [
              "<Figure size 640x480 with 1 Axes>"
            ],
            "image/png": "[encoded data removed]"
          },
          "metadata": {}
        }
      ]
    },
    {
      "cell_type": "code",
      "source": [
        "net.to('cpu').load_state_dict(torch.load(os.path.join(MODEL_DIR, f'vith14_seed{seed}_ep{EPOCHS}_best_loss_bin2.pth')))\n",
        "net.to(device)\n",
        "test_dataset = CustomDataset(test_df, phase='test')\n",
        "test_dataloader = torch.utils.data.DataLoader(test_dataset, batch_size=BATCH_SIZE, shuffle=False)\n",
        "pred_test = predict(net, test_dataloader)\n",
        "df_pred = pd.DataFrame(pred_test, columns=['predicted_label'])\n",
        "df_pred.to_csv(os.path.join(DIR,f'pred_test_vith14_best_loss_bin2_ep{EPOCHS}.csv'), index=False)"
      ],
      "metadata": {
        "colab": {
          "base_uri": "https://localhost:8080/"
        },
        "outputId": "17791e1c-898f-4ba8-8b26-d48c210f0986",
        "id": "nD5Z931XGHlS"
      },
      "execution_count": 13,
      "outputs": [
        {
          "output_type": "stream",
          "name": "stderr",
          "text": [
            "<ipython-input-13-681cff6496d4>:1: FutureWarning: You are using `torch.load` with `weights_only=False` (the current default value), which uses the default pickle module implicitly. It is possible to construct malicious pickle data which will execute arbitrary code during unpickling (See https://github.com/pytorch/pytorch/blob/main/SECURITY.md#untrusted-models for more details). In a future release, the default value for `weights_only` will be flipped to `True`. This limits the functions that could be executed during unpickling. Arbitrary objects will no longer be allowed to be loaded via this mode unless they are explicitly allowlisted by the user via `torch.serialization.add_safe_globals`. We recommend you start setting `weights_only=True` for any use case where you don't have full control of the loaded file. Please open an issue on GitHub for any issues related to this experimental feature.\n",
            "  net.to('cpu').load_state_dict(torch.load(os.path.join(MODEL_DIR, f'vith14_seed{seed}_ep{EPOCHS}_best_loss_bin2.pth')))\n"
          ]
        }
      ]
    },
    {
      "cell_type": "code",
      "source": [
        "from datetime import datetime\n",
        "\n",
        "test_df['key'] = test_df['file_name'].apply(lambda x: os.path.basename(x))\n",
        "test_df['predicted_label'] = df_pred['predicted_label'].values\n",
        "\n",
        "now = datetime.now()\n",
        "\n",
        "# ファイル名と予測結果をDataFrameに変換\n",
        "#判別結果をDataFrameに変換し、tsvファイルに出力\n",
        "submit_file = f'/content/drive/MyDrive/DXQuest_PBL02/ID100822_PBL02_ver{now:%Y%m%d%H%M%S}.tsv'\n",
        "print(submit_file)\n",
        "test_df[['key','predicted_label']].to_csv(submit_file,\n",
        "         index=False,\n",
        "         header=False,\n",
        "         sep='\\t')"
      ],
      "metadata": {
        "colab": {
          "base_uri": "https://localhost:8080/"
        },
        "id": "PBOtKWHFC5DO",
        "outputId": "9b4d00ce-36c5-469d-c1f8-e4ca37ea2a34"
      },
      "execution_count": 14,
      "outputs": [
        {
          "output_type": "stream",
          "name": "stdout",
          "text": [
            "/content/drive/MyDrive/DXQuest_PBL02/ID100822_PBL02_ver20241001143343.tsv\n"
          ]
        }
      ]
    },
    {
      "cell_type": "code",
      "source": [
        "net.to('cpu').load_state_dict(torch.load(os.path.join(MODEL_DIR, f'vith14_seed{seed}_ep{EPOCHS}_best_acc_bin2.pth')))\n",
        "net.to(device)\n",
        "test_dataset = CustomDataset(test_df, phase='test')\n",
        "test_dataloader = torch.utils.data.DataLoader(test_dataset, batch_size=BATCH_SIZE, shuffle=False)\n",
        "pred_test = predict(net, test_dataloader)\n",
        "df_pred = pd.DataFrame(pred_test, columns=['predicted_label'])\n",
        "df_pred.to_csv(os.path.join(DIR,f'pred_test_vith14_best_acc_bin2_ep{EPOCHS}.csv'), index=False)"
      ],
      "metadata": {
        "id": "TfHcohhHDZDi",
        "colab": {
          "base_uri": "https://localhost:8080/"
        },
        "outputId": "cac71bc9-51e2-4ca2-83c9-10cd54bcd290"
      },
      "execution_count": 15,
      "outputs": [
        {
          "output_type": "stream",
          "name": "stderr",
          "text": [
            "<ipython-input-15-c9e389bdd07b>:1: FutureWarning: You are using `torch.load` with `weights_only=False` (the current default value), which uses the default pickle module implicitly. It is possible to construct malicious pickle data which will execute arbitrary code during unpickling (See https://github.com/pytorch/pytorch/blob/main/SECURITY.md#untrusted-models for more details). In a future release, the default value for `weights_only` will be flipped to `True`. This limits the functions that could be executed during unpickling. Arbitrary objects will no longer be allowed to be loaded via this mode unless they are explicitly allowlisted by the user via `torch.serialization.add_safe_globals`. We recommend you start setting `weights_only=True` for any use case where you don't have full control of the loaded file. Please open an issue on GitHub for any issues related to this experimental feature.\n",
            "  net.to('cpu').load_state_dict(torch.load(os.path.join(MODEL_DIR, f'vith14_seed{seed}_ep{EPOCHS}_best_acc_bin2.pth')))\n"
          ]
        }
      ]
    },
    {
      "cell_type": "code",
      "source": [
        "from datetime import datetime\n",
        "\n",
        "test_df['key'] = test_df['file_name'].apply(lambda x: os.path.basename(x))\n",
        "test_df['predicted_label'] = df_pred['predicted_label'].values\n",
        "\n",
        "now = datetime.now()\n",
        "\n",
        "# ファイル名と予測結果をDataFrameに変換\n",
        "#判別結果をDataFrameに変換し、tsvファイルに出力\n",
        "submit_file = f'/content/drive/MyDrive/DXQuest_PBL02/ID100822_PBL02_ver{now:%Y%m%d%H%M%S}.tsv'\n",
        "print(submit_file)\n",
        "test_df[['key','predicted_label']].to_csv(submit_file,\n",
        "         index=False,\n",
        "         header=False,\n",
        "         sep='\\t')"
      ],
      "metadata": {
        "colab": {
          "base_uri": "https://localhost:8080/"
        },
        "id": "vG7UrkkLEZXq",
        "outputId": "f162ec94-5eb0-453b-fd1f-42404ef50b24"
      },
      "execution_count": 16,
      "outputs": [
        {
          "output_type": "stream",
          "name": "stdout",
          "text": [
            "/content/drive/MyDrive/DXQuest_PBL02/ID100822_PBL02_ver20241001143659.tsv\n"
          ]
        }
      ]
    },
    {
      "cell_type": "code",
      "source": [
        "net.to('cpu').load_state_dict(torch.load(os.path.join(MODEL_DIR, f'vith14_seed{seed}_ep{EPOCHS}_{iter}_bin2.pth')))\n",
        "net.to(device)\n",
        "test_dataset = CustomDataset(test_df, phase='test')\n",
        "test_dataloader = torch.utils.data.DataLoader(test_dataset, batch_size=BATCH_SIZE, shuffle=False)\n",
        "pred_test = predict(net, test_dataloader)\n",
        "df_pred = pd.DataFrame(pred_test, columns=['predicted_label'])\n",
        "df_pred.to_csv(os.path.join(DIR,f'pred_test_vith14_final_bin2_ep{EPOCHS}.csv'), index=False)"
      ],
      "metadata": {
        "colab": {
          "base_uri": "https://localhost:8080/"
        },
        "id": "ALlkGuKmLzBa",
        "outputId": "b3f567bb-f30f-4ba2-f7dc-858097475a75"
      },
      "execution_count": 17,
      "outputs": [
        {
          "output_type": "stream",
          "name": "stderr",
          "text": [
            "<ipython-input-17-2ff3e9550ea9>:1: FutureWarning: You are using `torch.load` with `weights_only=False` (the current default value), which uses the default pickle module implicitly. It is possible to construct malicious pickle data which will execute arbitrary code during unpickling (See https://github.com/pytorch/pytorch/blob/main/SECURITY.md#untrusted-models for more details). In a future release, the default value for `weights_only` will be flipped to `True`. This limits the functions that could be executed during unpickling. Arbitrary objects will no longer be allowed to be loaded via this mode unless they are explicitly allowlisted by the user via `torch.serialization.add_safe_globals`. We recommend you start setting `weights_only=True` for any use case where you don't have full control of the loaded file. Please open an issue on GitHub for any issues related to this experimental feature.\n",
            "  net.to('cpu').load_state_dict(torch.load(os.path.join(MODEL_DIR, f'vith14_seed{seed}_ep{EPOCHS}_{iter}_bin2.pth')))\n"
          ]
        }
      ]
    },
    {
      "cell_type": "code",
      "source": [
        "from datetime import datetime\n",
        "\n",
        "test_df['key'] = test_df['file_name'].apply(lambda x: os.path.basename(x))\n",
        "test_df['predicted_label'] = df_pred['predicted_label'].values\n",
        "\n",
        "now = datetime.now()\n",
        "\n",
        "# ファイル名と予測結果をDataFrameに変換\n",
        "#判別結果をDataFrameに変換し、tsvファイルに出力\n",
        "submit_file = f'/content/drive/MyDrive/DXQuest_PBL02/ID100822_PBL02_ver{now:%Y%m%d%H%M%S}.tsv'\n",
        "print(submit_file)\n",
        "test_df[['key','predicted_label']].to_csv(submit_file,\n",
        "         index=False,\n",
        "         header=False,\n",
        "         sep='\\t')"
      ],
      "metadata": {
        "colab": {
          "base_uri": "https://localhost:8080/"
        },
        "id": "xz1hTmRkEaNw",
        "outputId": "d947808e-ccfe-4efb-feb4-5e71c59ee01c"
      },
      "execution_count": 18,
      "outputs": [
        {
          "output_type": "stream",
          "name": "stdout",
          "text": [
            "/content/drive/MyDrive/DXQuest_PBL02/ID100822_PBL02_ver20241001144011.tsv\n"
          ]
        }
      ]
    }
  ]
}