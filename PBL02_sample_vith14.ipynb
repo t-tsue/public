{
  "nbformat": 4,
  "nbformat_minor": 0,
  "metadata": {
    "colab": {
      "provenance": [],
      "gpuType": "T4",
      "include_colab_link": true
    },
    "kernelspec": {
      "name": "python3",
      "display_name": "Python 3"
    },
    "language_info": {
      "name": "python"
    },
    "accelerator": "GPU"
  },
  "cells": [
    {
      "cell_type": "markdown",
      "metadata": {
        "id": "view-in-github",
        "colab_type": "text"
      },
      "source": [
        "<a href=\"https://colab.research.google.com/github/t-tsue/public/blob/main/PBL02_sample_vith14.ipynb\" target=\"_parent\"><img src=\"https://colab.research.google.com/assets/colab-badge.svg\" alt=\"Open In Colab\"/></a>"
      ]
    },
    {
      "cell_type": "code",
      "execution_count": 1,
      "metadata": {
        "colab": {
          "base_uri": "https://localhost:8080/"
        },
        "id": "6mq5yjPE4YwK",
        "outputId": "5e3dc6aa-a371-46fe-d5b9-e881ba94d1f3"
      },
      "outputs": [
        {
          "output_type": "stream",
          "name": "stdout",
          "text": [
            "Drive already mounted at /content/drive; to attempt to forcibly remount, call drive.mount(\"/content/drive\", force_remount=True).\n"
          ]
        }
      ],
      "source": [
        "from google.colab import drive\n",
        "drive.mount('/content/drive')\n",
        "DIR='/content/drive/My Drive/DXQuest_PBL02/'"
      ]
    },
    {
      "cell_type": "code",
      "source": [
        "from PIL import Image\n",
        "import matplotlib.pyplot as plt\n",
        "import numpy as np\n",
        "import os\n",
        "import glob\n",
        "import pandas as pd\n",
        "\n",
        "train_files = glob.glob(os.path.join(DIR,'train_conv', '*/*.jpeg'))\n",
        "test_files = sorted(glob.glob(os.path.join(DIR,'test_conv', '*.jpeg')))\n",
        "\n",
        "train_df = pd.DataFrame(train_files, columns=['file_name'])\n",
        "test_df = pd.DataFrame(test_files, columns=['file_name'])"
      ],
      "metadata": {
        "id": "9IvJX4A74kbA"
      },
      "execution_count": 2,
      "outputs": []
    },
    {
      "cell_type": "code",
      "source": [
        "def get_label(x):\n",
        "  if 'bridge' in x:\n",
        "    return 1\n",
        "  elif 'horn' in x:\n",
        "    return 2\n",
        "  elif 'potato' in x:\n",
        "    return 3\n",
        "  else:\n",
        "    return 0\n",
        "\n",
        "train_df['label'] = train_df['file_name'].apply(get_label)"
      ],
      "metadata": {
        "id": "-H1k16py5S95"
      },
      "execution_count": 3,
      "outputs": []
    },
    {
      "cell_type": "code",
      "source": [
        "import matplotlib.pyplot as plt\n",
        "import torch\n",
        "import torch.nn as nn\n",
        "import torch.nn.functional as F\n",
        "import torchvision\n",
        "import torchvision.transforms as transforms\n",
        "from torchvision import models\n",
        "import torch.optim as optim\n",
        "import random\n",
        "import torch.utils.data as data\n",
        "from tqdm import tqdm\n",
        "from torch.utils.data import Dataset, DataLoader\n",
        "from sklearn.metrics import accuracy_score,f1_score,recall_score,precision_score\n",
        "from sklearn.model_selection import StratifiedKFold"
      ],
      "metadata": {
        "id": "AAu7XoE37Y08"
      },
      "execution_count": 4,
      "outputs": []
    },
    {
      "cell_type": "code",
      "source": [
        "device = \"cuda\" if torch.cuda.is_available() else \"cpu\"\n",
        "#torch.set_default_device(device)"
      ],
      "metadata": {
        "id": "GE3HQnj1QdvH"
      },
      "execution_count": 5,
      "outputs": []
    },
    {
      "cell_type": "code",
      "source": [
        "SIZE = 518\n",
        "CSIZE = 518\n",
        "MEAN = (0.485, 0.456, 0.406)\n",
        "STD = (0.229, 0.224, 0.225)\n",
        "\n",
        "class ImageTransform():\n",
        "  def __init__(self, phase, resize = SIZE, csize=CSIZE, mean = MEAN, std = STD):\n",
        "    self.phase = phase\n",
        "    if phase == 'train':\n",
        "      self.data_transform = transforms.Compose([\n",
        "          transforms.RandomResizedCrop(resize,scale=(0.9,1)),\n",
        "          transforms.RandomHorizontalFlip(),\n",
        "          transforms.RandomVerticalFlip(),\n",
        "          transforms.RandomRotation(degrees=(-10,10)),\n",
        "          transforms.ToTensor(),\n",
        "          transforms.Normalize(mean, std)\n",
        "      ])\n",
        "    else:\n",
        "      self.data_transform = transforms.Compose([\n",
        "          transforms.Resize(resize),\n",
        "          transforms.CenterCrop(csize),\n",
        "          transforms.ToTensor(),\n",
        "          transforms.Normalize(mean, std)\n",
        "      ])\n",
        "\n",
        "  def __call__(self, img):\n",
        "    return self.data_transform(img)"
      ],
      "metadata": {
        "id": "XwFLxcPpFwKM"
      },
      "execution_count": 6,
      "outputs": []
    },
    {
      "cell_type": "code",
      "source": [
        "class CustomDataset(Dataset):\n",
        "  def __init__(self, df, phase='train'):\n",
        "    self.df = df\n",
        "    self.transform = ImageTransform(phase)\n",
        "    self.phase = phase\n",
        "\n",
        "  def __len__(self):\n",
        "    return len(self.df)\n",
        "\n",
        "  def __getitem__(self, index):\n",
        "    if self.phase != 'test':\n",
        "      img_path = self.df.iloc[index]['file_name']\n",
        "      img = Image.open(img_path)\n",
        "      img_transformed = self.transform(img)\n",
        "      label = self.df.iloc[index]['label']\n",
        "      return img_transformed, label\n",
        "    else:\n",
        "      img_path = self.df.iloc[index]['file_name']\n",
        "      img = Image.open(img_path)\n",
        "      img_transformed = self.transform(img)\n",
        "      return img_transformed\n"
      ],
      "metadata": {
        "id": "mlW6s3LQHICs"
      },
      "execution_count": 7,
      "outputs": []
    },
    {
      "cell_type": "code",
      "source": [
        "def train_model(net, dataloader_dict, criterion, optimizer, num_epochs):\n",
        "  best_loss = 99\n",
        "  best_acc = 0\n",
        "  scores=[]\n",
        "  net.to(device)\n",
        "  # epochのループ\n",
        "  for epoch in range(num_epochs):\n",
        "    print('Epoch {}/{}'.format(epoch+1, num_epochs))\n",
        "    print('-------------')\n",
        "    for phase in ['train', 'val']:\n",
        "      if phase == 'train':\n",
        "        net.train()  # モデルを訓練モードに\n",
        "      else:\n",
        "        net.eval()   # モデルを検証モードに\n",
        "\n",
        "      # epochごとの学習と検証のループ\n",
        "\n",
        "      epoch_loss = 0.0  # epochの損失和\n",
        "      epoch_corrects = 0  # epochの正解数\n",
        "\n",
        "\n",
        "      # データローダーからミニバッチを取り出すループ\n",
        "      dataloader = dataloader_dict[phase]\n",
        "      for inputs, labels in tqdm(dataloader):\n",
        "\n",
        "        # optimizerを初期化\n",
        "        optimizer.zero_grad()\n",
        "        inputs = inputs.to(device)\n",
        "        labels = labels.to(device)\n",
        "\n",
        "        # 順伝搬（forward）計算\n",
        "        with torch.set_grad_enabled(phase=='train'):\n",
        "          outputs = net(inputs)\n",
        "          loss = criterion(outputs, labels)  # 損失を計算\n",
        "          _, preds = torch.max(outputs, 1)  # ラベルを予測\n",
        "\n",
        "\n",
        "          # 訓練時はバックプロパゲーション\n",
        "          if phase == 'train':\n",
        "            loss.backward()\n",
        "            optimizer.step()\n",
        "\n",
        "          # イタレーション結果の計算\n",
        "          # lossの合計を更新\n",
        "          epoch_loss += loss.item() * inputs.size(0)\n",
        "          # 正解数の合計を更新\n",
        "          epoch_corrects += torch.sum(preds == labels.data)\n",
        "\n",
        "      # epochごとのlossと正解率を表示\n",
        "      epoch_loss = epoch_loss / len(dataloader.dataset)\n",
        "      epoch_acc = epoch_corrects.double(\n",
        "      ) / len(dataloader.dataset)\n",
        "\n",
        "      print('{} Loss: {:.4f} Acc: {:.4f}'.format(\n",
        "          phase, epoch_loss, epoch_acc))\n",
        "      if phase == 'val':\n",
        "        if epoch_loss < best_loss:\n",
        "          best_loss = epoch_loss\n",
        "          torch.save(net.to('cpu').state_dict(), os.path.join(MODEL_DIR, f'vith14_seed{seed}_ep{EPOCHS}_best_loss.pth'))\n",
        "          net.to(device)\n",
        "        if epoch_acc > best_acc:\n",
        "          best_acc = epoch_acc\n",
        "          torch.save(net.to('cpu').state_dict(), os.path.join(MODEL_DIR, f'vith14_seed{seed}_ep{EPOCHS}_best_acc.pth'))\n",
        "          net.to(device)\n",
        "      scores.append([epoch, phase, epoch_loss, epoch_acc])\n",
        "  return net, pd.DataFrame(scores, columns=['epoch', 'phase', 'loss', 'acc'])"
      ],
      "metadata": {
        "id": "Y-2Bk44NH5NJ"
      },
      "execution_count": 8,
      "outputs": []
    },
    {
      "cell_type": "code",
      "source": [
        "BATCH_SIZE = 40\n",
        "EPOCHS = 30\n",
        "LEARNING_RATE = 0.001\n",
        "#MOMENTUM = 0.9\n",
        "\n",
        "def get_model():\n",
        "  weights = models.ViT_H_14_Weights.IMAGENET1K_SWAG_E2E_V1  # 学習済みのパラメータを使用\n",
        "  net = models.vit_h_14(weights=weights)\n",
        "  net.heads.head = nn.Linear(in_features=1280, out_features=4, bias=True)\n",
        "  return net\n",
        "\n",
        "def get_criterion():\n",
        "  criterion = nn.CrossEntropyLoss()\n",
        "  return criterion\n",
        "\n",
        "def get_optimizer(net):\n",
        "  params_to_update = []\n",
        "\n",
        "  update_param_names = [\"heads.head.weight\", \"heads.head.bias\"]\n",
        "\n",
        "  for name, param in net.named_parameters():\n",
        "    if name in update_param_names:\n",
        "      param.requires_grad = True\n",
        "      params_to_update.append(param)\n",
        "    else:\n",
        "      param.requires_grad = False\n",
        "\n",
        "  optimizer = optim.Adam(params_to_update, lr=LEARNING_RATE, )\n",
        "  return optimizer"
      ],
      "metadata": {
        "id": "b13o03aMKR5u"
      },
      "execution_count": 9,
      "outputs": []
    },
    {
      "cell_type": "code",
      "source": [
        "def predict(net, dataloader):\n",
        "  net = net.to(device)\n",
        "  net.eval()\n",
        "  result=[]\n",
        "  for inputs in dataloader:\n",
        "    outputs = net(inputs.to(device))\n",
        "    outputs = list(outputs.detach().cpu().numpy())\n",
        "    result.extend(outputs)\n",
        "  return np.argmax(np.array(result),axis=1)\n",
        "\n",
        "def predict_proba(net, dataloader):\n",
        "  net = net.to(device)\n",
        "  net.eval()\n",
        "  result=[]\n",
        "  for inputs in dataloader:\n",
        "    outputs = net(inputs.to(device))\n",
        "    outputs = list(outputs.detach().cpu().numpy())\n",
        "    result.extend(outputs)\n",
        "  result = np.array(result)\n",
        "  pred_0 = result[:,0]\n",
        "  pred_1 = result[:,1]\n",
        "  return np.exp(pred_1)/(np.exp(pred_0)+np.exp(pred_1))\n",
        "\n",
        "def get_score(y_true, y_pred):\n",
        "  y_true = (y_true > 0).astype(int)\n",
        "  y_pred = (y_pred > 0).astype(int)\n",
        "  acc = accuracy_score(y_true, y_pred)\n",
        "  recall = recall_score(y_true, y_pred)\n",
        "  precision = precision_score(y_true, y_pred)\n",
        "  f1 = f1_score(y_true, y_pred)\n",
        "  return [acc, recall, precision, f1]\n",
        "\n",
        "SEED=42\n",
        "\n",
        "def init_seed(seed):\n",
        "    torch.manual_seed(seed)\n",
        "    torch.cuda.manual_seed(seed)\n",
        "    torch.cuda.manual_seed_all(seed)\n",
        "    np.random.seed(seed)\n",
        "    random.seed(seed)\n",
        "    torch.backends.cudnn.deterministic = True\n",
        "    torch.backends.cudnn.benchmark = False\n",
        "\n",
        "def seed_worker(worker_id):\n",
        "    worker_seed = torch.initial_seed() % 2**32\n",
        "    np.random.seed(worker_seed)\n",
        "    random.seed(worker_seed)\n",
        "\n",
        "for seed in range(1):\n",
        "  seed = SEED + seed\n",
        "  init_seed(seed)\n",
        "  g = torch.Generator()\n",
        "  g.manual_seed(seed)\n",
        "  skf = StratifiedKFold(n_splits=5, shuffle=True, random_state=seed)\n",
        "  X = train_df\n",
        "  y = train_df['label']\n",
        "  MODEL_DIR=os.path.join(DIR,'model')\n",
        "  os.makedirs(MODEL_DIR, exist_ok=True)\n",
        "  for iter, (train_index, test_index) in enumerate(skf.split(X, y)):\n",
        "    X_train, X_val = X.iloc[train_index], X.iloc[test_index]\n",
        "    y_train, y_val = y.iloc[train_index], y.iloc[test_index]\n",
        "\n",
        "    train_dataset = CustomDataset(X_train, phase='train')\n",
        "    train_dataloader = torch.utils.data.DataLoader(train_dataset, batch_size=BATCH_SIZE, shuffle=True,\n",
        "                                                    worker_init_fn=seed_worker,generator=g)\n",
        "    val_dataset = CustomDataset(X_val, phase='val')\n",
        "    val_dataloader = torch.utils.data.DataLoader(val_dataset, batch_size=BATCH_SIZE, shuffle=True,\n",
        "                                                    worker_init_fn=seed_worker,generator=g)\n",
        "    net = get_model()\n",
        "    criterion = get_criterion()\n",
        "    optimizer = get_optimizer(net)\n",
        "    dataloader_dict = {'train': train_dataloader, 'val': val_dataloader}\n",
        "    net,score = train_model(net, dataloader_dict, criterion, optimizer, EPOCHS)\n",
        "    torch.save(net.to('cpu').state_dict(), os.path.join(MODEL_DIR, f'vith14_seed{seed}_ep{EPOCHS}_{iter}.pth'))\n",
        "    break"
      ],
      "metadata": {
        "colab": {
          "base_uri": "https://localhost:8080/"
        },
        "id": "loVy37R8LrFy",
        "outputId": "6a2f490e-f66c-41d3-f5c0-f2a1543a6e74",
        "collapsed": true
      },
      "execution_count": 10,
      "outputs": [
        {
          "output_type": "stream",
          "name": "stdout",
          "text": [
            "Epoch 1/30\n",
            "-------------\n"
          ]
        },
        {
          "output_type": "stream",
          "name": "stderr",
          "text": [
            "100%|██████████| 6/6 [03:47<00:00, 37.99s/it]\n"
          ]
        },
        {
          "output_type": "stream",
          "name": "stdout",
          "text": [
            "train Loss: 1.4139 Acc: 0.3836\n"
          ]
        },
        {
          "output_type": "stream",
          "name": "stderr",
          "text": [
            "100%|██████████| 2/2 [00:45<00:00, 22.93s/it]\n"
          ]
        },
        {
          "output_type": "stream",
          "name": "stdout",
          "text": [
            "val Loss: 1.3551 Acc: 0.3793\n",
            "Epoch 2/30\n",
            "-------------\n"
          ]
        },
        {
          "output_type": "stream",
          "name": "stderr",
          "text": [
            "100%|██████████| 6/6 [03:51<00:00, 38.58s/it]\n"
          ]
        },
        {
          "output_type": "stream",
          "name": "stdout",
          "text": [
            "train Loss: 1.2705 Acc: 0.4440\n"
          ]
        },
        {
          "output_type": "stream",
          "name": "stderr",
          "text": [
            "100%|██████████| 2/2 [00:44<00:00, 22.02s/it]\n"
          ]
        },
        {
          "output_type": "stream",
          "name": "stdout",
          "text": [
            "val Loss: 1.2146 Acc: 0.4310\n",
            "Epoch 3/30\n",
            "-------------\n"
          ]
        },
        {
          "output_type": "stream",
          "name": "stderr",
          "text": [
            "100%|██████████| 6/6 [03:54<00:00, 39.08s/it]\n"
          ]
        },
        {
          "output_type": "stream",
          "name": "stdout",
          "text": [
            "train Loss: 1.1395 Acc: 0.5043\n"
          ]
        },
        {
          "output_type": "stream",
          "name": "stderr",
          "text": [
            "100%|██████████| 2/2 [00:43<00:00, 21.94s/it]\n"
          ]
        },
        {
          "output_type": "stream",
          "name": "stdout",
          "text": [
            "val Loss: 1.0367 Acc: 0.5517\n",
            "Epoch 4/30\n",
            "-------------\n"
          ]
        },
        {
          "output_type": "stream",
          "name": "stderr",
          "text": [
            "100%|██████████| 6/6 [03:53<00:00, 38.96s/it]\n"
          ]
        },
        {
          "output_type": "stream",
          "name": "stdout",
          "text": [
            "train Loss: 1.0622 Acc: 0.5474\n"
          ]
        },
        {
          "output_type": "stream",
          "name": "stderr",
          "text": [
            "100%|██████████| 2/2 [00:43<00:00, 21.97s/it]\n"
          ]
        },
        {
          "output_type": "stream",
          "name": "stdout",
          "text": [
            "val Loss: 1.0737 Acc: 0.5000\n",
            "Epoch 5/30\n",
            "-------------\n"
          ]
        },
        {
          "output_type": "stream",
          "name": "stderr",
          "text": [
            "100%|██████████| 6/6 [03:44<00:00, 37.47s/it]\n"
          ]
        },
        {
          "output_type": "stream",
          "name": "stdout",
          "text": [
            "train Loss: 0.9957 Acc: 0.5991\n"
          ]
        },
        {
          "output_type": "stream",
          "name": "stderr",
          "text": [
            "100%|██████████| 2/2 [00:45<00:00, 22.50s/it]\n"
          ]
        },
        {
          "output_type": "stream",
          "name": "stdout",
          "text": [
            "val Loss: 1.0064 Acc: 0.6207\n",
            "Epoch 6/30\n",
            "-------------\n"
          ]
        },
        {
          "output_type": "stream",
          "name": "stderr",
          "text": [
            "100%|██████████| 6/6 [03:50<00:00, 38.48s/it]\n"
          ]
        },
        {
          "output_type": "stream",
          "name": "stdout",
          "text": [
            "train Loss: 0.8832 Acc: 0.6767\n"
          ]
        },
        {
          "output_type": "stream",
          "name": "stderr",
          "text": [
            "100%|██████████| 2/2 [00:44<00:00, 22.07s/it]\n"
          ]
        },
        {
          "output_type": "stream",
          "name": "stdout",
          "text": [
            "val Loss: 0.9749 Acc: 0.6552\n",
            "Epoch 7/30\n",
            "-------------\n"
          ]
        },
        {
          "output_type": "stream",
          "name": "stderr",
          "text": [
            "100%|██████████| 6/6 [03:53<00:00, 38.91s/it]\n"
          ]
        },
        {
          "output_type": "stream",
          "name": "stdout",
          "text": [
            "train Loss: 0.8976 Acc: 0.6250\n"
          ]
        },
        {
          "output_type": "stream",
          "name": "stderr",
          "text": [
            "100%|██████████| 2/2 [00:45<00:00, 22.72s/it]\n"
          ]
        },
        {
          "output_type": "stream",
          "name": "stdout",
          "text": [
            "val Loss: 0.9397 Acc: 0.6379\n",
            "Epoch 8/30\n",
            "-------------\n"
          ]
        },
        {
          "output_type": "stream",
          "name": "stderr",
          "text": [
            "100%|██████████| 6/6 [03:45<00:00, 37.52s/it]\n"
          ]
        },
        {
          "output_type": "stream",
          "name": "stdout",
          "text": [
            "train Loss: 0.8804 Acc: 0.6293\n"
          ]
        },
        {
          "output_type": "stream",
          "name": "stderr",
          "text": [
            "100%|██████████| 2/2 [00:44<00:00, 22.37s/it]\n"
          ]
        },
        {
          "output_type": "stream",
          "name": "stdout",
          "text": [
            "val Loss: 0.9157 Acc: 0.6552\n",
            "Epoch 9/30\n",
            "-------------\n"
          ]
        },
        {
          "output_type": "stream",
          "name": "stderr",
          "text": [
            "100%|██████████| 6/6 [03:45<00:00, 37.60s/it]\n"
          ]
        },
        {
          "output_type": "stream",
          "name": "stdout",
          "text": [
            "train Loss: 0.7989 Acc: 0.7026\n"
          ]
        },
        {
          "output_type": "stream",
          "name": "stderr",
          "text": [
            "100%|██████████| 2/2 [00:45<00:00, 22.80s/it]\n"
          ]
        },
        {
          "output_type": "stream",
          "name": "stdout",
          "text": [
            "val Loss: 0.8775 Acc: 0.6724\n",
            "Epoch 10/30\n",
            "-------------\n"
          ]
        },
        {
          "output_type": "stream",
          "name": "stderr",
          "text": [
            "100%|██████████| 6/6 [03:52<00:00, 38.82s/it]\n"
          ]
        },
        {
          "output_type": "stream",
          "name": "stdout",
          "text": [
            "train Loss: 0.7922 Acc: 0.6940\n"
          ]
        },
        {
          "output_type": "stream",
          "name": "stderr",
          "text": [
            "100%|██████████| 2/2 [00:44<00:00, 22.03s/it]\n"
          ]
        },
        {
          "output_type": "stream",
          "name": "stdout",
          "text": [
            "val Loss: 0.8796 Acc: 0.6552\n",
            "Epoch 11/30\n",
            "-------------\n"
          ]
        },
        {
          "output_type": "stream",
          "name": "stderr",
          "text": [
            "100%|██████████| 6/6 [03:45<00:00, 37.53s/it]\n"
          ]
        },
        {
          "output_type": "stream",
          "name": "stdout",
          "text": [
            "train Loss: 0.7684 Acc: 0.7457\n"
          ]
        },
        {
          "output_type": "stream",
          "name": "stderr",
          "text": [
            "100%|██████████| 2/2 [00:44<00:00, 22.41s/it]\n"
          ]
        },
        {
          "output_type": "stream",
          "name": "stdout",
          "text": [
            "val Loss: 0.8672 Acc: 0.6552\n",
            "Epoch 12/30\n",
            "-------------\n"
          ]
        },
        {
          "output_type": "stream",
          "name": "stderr",
          "text": [
            "100%|██████████| 6/6 [03:44<00:00, 37.42s/it]\n"
          ]
        },
        {
          "output_type": "stream",
          "name": "stdout",
          "text": [
            "train Loss: 0.7169 Acc: 0.7457\n"
          ]
        },
        {
          "output_type": "stream",
          "name": "stderr",
          "text": [
            "100%|██████████| 2/2 [00:45<00:00, 22.74s/it]\n"
          ]
        },
        {
          "output_type": "stream",
          "name": "stdout",
          "text": [
            "val Loss: 0.8911 Acc: 0.6379\n",
            "Epoch 13/30\n",
            "-------------\n"
          ]
        },
        {
          "output_type": "stream",
          "name": "stderr",
          "text": [
            "100%|██████████| 6/6 [03:45<00:00, 37.65s/it]\n"
          ]
        },
        {
          "output_type": "stream",
          "name": "stdout",
          "text": [
            "train Loss: 0.6946 Acc: 0.7845\n"
          ]
        },
        {
          "output_type": "stream",
          "name": "stderr",
          "text": [
            "100%|██████████| 2/2 [00:44<00:00, 22.06s/it]\n"
          ]
        },
        {
          "output_type": "stream",
          "name": "stdout",
          "text": [
            "val Loss: 0.8272 Acc: 0.6724\n",
            "Epoch 14/30\n",
            "-------------\n"
          ]
        },
        {
          "output_type": "stream",
          "name": "stderr",
          "text": [
            "100%|██████████| 6/6 [03:43<00:00, 37.27s/it]\n"
          ]
        },
        {
          "output_type": "stream",
          "name": "stdout",
          "text": [
            "train Loss: 0.6557 Acc: 0.7716\n"
          ]
        },
        {
          "output_type": "stream",
          "name": "stderr",
          "text": [
            "100%|██████████| 2/2 [00:44<00:00, 22.16s/it]\n"
          ]
        },
        {
          "output_type": "stream",
          "name": "stdout",
          "text": [
            "val Loss: 0.7966 Acc: 0.6897\n",
            "Epoch 15/30\n",
            "-------------\n"
          ]
        },
        {
          "output_type": "stream",
          "name": "stderr",
          "text": [
            "100%|██████████| 6/6 [03:52<00:00, 38.82s/it]\n"
          ]
        },
        {
          "output_type": "stream",
          "name": "stdout",
          "text": [
            "train Loss: 0.6850 Acc: 0.7586\n"
          ]
        },
        {
          "output_type": "stream",
          "name": "stderr",
          "text": [
            "100%|██████████| 2/2 [00:45<00:00, 22.66s/it]\n"
          ]
        },
        {
          "output_type": "stream",
          "name": "stdout",
          "text": [
            "val Loss: 0.8114 Acc: 0.6552\n",
            "Epoch 16/30\n",
            "-------------\n"
          ]
        },
        {
          "output_type": "stream",
          "name": "stderr",
          "text": [
            "100%|██████████| 6/6 [03:45<00:00, 37.57s/it]\n"
          ]
        },
        {
          "output_type": "stream",
          "name": "stdout",
          "text": [
            "train Loss: 0.6442 Acc: 0.7802\n"
          ]
        },
        {
          "output_type": "stream",
          "name": "stderr",
          "text": [
            "100%|██████████| 2/2 [00:44<00:00, 22.13s/it]\n"
          ]
        },
        {
          "output_type": "stream",
          "name": "stdout",
          "text": [
            "val Loss: 0.8366 Acc: 0.6379\n",
            "Epoch 17/30\n",
            "-------------\n"
          ]
        },
        {
          "output_type": "stream",
          "name": "stderr",
          "text": [
            "100%|██████████| 6/6 [03:46<00:00, 37.74s/it]\n"
          ]
        },
        {
          "output_type": "stream",
          "name": "stdout",
          "text": [
            "train Loss: 0.6120 Acc: 0.7888\n"
          ]
        },
        {
          "output_type": "stream",
          "name": "stderr",
          "text": [
            "100%|██████████| 2/2 [00:44<00:00, 22.06s/it]\n"
          ]
        },
        {
          "output_type": "stream",
          "name": "stdout",
          "text": [
            "val Loss: 0.7829 Acc: 0.6552\n",
            "Epoch 18/30\n",
            "-------------\n"
          ]
        },
        {
          "output_type": "stream",
          "name": "stderr",
          "text": [
            "100%|██████████| 6/6 [03:44<00:00, 37.38s/it]\n"
          ]
        },
        {
          "output_type": "stream",
          "name": "stdout",
          "text": [
            "train Loss: 0.6185 Acc: 0.7888\n"
          ]
        },
        {
          "output_type": "stream",
          "name": "stderr",
          "text": [
            "100%|██████████| 2/2 [00:44<00:00, 22.08s/it]\n"
          ]
        },
        {
          "output_type": "stream",
          "name": "stdout",
          "text": [
            "val Loss: 0.8187 Acc: 0.6552\n",
            "Epoch 19/30\n",
            "-------------\n"
          ]
        },
        {
          "output_type": "stream",
          "name": "stderr",
          "text": [
            "100%|██████████| 6/6 [03:45<00:00, 37.51s/it]\n"
          ]
        },
        {
          "output_type": "stream",
          "name": "stdout",
          "text": [
            "train Loss: 0.5903 Acc: 0.7931\n"
          ]
        },
        {
          "output_type": "stream",
          "name": "stderr",
          "text": [
            "100%|██████████| 2/2 [00:44<00:00, 22.48s/it]\n"
          ]
        },
        {
          "output_type": "stream",
          "name": "stdout",
          "text": [
            "val Loss: 0.7701 Acc: 0.7069\n",
            "Epoch 20/30\n",
            "-------------\n"
          ]
        },
        {
          "output_type": "stream",
          "name": "stderr",
          "text": [
            "100%|██████████| 6/6 [03:52<00:00, 38.77s/it]\n"
          ]
        },
        {
          "output_type": "stream",
          "name": "stdout",
          "text": [
            "train Loss: 0.6028 Acc: 0.7845\n"
          ]
        },
        {
          "output_type": "stream",
          "name": "stderr",
          "text": [
            "100%|██████████| 2/2 [00:45<00:00, 22.73s/it]\n"
          ]
        },
        {
          "output_type": "stream",
          "name": "stdout",
          "text": [
            "val Loss: 0.7968 Acc: 0.6897\n",
            "Epoch 21/30\n",
            "-------------\n"
          ]
        },
        {
          "output_type": "stream",
          "name": "stderr",
          "text": [
            "100%|██████████| 6/6 [03:45<00:00, 37.52s/it]\n"
          ]
        },
        {
          "output_type": "stream",
          "name": "stdout",
          "text": [
            "train Loss: 0.5469 Acc: 0.8233\n"
          ]
        },
        {
          "output_type": "stream",
          "name": "stderr",
          "text": [
            "100%|██████████| 2/2 [00:43<00:00, 21.98s/it]\n"
          ]
        },
        {
          "output_type": "stream",
          "name": "stdout",
          "text": [
            "val Loss: 0.7788 Acc: 0.6724\n",
            "Epoch 22/30\n",
            "-------------\n"
          ]
        },
        {
          "output_type": "stream",
          "name": "stderr",
          "text": [
            "100%|██████████| 6/6 [03:44<00:00, 37.47s/it]\n"
          ]
        },
        {
          "output_type": "stream",
          "name": "stdout",
          "text": [
            "train Loss: 0.5685 Acc: 0.8017\n"
          ]
        },
        {
          "output_type": "stream",
          "name": "stderr",
          "text": [
            "100%|██████████| 2/2 [00:45<00:00, 22.72s/it]\n"
          ]
        },
        {
          "output_type": "stream",
          "name": "stdout",
          "text": [
            "val Loss: 0.7801 Acc: 0.7069\n",
            "Epoch 23/30\n",
            "-------------\n"
          ]
        },
        {
          "output_type": "stream",
          "name": "stderr",
          "text": [
            "100%|██████████| 6/6 [03:45<00:00, 37.66s/it]\n"
          ]
        },
        {
          "output_type": "stream",
          "name": "stdout",
          "text": [
            "train Loss: 0.5790 Acc: 0.8060\n"
          ]
        },
        {
          "output_type": "stream",
          "name": "stderr",
          "text": [
            "100%|██████████| 2/2 [00:44<00:00, 22.10s/it]\n"
          ]
        },
        {
          "output_type": "stream",
          "name": "stdout",
          "text": [
            "val Loss: 0.7579 Acc: 0.7241\n",
            "Epoch 24/30\n",
            "-------------\n"
          ]
        },
        {
          "output_type": "stream",
          "name": "stderr",
          "text": [
            "100%|██████████| 6/6 [03:51<00:00, 38.64s/it]\n"
          ]
        },
        {
          "output_type": "stream",
          "name": "stdout",
          "text": [
            "train Loss: 0.5928 Acc: 0.7931\n"
          ]
        },
        {
          "output_type": "stream",
          "name": "stderr",
          "text": [
            "100%|██████████| 2/2 [00:44<00:00, 22.08s/it]\n"
          ]
        },
        {
          "output_type": "stream",
          "name": "stdout",
          "text": [
            "val Loss: 0.7691 Acc: 0.7414\n",
            "Epoch 25/30\n",
            "-------------\n"
          ]
        },
        {
          "output_type": "stream",
          "name": "stderr",
          "text": [
            "100%|██████████| 6/6 [03:45<00:00, 37.50s/it]\n"
          ]
        },
        {
          "output_type": "stream",
          "name": "stdout",
          "text": [
            "train Loss: 0.5249 Acc: 0.8362\n"
          ]
        },
        {
          "output_type": "stream",
          "name": "stderr",
          "text": [
            "100%|██████████| 2/2 [00:44<00:00, 22.09s/it]\n"
          ]
        },
        {
          "output_type": "stream",
          "name": "stdout",
          "text": [
            "val Loss: 0.7662 Acc: 0.7069\n",
            "Epoch 26/30\n",
            "-------------\n"
          ]
        },
        {
          "output_type": "stream",
          "name": "stderr",
          "text": [
            "100%|██████████| 6/6 [03:45<00:00, 37.58s/it]\n"
          ]
        },
        {
          "output_type": "stream",
          "name": "stdout",
          "text": [
            "train Loss: 0.5338 Acc: 0.8448\n"
          ]
        },
        {
          "output_type": "stream",
          "name": "stderr",
          "text": [
            "100%|██████████| 2/2 [00:45<00:00, 22.84s/it]\n"
          ]
        },
        {
          "output_type": "stream",
          "name": "stdout",
          "text": [
            "val Loss: 0.7447 Acc: 0.7241\n",
            "Epoch 27/30\n",
            "-------------\n"
          ]
        },
        {
          "output_type": "stream",
          "name": "stderr",
          "text": [
            "100%|██████████| 6/6 [03:46<00:00, 37.76s/it]\n"
          ]
        },
        {
          "output_type": "stream",
          "name": "stdout",
          "text": [
            "train Loss: 0.5210 Acc: 0.8448\n"
          ]
        },
        {
          "output_type": "stream",
          "name": "stderr",
          "text": [
            "100%|██████████| 2/2 [00:45<00:00, 22.81s/it]\n"
          ]
        },
        {
          "output_type": "stream",
          "name": "stdout",
          "text": [
            "val Loss: 0.7467 Acc: 0.7069\n",
            "Epoch 28/30\n",
            "-------------\n"
          ]
        },
        {
          "output_type": "stream",
          "name": "stderr",
          "text": [
            "100%|██████████| 6/6 [03:46<00:00, 37.71s/it]\n"
          ]
        },
        {
          "output_type": "stream",
          "name": "stdout",
          "text": [
            "train Loss: 0.4707 Acc: 0.8879\n"
          ]
        },
        {
          "output_type": "stream",
          "name": "stderr",
          "text": [
            "100%|██████████| 2/2 [00:43<00:00, 21.96s/it]\n"
          ]
        },
        {
          "output_type": "stream",
          "name": "stdout",
          "text": [
            "val Loss: 0.7497 Acc: 0.6552\n",
            "Epoch 29/30\n",
            "-------------\n"
          ]
        },
        {
          "output_type": "stream",
          "name": "stderr",
          "text": [
            "100%|██████████| 6/6 [03:45<00:00, 37.52s/it]\n"
          ]
        },
        {
          "output_type": "stream",
          "name": "stdout",
          "text": [
            "train Loss: 0.5034 Acc: 0.8491\n"
          ]
        },
        {
          "output_type": "stream",
          "name": "stderr",
          "text": [
            "100%|██████████| 2/2 [00:45<00:00, 22.52s/it]\n"
          ]
        },
        {
          "output_type": "stream",
          "name": "stdout",
          "text": [
            "val Loss: 0.7635 Acc: 0.6897\n",
            "Epoch 30/30\n",
            "-------------\n"
          ]
        },
        {
          "output_type": "stream",
          "name": "stderr",
          "text": [
            "100%|██████████| 6/6 [03:46<00:00, 37.71s/it]\n"
          ]
        },
        {
          "output_type": "stream",
          "name": "stdout",
          "text": [
            "train Loss: 0.4862 Acc: 0.8621\n"
          ]
        },
        {
          "output_type": "stream",
          "name": "stderr",
          "text": [
            "100%|██████████| 2/2 [00:45<00:00, 22.91s/it]\n"
          ]
        },
        {
          "output_type": "stream",
          "name": "stdout",
          "text": [
            "val Loss: 0.7678 Acc: 0.6897\n"
          ]
        }
      ]
    },
    {
      "cell_type": "code",
      "source": [
        "score_train = score[score['phase']=='train']\n",
        "score_test = score[score['phase']=='val']\n",
        "plt.plot(score_train['epoch'], score_train['acc'], label='train')\n",
        "plt.plot(score_test['epoch'], score_test['acc'], label='val')\n",
        "plt.legend()\n",
        "plt.show()"
      ],
      "metadata": {
        "colab": {
          "base_uri": "https://localhost:8080/",
          "height": 430
        },
        "id": "yv63-tOOdR1-",
        "outputId": "53566dea-9f4a-4a08-8f70-1e6328258d70"
      },
      "execution_count": 11,
      "outputs": [
        {
          "output_type": "display_data",
          "data": {
            "text/plain": [
              "<Figure size 640x480 with 1 Axes>"
            ],
            "image/png": "[encoded data removed]"
          },
          "metadata": {}
        }
      ]
    },
    {
      "cell_type": "code",
      "source": [
        "for name, param in net.named_parameters():\n",
        "  print(name)"
      ],
      "metadata": {
        "colab": {
          "base_uri": "https://localhost:8080/"
        },
        "id": "J3Ul-1xNhdgh",
        "outputId": "c8a1ca16-7469-48f4-b182-e6b475e59987"
      },
      "execution_count": 12,
      "outputs": [
        {
          "output_type": "stream",
          "name": "stdout",
          "text": [
            "class_token\n",
            "conv_proj.weight\n",
            "conv_proj.bias\n",
            "encoder.pos_embedding\n",
            "encoder.layers.encoder_layer_0.ln_1.weight\n",
            "encoder.layers.encoder_layer_0.ln_1.bias\n",
            "encoder.layers.encoder_layer_0.self_attention.in_proj_weight\n",
            "encoder.layers.encoder_layer_0.self_attention.in_proj_bias\n",
            "encoder.layers.encoder_layer_0.self_attention.out_proj.weight\n",
            "encoder.layers.encoder_layer_0.self_attention.out_proj.bias\n",
            "encoder.layers.encoder_layer_0.ln_2.weight\n",
            "encoder.layers.encoder_layer_0.ln_2.bias\n",
            "encoder.layers.encoder_layer_0.mlp.0.weight\n",
            "encoder.layers.encoder_layer_0.mlp.0.bias\n",
            "encoder.layers.encoder_layer_0.mlp.3.weight\n",
            "encoder.layers.encoder_layer_0.mlp.3.bias\n",
            "encoder.layers.encoder_layer_1.ln_1.weight\n",
            "encoder.layers.encoder_layer_1.ln_1.bias\n",
            "encoder.layers.encoder_layer_1.self_attention.in_proj_weight\n",
            "encoder.layers.encoder_layer_1.self_attention.in_proj_bias\n",
            "encoder.layers.encoder_layer_1.self_attention.out_proj.weight\n",
            "encoder.layers.encoder_layer_1.self_attention.out_proj.bias\n",
            "encoder.layers.encoder_layer_1.ln_2.weight\n",
            "encoder.layers.encoder_layer_1.ln_2.bias\n",
            "encoder.layers.encoder_layer_1.mlp.0.weight\n",
            "encoder.layers.encoder_layer_1.mlp.0.bias\n",
            "encoder.layers.encoder_layer_1.mlp.3.weight\n",
            "encoder.layers.encoder_layer_1.mlp.3.bias\n",
            "encoder.layers.encoder_layer_2.ln_1.weight\n",
            "encoder.layers.encoder_layer_2.ln_1.bias\n",
            "encoder.layers.encoder_layer_2.self_attention.in_proj_weight\n",
            "encoder.layers.encoder_layer_2.self_attention.in_proj_bias\n",
            "encoder.layers.encoder_layer_2.self_attention.out_proj.weight\n",
            "encoder.layers.encoder_layer_2.self_attention.out_proj.bias\n",
            "encoder.layers.encoder_layer_2.ln_2.weight\n",
            "encoder.layers.encoder_layer_2.ln_2.bias\n",
            "encoder.layers.encoder_layer_2.mlp.0.weight\n",
            "encoder.layers.encoder_layer_2.mlp.0.bias\n",
            "encoder.layers.encoder_layer_2.mlp.3.weight\n",
            "encoder.layers.encoder_layer_2.mlp.3.bias\n",
            "encoder.layers.encoder_layer_3.ln_1.weight\n",
            "encoder.layers.encoder_layer_3.ln_1.bias\n",
            "encoder.layers.encoder_layer_3.self_attention.in_proj_weight\n",
            "encoder.layers.encoder_layer_3.self_attention.in_proj_bias\n",
            "encoder.layers.encoder_layer_3.self_attention.out_proj.weight\n",
            "encoder.layers.encoder_layer_3.self_attention.out_proj.bias\n",
            "encoder.layers.encoder_layer_3.ln_2.weight\n",
            "encoder.layers.encoder_layer_3.ln_2.bias\n",
            "encoder.layers.encoder_layer_3.mlp.0.weight\n",
            "encoder.layers.encoder_layer_3.mlp.0.bias\n",
            "encoder.layers.encoder_layer_3.mlp.3.weight\n",
            "encoder.layers.encoder_layer_3.mlp.3.bias\n",
            "encoder.layers.encoder_layer_4.ln_1.weight\n",
            "encoder.layers.encoder_layer_4.ln_1.bias\n",
            "encoder.layers.encoder_layer_4.self_attention.in_proj_weight\n",
            "encoder.layers.encoder_layer_4.self_attention.in_proj_bias\n",
            "encoder.layers.encoder_layer_4.self_attention.out_proj.weight\n",
            "encoder.layers.encoder_layer_4.self_attention.out_proj.bias\n",
            "encoder.layers.encoder_layer_4.ln_2.weight\n",
            "encoder.layers.encoder_layer_4.ln_2.bias\n",
            "encoder.layers.encoder_layer_4.mlp.0.weight\n",
            "encoder.layers.encoder_layer_4.mlp.0.bias\n",
            "encoder.layers.encoder_layer_4.mlp.3.weight\n",
            "encoder.layers.encoder_layer_4.mlp.3.bias\n",
            "encoder.layers.encoder_layer_5.ln_1.weight\n",
            "encoder.layers.encoder_layer_5.ln_1.bias\n",
            "encoder.layers.encoder_layer_5.self_attention.in_proj_weight\n",
            "encoder.layers.encoder_layer_5.self_attention.in_proj_bias\n",
            "encoder.layers.encoder_layer_5.self_attention.out_proj.weight\n",
            "encoder.layers.encoder_layer_5.self_attention.out_proj.bias\n",
            "encoder.layers.encoder_layer_5.ln_2.weight\n",
            "encoder.layers.encoder_layer_5.ln_2.bias\n",
            "encoder.layers.encoder_layer_5.mlp.0.weight\n",
            "encoder.layers.encoder_layer_5.mlp.0.bias\n",
            "encoder.layers.encoder_layer_5.mlp.3.weight\n",
            "encoder.layers.encoder_layer_5.mlp.3.bias\n",
            "encoder.layers.encoder_layer_6.ln_1.weight\n",
            "encoder.layers.encoder_layer_6.ln_1.bias\n",
            "encoder.layers.encoder_layer_6.self_attention.in_proj_weight\n",
            "encoder.layers.encoder_layer_6.self_attention.in_proj_bias\n",
            "encoder.layers.encoder_layer_6.self_attention.out_proj.weight\n",
            "encoder.layers.encoder_layer_6.self_attention.out_proj.bias\n",
            "encoder.layers.encoder_layer_6.ln_2.weight\n",
            "encoder.layers.encoder_layer_6.ln_2.bias\n",
            "encoder.layers.encoder_layer_6.mlp.0.weight\n",
            "encoder.layers.encoder_layer_6.mlp.0.bias\n",
            "encoder.layers.encoder_layer_6.mlp.3.weight\n",
            "encoder.layers.encoder_layer_6.mlp.3.bias\n",
            "encoder.layers.encoder_layer_7.ln_1.weight\n",
            "encoder.layers.encoder_layer_7.ln_1.bias\n",
            "encoder.layers.encoder_layer_7.self_attention.in_proj_weight\n",
            "encoder.layers.encoder_layer_7.self_attention.in_proj_bias\n",
            "encoder.layers.encoder_layer_7.self_attention.out_proj.weight\n",
            "encoder.layers.encoder_layer_7.self_attention.out_proj.bias\n",
            "encoder.layers.encoder_layer_7.ln_2.weight\n",
            "encoder.layers.encoder_layer_7.ln_2.bias\n",
            "encoder.layers.encoder_layer_7.mlp.0.weight\n",
            "encoder.layers.encoder_layer_7.mlp.0.bias\n",
            "encoder.layers.encoder_layer_7.mlp.3.weight\n",
            "encoder.layers.encoder_layer_7.mlp.3.bias\n",
            "encoder.layers.encoder_layer_8.ln_1.weight\n",
            "encoder.layers.encoder_layer_8.ln_1.bias\n",
            "encoder.layers.encoder_layer_8.self_attention.in_proj_weight\n",
            "encoder.layers.encoder_layer_8.self_attention.in_proj_bias\n",
            "encoder.layers.encoder_layer_8.self_attention.out_proj.weight\n",
            "encoder.layers.encoder_layer_8.self_attention.out_proj.bias\n",
            "encoder.layers.encoder_layer_8.ln_2.weight\n",
            "encoder.layers.encoder_layer_8.ln_2.bias\n",
            "encoder.layers.encoder_layer_8.mlp.0.weight\n",
            "encoder.layers.encoder_layer_8.mlp.0.bias\n",
            "encoder.layers.encoder_layer_8.mlp.3.weight\n",
            "encoder.layers.encoder_layer_8.mlp.3.bias\n",
            "encoder.layers.encoder_layer_9.ln_1.weight\n",
            "encoder.layers.encoder_layer_9.ln_1.bias\n",
            "encoder.layers.encoder_layer_9.self_attention.in_proj_weight\n",
            "encoder.layers.encoder_layer_9.self_attention.in_proj_bias\n",
            "encoder.layers.encoder_layer_9.self_attention.out_proj.weight\n",
            "encoder.layers.encoder_layer_9.self_attention.out_proj.bias\n",
            "encoder.layers.encoder_layer_9.ln_2.weight\n",
            "encoder.layers.encoder_layer_9.ln_2.bias\n",
            "encoder.layers.encoder_layer_9.mlp.0.weight\n",
            "encoder.layers.encoder_layer_9.mlp.0.bias\n",
            "encoder.layers.encoder_layer_9.mlp.3.weight\n",
            "encoder.layers.encoder_layer_9.mlp.3.bias\n",
            "encoder.layers.encoder_layer_10.ln_1.weight\n",
            "encoder.layers.encoder_layer_10.ln_1.bias\n",
            "encoder.layers.encoder_layer_10.self_attention.in_proj_weight\n",
            "encoder.layers.encoder_layer_10.self_attention.in_proj_bias\n",
            "encoder.layers.encoder_layer_10.self_attention.out_proj.weight\n",
            "encoder.layers.encoder_layer_10.self_attention.out_proj.bias\n",
            "encoder.layers.encoder_layer_10.ln_2.weight\n",
            "encoder.layers.encoder_layer_10.ln_2.bias\n",
            "encoder.layers.encoder_layer_10.mlp.0.weight\n",
            "encoder.layers.encoder_layer_10.mlp.0.bias\n",
            "encoder.layers.encoder_layer_10.mlp.3.weight\n",
            "encoder.layers.encoder_layer_10.mlp.3.bias\n",
            "encoder.layers.encoder_layer_11.ln_1.weight\n",
            "encoder.layers.encoder_layer_11.ln_1.bias\n",
            "encoder.layers.encoder_layer_11.self_attention.in_proj_weight\n",
            "encoder.layers.encoder_layer_11.self_attention.in_proj_bias\n",
            "encoder.layers.encoder_layer_11.self_attention.out_proj.weight\n",
            "encoder.layers.encoder_layer_11.self_attention.out_proj.bias\n",
            "encoder.layers.encoder_layer_11.ln_2.weight\n",
            "encoder.layers.encoder_layer_11.ln_2.bias\n",
            "encoder.layers.encoder_layer_11.mlp.0.weight\n",
            "encoder.layers.encoder_layer_11.mlp.0.bias\n",
            "encoder.layers.encoder_layer_11.mlp.3.weight\n",
            "encoder.layers.encoder_layer_11.mlp.3.bias\n",
            "encoder.layers.encoder_layer_12.ln_1.weight\n",
            "encoder.layers.encoder_layer_12.ln_1.bias\n",
            "encoder.layers.encoder_layer_12.self_attention.in_proj_weight\n",
            "encoder.layers.encoder_layer_12.self_attention.in_proj_bias\n",
            "encoder.layers.encoder_layer_12.self_attention.out_proj.weight\n",
            "encoder.layers.encoder_layer_12.self_attention.out_proj.bias\n",
            "encoder.layers.encoder_layer_12.ln_2.weight\n",
            "encoder.layers.encoder_layer_12.ln_2.bias\n",
            "encoder.layers.encoder_layer_12.mlp.0.weight\n",
            "encoder.layers.encoder_layer_12.mlp.0.bias\n",
            "encoder.layers.encoder_layer_12.mlp.3.weight\n",
            "encoder.layers.encoder_layer_12.mlp.3.bias\n",
            "encoder.layers.encoder_layer_13.ln_1.weight\n",
            "encoder.layers.encoder_layer_13.ln_1.bias\n",
            "encoder.layers.encoder_layer_13.self_attention.in_proj_weight\n",
            "encoder.layers.encoder_layer_13.self_attention.in_proj_bias\n",
            "encoder.layers.encoder_layer_13.self_attention.out_proj.weight\n",
            "encoder.layers.encoder_layer_13.self_attention.out_proj.bias\n",
            "encoder.layers.encoder_layer_13.ln_2.weight\n",
            "encoder.layers.encoder_layer_13.ln_2.bias\n",
            "encoder.layers.encoder_layer_13.mlp.0.weight\n",
            "encoder.layers.encoder_layer_13.mlp.0.bias\n",
            "encoder.layers.encoder_layer_13.mlp.3.weight\n",
            "encoder.layers.encoder_layer_13.mlp.3.bias\n",
            "encoder.layers.encoder_layer_14.ln_1.weight\n",
            "encoder.layers.encoder_layer_14.ln_1.bias\n",
            "encoder.layers.encoder_layer_14.self_attention.in_proj_weight\n",
            "encoder.layers.encoder_layer_14.self_attention.in_proj_bias\n",
            "encoder.layers.encoder_layer_14.self_attention.out_proj.weight\n",
            "encoder.layers.encoder_layer_14.self_attention.out_proj.bias\n",
            "encoder.layers.encoder_layer_14.ln_2.weight\n",
            "encoder.layers.encoder_layer_14.ln_2.bias\n",
            "encoder.layers.encoder_layer_14.mlp.0.weight\n",
            "encoder.layers.encoder_layer_14.mlp.0.bias\n",
            "encoder.layers.encoder_layer_14.mlp.3.weight\n",
            "encoder.layers.encoder_layer_14.mlp.3.bias\n",
            "encoder.layers.encoder_layer_15.ln_1.weight\n",
            "encoder.layers.encoder_layer_15.ln_1.bias\n",
            "encoder.layers.encoder_layer_15.self_attention.in_proj_weight\n",
            "encoder.layers.encoder_layer_15.self_attention.in_proj_bias\n",
            "encoder.layers.encoder_layer_15.self_attention.out_proj.weight\n",
            "encoder.layers.encoder_layer_15.self_attention.out_proj.bias\n",
            "encoder.layers.encoder_layer_15.ln_2.weight\n",
            "encoder.layers.encoder_layer_15.ln_2.bias\n",
            "encoder.layers.encoder_layer_15.mlp.0.weight\n",
            "encoder.layers.encoder_layer_15.mlp.0.bias\n",
            "encoder.layers.encoder_layer_15.mlp.3.weight\n",
            "encoder.layers.encoder_layer_15.mlp.3.bias\n",
            "encoder.layers.encoder_layer_16.ln_1.weight\n",
            "encoder.layers.encoder_layer_16.ln_1.bias\n",
            "encoder.layers.encoder_layer_16.self_attention.in_proj_weight\n",
            "encoder.layers.encoder_layer_16.self_attention.in_proj_bias\n",
            "encoder.layers.encoder_layer_16.self_attention.out_proj.weight\n",
            "encoder.layers.encoder_layer_16.self_attention.out_proj.bias\n",
            "encoder.layers.encoder_layer_16.ln_2.weight\n",
            "encoder.layers.encoder_layer_16.ln_2.bias\n",
            "encoder.layers.encoder_layer_16.mlp.0.weight\n",
            "encoder.layers.encoder_layer_16.mlp.0.bias\n",
            "encoder.layers.encoder_layer_16.mlp.3.weight\n",
            "encoder.layers.encoder_layer_16.mlp.3.bias\n",
            "encoder.layers.encoder_layer_17.ln_1.weight\n",
            "encoder.layers.encoder_layer_17.ln_1.bias\n",
            "encoder.layers.encoder_layer_17.self_attention.in_proj_weight\n",
            "encoder.layers.encoder_layer_17.self_attention.in_proj_bias\n",
            "encoder.layers.encoder_layer_17.self_attention.out_proj.weight\n",
            "encoder.layers.encoder_layer_17.self_attention.out_proj.bias\n",
            "encoder.layers.encoder_layer_17.ln_2.weight\n",
            "encoder.layers.encoder_layer_17.ln_2.bias\n",
            "encoder.layers.encoder_layer_17.mlp.0.weight\n",
            "encoder.layers.encoder_layer_17.mlp.0.bias\n",
            "encoder.layers.encoder_layer_17.mlp.3.weight\n",
            "encoder.layers.encoder_layer_17.mlp.3.bias\n",
            "encoder.layers.encoder_layer_18.ln_1.weight\n",
            "encoder.layers.encoder_layer_18.ln_1.bias\n",
            "encoder.layers.encoder_layer_18.self_attention.in_proj_weight\n",
            "encoder.layers.encoder_layer_18.self_attention.in_proj_bias\n",
            "encoder.layers.encoder_layer_18.self_attention.out_proj.weight\n",
            "encoder.layers.encoder_layer_18.self_attention.out_proj.bias\n",
            "encoder.layers.encoder_layer_18.ln_2.weight\n",
            "encoder.layers.encoder_layer_18.ln_2.bias\n",
            "encoder.layers.encoder_layer_18.mlp.0.weight\n",
            "encoder.layers.encoder_layer_18.mlp.0.bias\n",
            "encoder.layers.encoder_layer_18.mlp.3.weight\n",
            "encoder.layers.encoder_layer_18.mlp.3.bias\n",
            "encoder.layers.encoder_layer_19.ln_1.weight\n",
            "encoder.layers.encoder_layer_19.ln_1.bias\n",
            "encoder.layers.encoder_layer_19.self_attention.in_proj_weight\n",
            "encoder.layers.encoder_layer_19.self_attention.in_proj_bias\n",
            "encoder.layers.encoder_layer_19.self_attention.out_proj.weight\n",
            "encoder.layers.encoder_layer_19.self_attention.out_proj.bias\n",
            "encoder.layers.encoder_layer_19.ln_2.weight\n",
            "encoder.layers.encoder_layer_19.ln_2.bias\n",
            "encoder.layers.encoder_layer_19.mlp.0.weight\n",
            "encoder.layers.encoder_layer_19.mlp.0.bias\n",
            "encoder.layers.encoder_layer_19.mlp.3.weight\n",
            "encoder.layers.encoder_layer_19.mlp.3.bias\n",
            "encoder.layers.encoder_layer_20.ln_1.weight\n",
            "encoder.layers.encoder_layer_20.ln_1.bias\n",
            "encoder.layers.encoder_layer_20.self_attention.in_proj_weight\n",
            "encoder.layers.encoder_layer_20.self_attention.in_proj_bias\n",
            "encoder.layers.encoder_layer_20.self_attention.out_proj.weight\n",
            "encoder.layers.encoder_layer_20.self_attention.out_proj.bias\n",
            "encoder.layers.encoder_layer_20.ln_2.weight\n",
            "encoder.layers.encoder_layer_20.ln_2.bias\n",
            "encoder.layers.encoder_layer_20.mlp.0.weight\n",
            "encoder.layers.encoder_layer_20.mlp.0.bias\n",
            "encoder.layers.encoder_layer_20.mlp.3.weight\n",
            "encoder.layers.encoder_layer_20.mlp.3.bias\n",
            "encoder.layers.encoder_layer_21.ln_1.weight\n",
            "encoder.layers.encoder_layer_21.ln_1.bias\n",
            "encoder.layers.encoder_layer_21.self_attention.in_proj_weight\n",
            "encoder.layers.encoder_layer_21.self_attention.in_proj_bias\n",
            "encoder.layers.encoder_layer_21.self_attention.out_proj.weight\n",
            "encoder.layers.encoder_layer_21.self_attention.out_proj.bias\n",
            "encoder.layers.encoder_layer_21.ln_2.weight\n",
            "encoder.layers.encoder_layer_21.ln_2.bias\n",
            "encoder.layers.encoder_layer_21.mlp.0.weight\n",
            "encoder.layers.encoder_layer_21.mlp.0.bias\n",
            "encoder.layers.encoder_layer_21.mlp.3.weight\n",
            "encoder.layers.encoder_layer_21.mlp.3.bias\n",
            "encoder.layers.encoder_layer_22.ln_1.weight\n",
            "encoder.layers.encoder_layer_22.ln_1.bias\n",
            "encoder.layers.encoder_layer_22.self_attention.in_proj_weight\n",
            "encoder.layers.encoder_layer_22.self_attention.in_proj_bias\n",
            "encoder.layers.encoder_layer_22.self_attention.out_proj.weight\n",
            "encoder.layers.encoder_layer_22.self_attention.out_proj.bias\n",
            "encoder.layers.encoder_layer_22.ln_2.weight\n",
            "encoder.layers.encoder_layer_22.ln_2.bias\n",
            "encoder.layers.encoder_layer_22.mlp.0.weight\n",
            "encoder.layers.encoder_layer_22.mlp.0.bias\n",
            "encoder.layers.encoder_layer_22.mlp.3.weight\n",
            "encoder.layers.encoder_layer_22.mlp.3.bias\n",
            "encoder.layers.encoder_layer_23.ln_1.weight\n",
            "encoder.layers.encoder_layer_23.ln_1.bias\n",
            "encoder.layers.encoder_layer_23.self_attention.in_proj_weight\n",
            "encoder.layers.encoder_layer_23.self_attention.in_proj_bias\n",
            "encoder.layers.encoder_layer_23.self_attention.out_proj.weight\n",
            "encoder.layers.encoder_layer_23.self_attention.out_proj.bias\n",
            "encoder.layers.encoder_layer_23.ln_2.weight\n",
            "encoder.layers.encoder_layer_23.ln_2.bias\n",
            "encoder.layers.encoder_layer_23.mlp.0.weight\n",
            "encoder.layers.encoder_layer_23.mlp.0.bias\n",
            "encoder.layers.encoder_layer_23.mlp.3.weight\n",
            "encoder.layers.encoder_layer_23.mlp.3.bias\n",
            "encoder.layers.encoder_layer_24.ln_1.weight\n",
            "encoder.layers.encoder_layer_24.ln_1.bias\n",
            "encoder.layers.encoder_layer_24.self_attention.in_proj_weight\n",
            "encoder.layers.encoder_layer_24.self_attention.in_proj_bias\n",
            "encoder.layers.encoder_layer_24.self_attention.out_proj.weight\n",
            "encoder.layers.encoder_layer_24.self_attention.out_proj.bias\n",
            "encoder.layers.encoder_layer_24.ln_2.weight\n",
            "encoder.layers.encoder_layer_24.ln_2.bias\n",
            "encoder.layers.encoder_layer_24.mlp.0.weight\n",
            "encoder.layers.encoder_layer_24.mlp.0.bias\n",
            "encoder.layers.encoder_layer_24.mlp.3.weight\n",
            "encoder.layers.encoder_layer_24.mlp.3.bias\n",
            "encoder.layers.encoder_layer_25.ln_1.weight\n",
            "encoder.layers.encoder_layer_25.ln_1.bias\n",
            "encoder.layers.encoder_layer_25.self_attention.in_proj_weight\n",
            "encoder.layers.encoder_layer_25.self_attention.in_proj_bias\n",
            "encoder.layers.encoder_layer_25.self_attention.out_proj.weight\n",
            "encoder.layers.encoder_layer_25.self_attention.out_proj.bias\n",
            "encoder.layers.encoder_layer_25.ln_2.weight\n",
            "encoder.layers.encoder_layer_25.ln_2.bias\n",
            "encoder.layers.encoder_layer_25.mlp.0.weight\n",
            "encoder.layers.encoder_layer_25.mlp.0.bias\n",
            "encoder.layers.encoder_layer_25.mlp.3.weight\n",
            "encoder.layers.encoder_layer_25.mlp.3.bias\n",
            "encoder.layers.encoder_layer_26.ln_1.weight\n",
            "encoder.layers.encoder_layer_26.ln_1.bias\n",
            "encoder.layers.encoder_layer_26.self_attention.in_proj_weight\n",
            "encoder.layers.encoder_layer_26.self_attention.in_proj_bias\n",
            "encoder.layers.encoder_layer_26.self_attention.out_proj.weight\n",
            "encoder.layers.encoder_layer_26.self_attention.out_proj.bias\n",
            "encoder.layers.encoder_layer_26.ln_2.weight\n",
            "encoder.layers.encoder_layer_26.ln_2.bias\n",
            "encoder.layers.encoder_layer_26.mlp.0.weight\n",
            "encoder.layers.encoder_layer_26.mlp.0.bias\n",
            "encoder.layers.encoder_layer_26.mlp.3.weight\n",
            "encoder.layers.encoder_layer_26.mlp.3.bias\n",
            "encoder.layers.encoder_layer_27.ln_1.weight\n",
            "encoder.layers.encoder_layer_27.ln_1.bias\n",
            "encoder.layers.encoder_layer_27.self_attention.in_proj_weight\n",
            "encoder.layers.encoder_layer_27.self_attention.in_proj_bias\n",
            "encoder.layers.encoder_layer_27.self_attention.out_proj.weight\n",
            "encoder.layers.encoder_layer_27.self_attention.out_proj.bias\n",
            "encoder.layers.encoder_layer_27.ln_2.weight\n",
            "encoder.layers.encoder_layer_27.ln_2.bias\n",
            "encoder.layers.encoder_layer_27.mlp.0.weight\n",
            "encoder.layers.encoder_layer_27.mlp.0.bias\n",
            "encoder.layers.encoder_layer_27.mlp.3.weight\n",
            "encoder.layers.encoder_layer_27.mlp.3.bias\n",
            "encoder.layers.encoder_layer_28.ln_1.weight\n",
            "encoder.layers.encoder_layer_28.ln_1.bias\n",
            "encoder.layers.encoder_layer_28.self_attention.in_proj_weight\n",
            "encoder.layers.encoder_layer_28.self_attention.in_proj_bias\n",
            "encoder.layers.encoder_layer_28.self_attention.out_proj.weight\n",
            "encoder.layers.encoder_layer_28.self_attention.out_proj.bias\n",
            "encoder.layers.encoder_layer_28.ln_2.weight\n",
            "encoder.layers.encoder_layer_28.ln_2.bias\n",
            "encoder.layers.encoder_layer_28.mlp.0.weight\n",
            "encoder.layers.encoder_layer_28.mlp.0.bias\n",
            "encoder.layers.encoder_layer_28.mlp.3.weight\n",
            "encoder.layers.encoder_layer_28.mlp.3.bias\n",
            "encoder.layers.encoder_layer_29.ln_1.weight\n",
            "encoder.layers.encoder_layer_29.ln_1.bias\n",
            "encoder.layers.encoder_layer_29.self_attention.in_proj_weight\n",
            "encoder.layers.encoder_layer_29.self_attention.in_proj_bias\n",
            "encoder.layers.encoder_layer_29.self_attention.out_proj.weight\n",
            "encoder.layers.encoder_layer_29.self_attention.out_proj.bias\n",
            "encoder.layers.encoder_layer_29.ln_2.weight\n",
            "encoder.layers.encoder_layer_29.ln_2.bias\n",
            "encoder.layers.encoder_layer_29.mlp.0.weight\n",
            "encoder.layers.encoder_layer_29.mlp.0.bias\n",
            "encoder.layers.encoder_layer_29.mlp.3.weight\n",
            "encoder.layers.encoder_layer_29.mlp.3.bias\n",
            "encoder.layers.encoder_layer_30.ln_1.weight\n",
            "encoder.layers.encoder_layer_30.ln_1.bias\n",
            "encoder.layers.encoder_layer_30.self_attention.in_proj_weight\n",
            "encoder.layers.encoder_layer_30.self_attention.in_proj_bias\n",
            "encoder.layers.encoder_layer_30.self_attention.out_proj.weight\n",
            "encoder.layers.encoder_layer_30.self_attention.out_proj.bias\n",
            "encoder.layers.encoder_layer_30.ln_2.weight\n",
            "encoder.layers.encoder_layer_30.ln_2.bias\n",
            "encoder.layers.encoder_layer_30.mlp.0.weight\n",
            "encoder.layers.encoder_layer_30.mlp.0.bias\n",
            "encoder.layers.encoder_layer_30.mlp.3.weight\n",
            "encoder.layers.encoder_layer_30.mlp.3.bias\n",
            "encoder.layers.encoder_layer_31.ln_1.weight\n",
            "encoder.layers.encoder_layer_31.ln_1.bias\n",
            "encoder.layers.encoder_layer_31.self_attention.in_proj_weight\n",
            "encoder.layers.encoder_layer_31.self_attention.in_proj_bias\n",
            "encoder.layers.encoder_layer_31.self_attention.out_proj.weight\n",
            "encoder.layers.encoder_layer_31.self_attention.out_proj.bias\n",
            "encoder.layers.encoder_layer_31.ln_2.weight\n",
            "encoder.layers.encoder_layer_31.ln_2.bias\n",
            "encoder.layers.encoder_layer_31.mlp.0.weight\n",
            "encoder.layers.encoder_layer_31.mlp.0.bias\n",
            "encoder.layers.encoder_layer_31.mlp.3.weight\n",
            "encoder.layers.encoder_layer_31.mlp.3.bias\n",
            "encoder.ln.weight\n",
            "encoder.ln.bias\n",
            "heads.head.weight\n",
            "heads.head.bias\n"
          ]
        }
      ]
    },
    {
      "cell_type": "code",
      "source": [],
      "metadata": {
        "id": "kBCNR-BAhnZE"
      },
      "execution_count": null,
      "outputs": []
    }
  ]
}